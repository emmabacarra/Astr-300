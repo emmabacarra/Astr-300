{
 "cells": [
  {
   "cell_type": "markdown",
   "metadata": {},
   "source": [
    "# Strings in (Monty) Python"
   ]
  },
  {
   "cell_type": "markdown",
   "metadata": {},
   "source": [
    "<p align=\"center\"> \n",
    "<img src=\"https://uwashington-astro300.github.io/A300_images/Spam.gif\" width = \"400\">\n",
    "</p>"
   ]
  },
  {
   "cell_type": "code",
   "execution_count": 150,
   "metadata": {
    "collapsed": false,
    "jupyter": {
     "outputs_hidden": false
    }
   },
   "outputs": [],
   "source": [
    "import numpy as np"
   ]
  },
  {
   "cell_type": "markdown",
   "metadata": {},
   "source": [
    "## Strings are just arrays [lists] of characters\n",
    "\n",
    "<p align=\"center\"> \n",
    "<img src=\"https://uwashington-astro300.github.io/A300_images/spam.png\" width=\"300\">\n",
    "</p>\n"
   ]
  },
  {
   "cell_type": "code",
   "execution_count": 151,
   "metadata": {
    "collapsed": false,
    "jupyter": {
     "outputs_hidden": false
    }
   },
   "outputs": [
    {
     "data": {
      "text/plain": [
       "'spam'"
      ]
     },
     "execution_count": 151,
     "metadata": {},
     "output_type": "execute_result"
    }
   ],
   "source": [
    "my_string = 'spam'\n",
    "\n",
    "my_string"
   ]
  },
  {
   "cell_type": "code",
   "execution_count": 152,
   "metadata": {},
   "outputs": [
    {
     "data": {
      "text/plain": [
       "4"
      ]
     },
     "execution_count": 152,
     "metadata": {},
     "output_type": "execute_result"
    }
   ],
   "source": [
    "len(my_string)"
   ]
  },
  {
   "cell_type": "code",
   "execution_count": 153,
   "metadata": {},
   "outputs": [
    {
     "data": {
      "text/plain": [
       "'s'"
      ]
     },
     "execution_count": 153,
     "metadata": {},
     "output_type": "execute_result"
    }
   ],
   "source": [
    "my_string[0]"
   ]
  },
  {
   "cell_type": "code",
   "execution_count": 154,
   "metadata": {},
   "outputs": [
    {
     "data": {
      "text/plain": [
       "'sp'"
      ]
     },
     "execution_count": 154,
     "metadata": {},
     "output_type": "execute_result"
    }
   ],
   "source": [
    "my_string[0:2]"
   ]
  },
  {
   "cell_type": "code",
   "execution_count": 155,
   "metadata": {
    "collapsed": false,
    "jupyter": {
     "outputs_hidden": false
    }
   },
   "outputs": [
    {
     "data": {
      "text/plain": [
       "'maps'"
      ]
     },
     "execution_count": 155,
     "metadata": {},
     "output_type": "execute_result"
    }
   ],
   "source": [
    "my_string[::-1]"
   ]
  },
  {
   "cell_type": "markdown",
   "metadata": {},
   "source": [
    "#### But unlike numerical arrays, you cannot reassign elements (immutable)"
   ]
  },
  {
   "cell_type": "code",
   "execution_count": 156,
   "metadata": {
    "collapsed": false,
    "jupyter": {
     "outputs_hidden": false
    }
   },
   "outputs": [],
   "source": [
    "#my_string[0] = 'S'"
   ]
  },
  {
   "cell_type": "markdown",
   "metadata": {},
   "source": [
    "#### Or do array-math-like stuff ..."
   ]
  },
  {
   "cell_type": "code",
   "execution_count": 157,
   "metadata": {
    "collapsed": false,
    "jupyter": {
     "outputs_hidden": false
    }
   },
   "outputs": [],
   "source": [
    "#my_string.sum()"
   ]
  },
  {
   "cell_type": "markdown",
   "metadata": {},
   "source": [
    "### A quick word about `'` vs. `\"`\n",
    "\n",
    "- Mostly does not matter\n",
    "- Do not mix them (i.e. `'sting\"`)\n",
    "- If you want to follow python coding standards\n",
    "  - Use single-quotes for strings\n",
    "  - Use use double-quotes for strings that are likely to contain single-quote characters as part of the string itself"
   ]
  },
  {
   "cell_type": "code",
   "execution_count": 158,
   "metadata": {},
   "outputs": [],
   "source": [
    "my_second_string = \"'another string'\""
   ]
  },
  {
   "cell_type": "code",
   "execution_count": 159,
   "metadata": {},
   "outputs": [
    {
     "data": {
      "text/plain": [
       "\"'another string'\""
      ]
     },
     "execution_count": 159,
     "metadata": {},
     "output_type": "execute_result"
    }
   ],
   "source": [
    "my_second_string"
   ]
  },
  {
   "cell_type": "code",
   "execution_count": 160,
   "metadata": {},
   "outputs": [],
   "source": [
    "my_trird_string = \"'Yet another string'\""
   ]
  },
  {
   "cell_type": "markdown",
   "metadata": {},
   "source": [
    "### \"Arithmetic\" with Strings (concatenate)"
   ]
  },
  {
   "cell_type": "code",
   "execution_count": 161,
   "metadata": {
    "collapsed": false,
    "jupyter": {
     "outputs_hidden": false
    }
   },
   "outputs": [
    {
     "data": {
      "text/plain": [
       "'spameggs'"
      ]
     },
     "execution_count": 161,
     "metadata": {},
     "output_type": "execute_result"
    }
   ],
   "source": [
    "my_string = 'spam'\n",
    "my_egg = 'eggs'\n",
    "\n",
    "my_string + my_egg"
   ]
  },
  {
   "cell_type": "code",
   "execution_count": 162,
   "metadata": {
    "collapsed": false,
    "jupyter": {
     "outputs_hidden": false
    }
   },
   "outputs": [
    {
     "data": {
      "text/plain": [
       "'spam eggs'"
      ]
     },
     "execution_count": 162,
     "metadata": {},
     "output_type": "execute_result"
    }
   ],
   "source": [
    "my_string + \" \" + my_egg"
   ]
  },
  {
   "cell_type": "code",
   "execution_count": 163,
   "metadata": {
    "collapsed": false,
    "jupyter": {
     "outputs_hidden": false
    }
   },
   "outputs": [
    {
     "data": {
      "text/plain": [
       "'spam spam spam spam eggs'"
      ]
     },
     "execution_count": 163,
     "metadata": {},
     "output_type": "execute_result"
    }
   ],
   "source": [
    "4 * (my_string + \" \") + my_egg"
   ]
  },
  {
   "cell_type": "code",
   "execution_count": 164,
   "metadata": {
    "collapsed": false,
    "jupyter": {
     "outputs_hidden": false
    }
   },
   "outputs": [
    {
     "name": "stdout",
     "output_type": "stream",
     "text": [
      "spam spam spam spam spam and\n",
      "eggs\n"
     ]
    }
   ],
   "source": [
    "print(4 * (my_string + \" \") + my_string + ' and\\n' + my_egg)     # use \\n to get a newline with the print function"
   ]
  },
  {
   "cell_type": "markdown",
   "metadata": {},
   "source": [
    "### String operators and comparisons\n",
    "\n",
    "* String comparison is performed using the characters in both strings.\n",
    "* The characters in both strings are compared one by one (from left to right).\n",
    "* When different characters are found then their [Unicode](https://en.wikipedia.org/wiki/List_of_Unicode_characters#Basic_Latin) value is compared.\n",
    "* The character with lower [Unicode](https://en.wikipedia.org/wiki/List_of_Unicode_characters#Basic_Latin) value is considered to be smaller."
   ]
  },
  {
   "cell_type": "code",
   "execution_count": 165,
   "metadata": {
    "collapsed": false,
    "jupyter": {
     "outputs_hidden": false
    }
   },
   "outputs": [
    {
     "data": {
      "text/plain": [
       "False"
      ]
     },
     "execution_count": 165,
     "metadata": {},
     "output_type": "execute_result"
    }
   ],
   "source": [
    "'spam' == 'good'"
   ]
  },
  {
   "cell_type": "code",
   "execution_count": 166,
   "metadata": {
    "collapsed": false,
    "jupyter": {
     "outputs_hidden": false
    }
   },
   "outputs": [
    {
     "data": {
      "text/plain": [
       "True"
      ]
     },
     "execution_count": 166,
     "metadata": {},
     "output_type": "execute_result"
    }
   ],
   "source": [
    "'spam' != \"good\""
   ]
  },
  {
   "cell_type": "code",
   "execution_count": 167,
   "metadata": {
    "collapsed": false,
    "jupyter": {
     "outputs_hidden": false
    }
   },
   "outputs": [
    {
     "data": {
      "text/plain": [
       "True"
      ]
     },
     "execution_count": 167,
     "metadata": {},
     "output_type": "execute_result"
    }
   ],
   "source": [
    "'spam' == 'spam'"
   ]
  },
  {
   "cell_type": "code",
   "execution_count": 168,
   "metadata": {
    "collapsed": false,
    "jupyter": {
     "outputs_hidden": false
    }
   },
   "outputs": [
    {
     "data": {
      "text/plain": [
       "False"
      ]
     },
     "execution_count": 168,
     "metadata": {},
     "output_type": "execute_result"
    }
   ],
   "source": [
    "'spam' < 'eggs'"
   ]
  },
  {
   "cell_type": "code",
   "execution_count": 169,
   "metadata": {
    "collapsed": false,
    "jupyter": {
     "outputs_hidden": false
    }
   },
   "outputs": [
    {
     "data": {
      "text/plain": [
       "True"
      ]
     },
     "execution_count": 169,
     "metadata": {},
     "output_type": "execute_result"
    }
   ],
   "source": [
    "'sp' < 'spam'"
   ]
  },
  {
   "cell_type": "code",
   "execution_count": 170,
   "metadata": {},
   "outputs": [
    {
     "data": {
      "text/plain": [
       "True"
      ]
     },
     "execution_count": 170,
     "metadata": {},
     "output_type": "execute_result"
    }
   ],
   "source": [
    "'spam_one' < 'spam_t'"
   ]
  },
  {
   "cell_type": "code",
   "execution_count": 171,
   "metadata": {
    "collapsed": false,
    "jupyter": {
     "outputs_hidden": false
    }
   },
   "outputs": [
    {
     "data": {
      "text/plain": [
       "True"
      ]
     },
     "execution_count": 171,
     "metadata": {},
     "output_type": "execute_result"
    }
   ],
   "source": [
    "'sp' in 'spam'"
   ]
  },
  {
   "cell_type": "code",
   "execution_count": 172,
   "metadata": {
    "collapsed": false,
    "jupyter": {
     "outputs_hidden": false
    }
   },
   "outputs": [
    {
     "data": {
      "text/plain": [
       "False"
      ]
     },
     "execution_count": 172,
     "metadata": {},
     "output_type": "execute_result"
    }
   ],
   "source": [
    "'sp' not in 'spam'"
   ]
  },
  {
   "cell_type": "code",
   "execution_count": 173,
   "metadata": {
    "collapsed": false,
    "jupyter": {
     "outputs_hidden": false
    }
   },
   "outputs": [
    {
     "data": {
      "text/plain": [
       "True"
      ]
     },
     "execution_count": 173,
     "metadata": {},
     "output_type": "execute_result"
    }
   ],
   "source": [
    "my_string.isalpha()"
   ]
  },
  {
   "cell_type": "code",
   "execution_count": 174,
   "metadata": {
    "collapsed": false,
    "jupyter": {
     "outputs_hidden": false
    }
   },
   "outputs": [
    {
     "data": {
      "text/plain": [
       "False"
      ]
     },
     "execution_count": 174,
     "metadata": {},
     "output_type": "execute_result"
    }
   ],
   "source": [
    "my_string.isdigit()"
   ]
  },
  {
   "cell_type": "code",
   "execution_count": 175,
   "metadata": {
    "collapsed": false,
    "jupyter": {
     "outputs_hidden": false
    }
   },
   "outputs": [
    {
     "data": {
      "text/plain": [
       "False"
      ]
     },
     "execution_count": 175,
     "metadata": {},
     "output_type": "execute_result"
    }
   ],
   "source": [
    "my_string.isspace()"
   ]
  },
  {
   "cell_type": "markdown",
   "metadata": {},
   "source": [
    "----\n",
    "\n",
    "## Python supports `Unicode` characters\n",
    "\n",
    "<img src=\"https://uwashington-astro300.github.io/A300_images/Oui.gif\" width=\"300\"/>\n",
    "\n",
    "You can enter `unicode` characters directly from the keyboard (depends on your operating system), or you can use the `ASCII` encoding. \n",
    "\n",
    "[Unicode - ASCII encoding list](https://en.wikipedia.org/wiki/List_of_Unicode_characters).\n",
    "\n",
    "For example the `ASCII` ecoding for the greek capital omega is `U+03A9`, so you can create the character with `\\U000003A9`"
   ]
  },
  {
   "cell_type": "code",
   "execution_count": 176,
   "metadata": {
    "collapsed": false,
    "jupyter": {
     "outputs_hidden": false
    }
   },
   "outputs": [
    {
     "name": "stdout",
     "output_type": "stream",
     "text": [
      "Spam has an electrical resistance of greater than 100 MΩ\n"
     ]
    }
   ],
   "source": [
    "my_resistor = 'Spam has an electrical resistance of greater than 100 M\\U000003A9'\n",
    "\n",
    "print(my_resistor)"
   ]
  },
  {
   "cell_type": "markdown",
   "metadata": {},
   "source": [
    "#### These characters can be used as variable names"
   ]
  },
  {
   "cell_type": "code",
   "execution_count": 177,
   "metadata": {
    "collapsed": false,
    "jupyter": {
     "outputs_hidden": false
    }
   },
   "outputs": [
    {
     "data": {
      "text/plain": [
       "314159265.3589793"
      ]
     },
     "execution_count": 177,
     "metadata": {},
     "output_type": "execute_result"
    }
   ],
   "source": [
    "Ω = 100e6\n",
    "\n",
    "Ω * np.pi"
   ]
  },
  {
   "cell_type": "markdown",
   "metadata": {},
   "source": [
    "### I like to cut and paste from [Symbol Salad](https://symbolsalad.com/)"
   ]
  },
  {
   "cell_type": "markdown",
   "metadata": {},
   "source": [
    "### Python supports (almost) all characters from international keyboards\n",
    "\n",
    "<p align=\"center\"> \n",
    "<img src=\"https://uwashington-astro300.github.io/A300_images/GrailTitle.jpg\">\n",
    "</p>"
   ]
  },
  {
   "cell_type": "code",
   "execution_count": 178,
   "metadata": {},
   "outputs": [
    {
     "data": {
      "text/plain": [
       "'Mønti Pythøn ik den Hølie Gräilen'"
      ]
     },
     "execution_count": 178,
     "metadata": {},
     "output_type": "execute_result"
    }
   ],
   "source": [
    "movie_title ='Mønti Pythøn ik den Hølie Gräilen'\n",
    "\n",
    "movie_title"
   ]
  },
  {
   "cell_type": "markdown",
   "metadata": {},
   "source": [
    "### [Emoji](https://en.wikipedia.org/wiki/Emoji) are unicode characters, so you can use them a well (not all OSs will show all characters!)"
   ]
  },
  {
   "cell_type": "code",
   "execution_count": 179,
   "metadata": {
    "collapsed": false,
    "jupyter": {
     "outputs_hidden": false
    }
   },
   "outputs": [
    {
     "name": "stdout",
     "output_type": "stream",
     "text": [
      "☢☢☢☢☢ 😉😉😉\n"
     ]
    }
   ],
   "source": [
    "radio_active = '\\U00002622'\n",
    "wink = '\\U0001F609'\n",
    "\n",
    "print((radio_active * 5) + \" \" + (wink * 3))"
   ]
  },
  {
   "cell_type": "markdown",
   "metadata": {},
   "source": [
    "### Emoji can not be used as variable names (at least not yet ...)"
   ]
  },
  {
   "cell_type": "code",
   "execution_count": 180,
   "metadata": {
    "collapsed": false,
    "jupyter": {
     "outputs_hidden": false
    }
   },
   "outputs": [],
   "source": [
    "#☢ = 2.345"
   ]
  },
  {
   "cell_type": "markdown",
   "metadata": {},
   "source": [
    "### Raw strings - `r\" \"`\n",
    " * Sometime you do not want python to interpret anything in the string\n",
    " * You can do this by adding a \"r\" to the front of the string"
   ]
  },
  {
   "cell_type": "code",
   "execution_count": 181,
   "metadata": {
    "collapsed": false,
    "jupyter": {
     "outputs_hidden": false
    }
   },
   "outputs": [
    {
     "name": "stdout",
     "output_type": "stream",
     "text": [
      "Spam has an electrical resistance of greater than 100 M\\U000003A9\n"
     ]
    }
   ],
   "source": [
    "my_resistor = r'Spam has an electrical resistance of greater than 100 M\\U000003A9'\n",
    "\n",
    "print(my_resistor)"
   ]
  },
  {
   "cell_type": "markdown",
   "metadata": {},
   "source": [
    "### Watch out for variable types! "
   ]
  },
  {
   "cell_type": "code",
   "execution_count": 182,
   "metadata": {
    "collapsed": false,
    "jupyter": {
     "outputs_hidden": false
    }
   },
   "outputs": [],
   "source": [
    "# n = 42\n",
    "\n",
    "# print('I would like ' + n + ' orders of spam')"
   ]
  },
  {
   "cell_type": "markdown",
   "metadata": {},
   "source": [
    "----\n",
    "\n",
    "# Python `f-string` formatting"
   ]
  },
  {
   "cell_type": "code",
   "execution_count": 183,
   "metadata": {
    "collapsed": false,
    "jupyter": {
     "outputs_hidden": false
    }
   },
   "outputs": [],
   "source": [
    "my_a = 42\n",
    "my_b = 1.23456\n",
    "my_c = True\n",
    "my_d = 'spam'"
   ]
  },
  {
   "cell_type": "code",
   "execution_count": 184,
   "metadata": {
    "collapsed": false,
    "jupyter": {
     "outputs_hidden": false
    }
   },
   "outputs": [
    {
     "data": {
      "text/plain": [
       "(int, float, bool, str)"
      ]
     },
     "execution_count": 184,
     "metadata": {},
     "output_type": "execute_result"
    }
   ],
   "source": [
    "type(my_a), type(my_b), type(my_c), type(my_d)"
   ]
  },
  {
   "cell_type": "code",
   "execution_count": 185,
   "metadata": {
    "collapsed": false,
    "jupyter": {
     "outputs_hidden": false
    }
   },
   "outputs": [
    {
     "data": {
      "text/plain": [
       "'I would like 42 orders of spam'"
      ]
     },
     "execution_count": 185,
     "metadata": {},
     "output_type": "execute_result"
    }
   ],
   "source": [
    "f\"I would like {my_a} orders of {my_d}\""
   ]
  },
  {
   "cell_type": "code",
   "execution_count": 186,
   "metadata": {
    "collapsed": false,
    "jupyter": {
     "outputs_hidden": false
    }
   },
   "outputs": [
    {
     "name": "stdout",
     "output_type": "stream",
     "text": [
      "I would like 42 orders of spam\n"
     ]
    }
   ],
   "source": [
    "my_output = f\"I would like {my_a} orders of {my_d}\"\n",
    "\n",
    "print(my_output)"
   ]
  },
  {
   "cell_type": "raw",
   "metadata": {},
   "source": [
    "Format Types\n",
    "\n",
    "d = Integer decimal                g = Floating point format (Uses exponential format if exponent is less than -4)\n",
    "f = Floating point decimal         x = hex\n",
    "s = String                         o = octal\n",
    "e = Floating point exponential     b = binary"
   ]
  },
  {
   "cell_type": "code",
   "execution_count": 187,
   "metadata": {
    "collapsed": false,
    "jupyter": {
     "outputs_hidden": false
    }
   },
   "outputs": [
    {
     "data": {
      "text/plain": [
       "'The float 1.23456 can be printed with only two places after the decimal: 1.23'"
      ]
     },
     "execution_count": 187,
     "metadata": {},
     "output_type": "execute_result"
    }
   ],
   "source": [
    "f\"The float {my_b} can be printed with only two places after the decimal: {my_b:.2f}\""
   ]
  },
  {
   "cell_type": "code",
   "execution_count": 188,
   "metadata": {
    "collapsed": false,
    "jupyter": {
     "outputs_hidden": false
    }
   },
   "outputs": [
    {
     "data": {
      "text/plain": [
       "'The integer 42 can be printed in hex: 2a, octal: 52, or binary: 101010'"
      ]
     },
     "execution_count": 188,
     "metadata": {},
     "output_type": "execute_result"
    }
   ],
   "source": [
    "f\"The integer {my_a} can be printed in hex: {my_a:x}, octal: {my_a:o}, or binary: {my_a:b}\""
   ]
  },
  {
   "cell_type": "code",
   "execution_count": 189,
   "metadata": {
    "collapsed": false,
    "jupyter": {
     "outputs_hidden": false
    }
   },
   "outputs": [
    {
     "data": {
      "text/plain": [
       "'The value True as a float: 1.000000'"
      ]
     },
     "execution_count": 189,
     "metadata": {},
     "output_type": "execute_result"
    }
   ],
   "source": [
    "f\"The value {my_c} as a float: {my_c:f}\""
   ]
  },
  {
   "cell_type": "code",
   "execution_count": 190,
   "metadata": {
    "collapsed": false,
    "jupyter": {
     "outputs_hidden": false
    }
   },
   "outputs": [
    {
     "data": {
      "text/plain": [
       "'The value True as an integer: 1'"
      ]
     },
     "execution_count": 190,
     "metadata": {},
     "output_type": "execute_result"
    }
   ],
   "source": [
    "f\"The value {my_c} as an integer: {my_c:d}\""
   ]
  },
  {
   "cell_type": "markdown",
   "metadata": {},
   "source": [
    "### You can use doc-strings `\"\"\"` for long strings"
   ]
  },
  {
   "cell_type": "code",
   "execution_count": 191,
   "metadata": {
    "tags": []
   },
   "outputs": [
    {
     "name": "stdout",
     "output_type": "stream",
     "text": [
      "\n",
      "Well, there's egg and bacon; egg sausage and bacon; egg and spam;\n",
      "egg bacon and spam; egg bacon sausage and spam; spam bacon sausage\n",
      "and spam; spam egg spam spam bacon and spam; spam sausage spam spam\n",
      "bacon spam tomato and spam\n",
      "\n"
     ]
    }
   ],
   "source": [
    "another_long_string = f\"\"\"\n",
    "Well, there's egg and bacon; egg sausage and bacon; egg and {my_d};\n",
    "egg bacon and {my_d}; egg bacon sausage and {my_d}; {my_d} bacon sausage\n",
    "and {my_d}; {my_d} egg {my_d} {my_d} bacon and {my_d}; {my_d} sausage {my_d} {my_d}\n",
    "bacon {my_d} tomato and {my_d}\n",
    "\"\"\"\n",
    "\n",
    "print(another_long_string)"
   ]
  },
  {
   "cell_type": "markdown",
   "metadata": {},
   "source": [
    "### You can use math expressions in `{variables}`"
   ]
  },
  {
   "cell_type": "code",
   "execution_count": 192,
   "metadata": {
    "collapsed": false,
    "jupyter": {
     "outputs_hidden": false
    }
   },
   "outputs": [
    {
     "data": {
      "text/plain": [
       "'The number 1.23456 times 1000 in scientific notation: 1.23e+03'"
      ]
     },
     "execution_count": 192,
     "metadata": {},
     "output_type": "execute_result"
    }
   ],
   "source": [
    "f\"The number {my_b} times 1000 in scientific notation: {my_b * 1000 :.2e}\""
   ]
  },
  {
   "cell_type": "markdown",
   "metadata": {},
   "source": [
    "----\n",
    "\n",
    "# Who are you who are so wise in the ways of science?\n",
    "\n",
    "<img  src=\"https://uwashington-astro300.github.io/A300_images/Witch.gif\" width=\"300\"/>\n",
    "\n",
    "## Tables, For-Loops, and Formatting ..."
   ]
  },
  {
   "cell_type": "code",
   "execution_count": 193,
   "metadata": {
    "collapsed": false,
    "jupyter": {
     "outputs_hidden": false
    },
    "tags": []
   },
   "outputs": [],
   "source": [
    "from astropy.table import QTable"
   ]
  },
  {
   "cell_type": "code",
   "execution_count": 194,
   "metadata": {
    "collapsed": false,
    "jupyter": {
     "outputs_hidden": false
    },
    "tags": []
   },
   "outputs": [],
   "source": [
    "witch_table = QTable.read('https://uwashington-astro300.github.io/A300_Data/Witches.csv', format='ascii.csv')"
   ]
  },
  {
   "cell_type": "code",
   "execution_count": 195,
   "metadata": {
    "collapsed": false,
    "jupyter": {
     "outputs_hidden": false
    }
   },
   "outputs": [
    {
     "name": "stdout",
     "output_type": "stream",
     "text": [
      "Object Density Does_It_Float\n",
      "------ ------- -------------\n",
      "  Wood    0.43           Yes\n",
      " Bread    0.21           Yes\n",
      " Apple    0.92           Yes\n",
      "Cherry    0.53           Yes\n",
      "  Duck    0.87           Yes\n",
      " Witch    0.98           Yes\n"
     ]
    }
   ],
   "source": [
    "print(witch_table)"
   ]
  },
  {
   "cell_type": "markdown",
   "metadata": {},
   "source": [
    "### Just Rows"
   ]
  },
  {
   "cell_type": "code",
   "execution_count": 196,
   "metadata": {
    "collapsed": false,
    "jupyter": {
     "outputs_hidden": false
    }
   },
   "outputs": [
    {
     "name": "stdout",
     "output_type": "stream",
     "text": [
      "The object Wood and has a density of 0.43 g/cc\n",
      "The object Bread and has a density of 0.21 g/cc\n",
      "The object Apple and has a density of 0.92 g/cc\n",
      "The object Cherry and has a density of 0.53 g/cc\n",
      "The object Duck and has a density of 0.87 g/cc\n",
      "The object Witch and has a density of 0.98 g/cc\n"
     ]
    }
   ],
   "source": [
    "for my_row in witch_table:\n",
    "    \n",
    "    my_out_string = (f\"The object {my_row['Object']} and has a density of {my_row['Density']} g/cc\")\n",
    "    \n",
    "    print(my_out_string)"
   ]
  },
  {
   "cell_type": "markdown",
   "metadata": {},
   "source": [
    "### Index and Rows"
   ]
  },
  {
   "cell_type": "code",
   "execution_count": 197,
   "metadata": {},
   "outputs": [
    {
     "name": "stdout",
     "output_type": "stream",
     "text": [
      "The object at Index 0 in position 1 is Wood\n",
      "The object at Index 1 in position 2 is Bread\n",
      "The object at Index 2 in position 3 is Apple\n",
      "The object at Index 3 in position 4 is Cherry\n",
      "The object at Index 4 in position 5 is Duck\n",
      "The object at Index 5 in position 6 is Witch\n"
     ]
    }
   ],
   "source": [
    "for my_index, my_row in enumerate(witch_table):\n",
    "    \n",
    "    my_out_string = (f\"The object at Index {my_index} in position {my_index + 1} is {my_row['Object']}\")\n",
    "    \n",
    "    print(my_out_string)"
   ]
  },
  {
   "cell_type": "markdown",
   "metadata": {},
   "source": [
    "#### Long strings\n",
    "\n",
    "* When output string get long, you can break them into separate f-strings\n",
    "* Put () around the separate f-strings "
   ]
  },
  {
   "cell_type": "code",
   "execution_count": 198,
   "metadata": {},
   "outputs": [
    {
     "name": "stdout",
     "output_type": "stream",
     "text": [
      "The object at Index 0 is Wood and has a density of 0.43 g/cc\n",
      "The object at Index 1 is Bread and has a density of 0.21 g/cc\n",
      "The object at Index 2 is Apple and has a density of 0.92 g/cc\n",
      "The object at Index 3 is Cherry and has a density of 0.53 g/cc\n",
      "The object at Index 4 is Duck and has a density of 0.87 g/cc\n",
      "The object at Index 5 is Witch and has a density of 0.98 g/cc\n"
     ]
    }
   ],
   "source": [
    "for my_index, my_row in enumerate(witch_table):\n",
    "    \n",
    "    my_out_string = (\n",
    "        f\"The object at Index {my_index} is \"\n",
    "        f\"{my_row['Object']} and has a density of \"\n",
    "        f\"{my_row['Density']} g/cc\"\n",
    "    )\n",
    "    \n",
    "    print(my_out_string)"
   ]
  },
  {
   "cell_type": "markdown",
   "metadata": {},
   "source": [
    "#### Padding - `{Variable:N}`\n",
    "\n",
    "* `{my_row['Object']:8}` - the variable `my_row['Object']` in 8 spaces\n",
    "* `{my_row['Density']:5.1f}` - the variable `my_row['Density']` in 5 spaces with 1 decimal place"
   ]
  },
  {
   "cell_type": "code",
   "execution_count": 199,
   "metadata": {
    "collapsed": false,
    "jupyter": {
     "outputs_hidden": false
    }
   },
   "outputs": [
    {
     "name": "stdout",
     "output_type": "stream",
     "text": [
      "The object Wood     and has a density of   0.4 g/cc\n",
      "The object Bread    and has a density of   0.2 g/cc\n",
      "The object Apple    and has a density of   0.9 g/cc\n",
      "The object Cherry   and has a density of   0.5 g/cc\n",
      "The object Duck     and has a density of   0.9 g/cc\n",
      "The object Witch    and has a density of   1.0 g/cc\n"
     ]
    }
   ],
   "source": [
    "for my_row in witch_table:\n",
    "    \n",
    "    my_out_string = (\n",
    "        f\"The object {my_row['Object']:8} \"             \n",
    "        f\"and has a density of {my_row['Density']:5.1f} g/cc\"\n",
    "    )\n",
    "    \n",
    "    print(my_out_string)"
   ]
  },
  {
   "cell_type": "markdown",
   "metadata": {},
   "source": [
    "#### Justified Strings - `{Variable:>N}`\n",
    "\n",
    "* By default, the strings are justified to the left, number to the right.\n",
    "* Use the `>` character to right-justify, and `<` to the left justify.\n",
    "* `{my_row['Object']:>8}` - the variable `my_row['Object']` right-justified in 8 spaces\n",
    "* `{my_row['Density']:<5.1f}` - the variable `my_row['Density']` left-justified in 5 spaces with 1 decimal place."
   ]
  },
  {
   "cell_type": "code",
   "execution_count": 200,
   "metadata": {
    "collapsed": false,
    "jupyter": {
     "outputs_hidden": false
    }
   },
   "outputs": [
    {
     "name": "stdout",
     "output_type": "stream",
     "text": [
      "The object      Wood and has a density of 0.4   g/cc\n",
      "The object     Bread and has a density of 0.2   g/cc\n",
      "The object     Apple and has a density of 0.9   g/cc\n",
      "The object    Cherry and has a density of 0.5   g/cc\n",
      "The object      Duck and has a density of 0.9   g/cc\n",
      "The object     Witch and has a density of 1.0   g/cc\n"
     ]
    }
   ],
   "source": [
    "for my_row in witch_table:\n",
    "    \n",
    "    my_out_string = (\n",
    "        f\"The object  {my_row['Object']:>8} \"\n",
    "        f\"and has a density of {my_row['Density']:<5.1f} g/cc\"\n",
    "    )\n",
    "    \n",
    "    print(my_out_string)"
   ]
  },
  {
   "cell_type": "markdown",
   "metadata": {},
   "source": [
    "----\n",
    "\n",
    "## Python has lots of built-in [String Methods](https://docs.python.org/3/library/stdtypes.html#string-methods).\n",
    "\n",
    "<p align=\"center\"> \n",
    "<img src=\"https://uwashington-astro300.github.io/A300_images/Hovercraft.gif\">\n",
    "</p>"
   ]
  },
  {
   "cell_type": "code",
   "execution_count": 201,
   "metadata": {
    "collapsed": false,
    "jupyter": {
     "outputs_hidden": false
    }
   },
   "outputs": [
    {
     "data": {
      "text/plain": [
       "'My hovercraft is full of eels'"
      ]
     },
     "execution_count": 201,
     "metadata": {},
     "output_type": "execute_result"
    }
   ],
   "source": [
    "my_line = 'My hovercraft is full of eels'\n",
    "\n",
    "my_line"
   ]
  },
  {
   "cell_type": "markdown",
   "metadata": {},
   "source": [
    "### Find\n",
    "\n",
    "* Returns the index of the first occurrence of the argument in the string\n",
    "* Returns -1 if nothing is found"
   ]
  },
  {
   "cell_type": "code",
   "execution_count": 202,
   "metadata": {},
   "outputs": [
    {
     "data": {
      "text/plain": [
       "7"
      ]
     },
     "execution_count": 202,
     "metadata": {},
     "output_type": "execute_result"
    }
   ],
   "source": [
    "my_line.find('r')"
   ]
  },
  {
   "cell_type": "code",
   "execution_count": 203,
   "metadata": {},
   "outputs": [
    {
     "data": {
      "text/plain": [
       "'r'"
      ]
     },
     "execution_count": 203,
     "metadata": {},
     "output_type": "execute_result"
    }
   ],
   "source": [
    "my_line[7]"
   ]
  },
  {
   "cell_type": "code",
   "execution_count": 204,
   "metadata": {},
   "outputs": [
    {
     "data": {
      "text/plain": [
       "-1"
      ]
     },
     "execution_count": 204,
     "metadata": {},
     "output_type": "execute_result"
    }
   ],
   "source": [
    "my_line.find('Z')"
   ]
  },
  {
   "cell_type": "markdown",
   "metadata": {},
   "source": [
    "### Find and Replace"
   ]
  },
  {
   "cell_type": "code",
   "execution_count": 205,
   "metadata": {
    "collapsed": false,
    "jupyter": {
     "outputs_hidden": false
    }
   },
   "outputs": [
    {
     "data": {
      "text/plain": [
       "'My hovercraft has no wheels'"
      ]
     },
     "execution_count": 205,
     "metadata": {},
     "output_type": "execute_result"
    }
   ],
   "source": [
    "my_line.replace('is full of eels', 'has no wheels')"
   ]
  },
  {
   "cell_type": "markdown",
   "metadata": {},
   "source": [
    "### Justification and Cleaning"
   ]
  },
  {
   "cell_type": "code",
   "execution_count": 206,
   "metadata": {
    "collapsed": false,
    "jupyter": {
     "outputs_hidden": false
    }
   },
   "outputs": [
    {
     "data": {
      "text/plain": [
       "'                                   My hovercraft is full of eels                                    '"
      ]
     },
     "execution_count": 206,
     "metadata": {},
     "output_type": "execute_result"
    }
   ],
   "source": [
    "my_line.center(100)"
   ]
  },
  {
   "cell_type": "code",
   "execution_count": 207,
   "metadata": {
    "collapsed": false,
    "jupyter": {
     "outputs_hidden": false
    }
   },
   "outputs": [
    {
     "data": {
      "text/plain": [
       "'My hovercraft is full of eels                                                                       '"
      ]
     },
     "execution_count": 207,
     "metadata": {},
     "output_type": "execute_result"
    }
   ],
   "source": [
    "my_line.ljust(100)"
   ]
  },
  {
   "cell_type": "code",
   "execution_count": 208,
   "metadata": {
    "collapsed": false,
    "jupyter": {
     "outputs_hidden": false
    }
   },
   "outputs": [
    {
     "data": {
      "text/plain": [
       "'***********************************************************************My hovercraft is full of eels'"
      ]
     },
     "execution_count": 208,
     "metadata": {},
     "output_type": "execute_result"
    }
   ],
   "source": [
    "my_line.rjust(100, '*')"
   ]
  },
  {
   "cell_type": "code",
   "execution_count": 209,
   "metadata": {
    "collapsed": false,
    "jupyter": {
     "outputs_hidden": false
    }
   },
   "outputs": [
    {
     "data": {
      "text/plain": [
       "'            My hovercraft is full of eels      '"
      ]
     },
     "execution_count": 209,
     "metadata": {},
     "output_type": "execute_result"
    }
   ],
   "source": [
    "my_line_two = '            My hovercraft is full of eels      '\n",
    "\n",
    "my_line_two"
   ]
  },
  {
   "cell_type": "code",
   "execution_count": 210,
   "metadata": {
    "collapsed": false,
    "jupyter": {
     "outputs_hidden": false
    }
   },
   "outputs": [
    {
     "data": {
      "text/plain": [
       "'My hovercraft is full of eels'"
      ]
     },
     "execution_count": 210,
     "metadata": {},
     "output_type": "execute_result"
    }
   ],
   "source": [
    "my_line_two.strip()"
   ]
  },
  {
   "cell_type": "markdown",
   "metadata": {},
   "source": [
    "### Splitting"
   ]
  },
  {
   "cell_type": "code",
   "execution_count": 211,
   "metadata": {
    "collapsed": false,
    "jupyter": {
     "outputs_hidden": false
    }
   },
   "outputs": [
    {
     "data": {
      "text/plain": [
       "['My', 'hovercraft', 'is', 'full', 'of', 'eels']"
      ]
     },
     "execution_count": 211,
     "metadata": {},
     "output_type": "execute_result"
    }
   ],
   "source": [
    "my_line.split()"
   ]
  },
  {
   "cell_type": "code",
   "execution_count": 212,
   "metadata": {},
   "outputs": [
    {
     "data": {
      "text/plain": [
       "'hovercraft'"
      ]
     },
     "execution_count": 212,
     "metadata": {},
     "output_type": "execute_result"
    }
   ],
   "source": [
    "my_line.split()[1]"
   ]
  },
  {
   "cell_type": "code",
   "execution_count": 213,
   "metadata": {},
   "outputs": [
    {
     "data": {
      "text/plain": [
       "('My hovercraft ', 'is', ' full of eels')"
      ]
     },
     "execution_count": 213,
     "metadata": {},
     "output_type": "execute_result"
    }
   ],
   "source": [
    "my_line.partition('is')"
   ]
  },
  {
   "cell_type": "markdown",
   "metadata": {},
   "source": [
    "### Joining\n",
    "\n",
    "* `string.join(list)`\n",
    "* `string` - the string you want to put between all of the elements of `list`"
   ]
  },
  {
   "cell_type": "code",
   "execution_count": 214,
   "metadata": {
    "collapsed": false,
    "jupyter": {
     "outputs_hidden": false
    }
   },
   "outputs": [
    {
     "data": {
      "text/plain": [
       "'My___hovercraft___is___full___of___eels'"
      ]
     },
     "execution_count": 214,
     "metadata": {},
     "output_type": "execute_result"
    }
   ],
   "source": [
    "'___'.join(my_line.split())"
   ]
  },
  {
   "cell_type": "code",
   "execution_count": 215,
   "metadata": {},
   "outputs": [
    {
     "data": {
      "text/plain": [
       "'My hovercraft ☢is☢ full of eels'"
      ]
     },
     "execution_count": 215,
     "metadata": {},
     "output_type": "execute_result"
    }
   ],
   "source": [
    "'☢'.join(my_line.partition('is'))"
   ]
  },
  {
   "cell_type": "code",
   "execution_count": 216,
   "metadata": {
    "collapsed": false,
    "jupyter": {
     "outputs_hidden": false
    }
   },
   "outputs": [
    {
     "data": {
      "text/plain": [
       "'Eels of full is hovercraft my'"
      ]
     },
     "execution_count": 216,
     "metadata": {},
     "output_type": "execute_result"
    }
   ],
   "source": [
    "' '.join(my_line.split()[::-1]).capitalize()"
   ]
  },
  {
   "cell_type": "markdown",
   "metadata": {},
   "source": [
    "### Line Formatting"
   ]
  },
  {
   "cell_type": "code",
   "execution_count": 217,
   "metadata": {
    "collapsed": false,
    "jupyter": {
     "outputs_hidden": false
    }
   },
   "outputs": [
    {
     "data": {
      "text/plain": [
       "'mY hoVErCRaft iS fUlL oF eEELS'"
      ]
     },
     "execution_count": 217,
     "metadata": {},
     "output_type": "execute_result"
    }
   ],
   "source": [
    "my_anotherline = 'mY hoVErCRaft iS fUlL oF eEELS'\n",
    "\n",
    "my_anotherline"
   ]
  },
  {
   "cell_type": "code",
   "execution_count": 218,
   "metadata": {
    "collapsed": false,
    "jupyter": {
     "outputs_hidden": false
    }
   },
   "outputs": [
    {
     "data": {
      "text/plain": [
       "'MY HOVERCRAFT IS FULL OF EEELS'"
      ]
     },
     "execution_count": 218,
     "metadata": {},
     "output_type": "execute_result"
    }
   ],
   "source": [
    "my_anotherline.upper()"
   ]
  },
  {
   "cell_type": "code",
   "execution_count": 219,
   "metadata": {
    "collapsed": false,
    "jupyter": {
     "outputs_hidden": false
    }
   },
   "outputs": [
    {
     "data": {
      "text/plain": [
       "'my hovercraft is full of eeels'"
      ]
     },
     "execution_count": 219,
     "metadata": {},
     "output_type": "execute_result"
    }
   ],
   "source": [
    "my_anotherline.lower()"
   ]
  },
  {
   "cell_type": "code",
   "execution_count": 220,
   "metadata": {
    "collapsed": false,
    "jupyter": {
     "outputs_hidden": false
    }
   },
   "outputs": [
    {
     "data": {
      "text/plain": [
       "'My Hovercraft Is Full Of Eeels'"
      ]
     },
     "execution_count": 220,
     "metadata": {},
     "output_type": "execute_result"
    }
   ],
   "source": [
    "my_anotherline.title()"
   ]
  },
  {
   "cell_type": "code",
   "execution_count": 221,
   "metadata": {
    "collapsed": false,
    "jupyter": {
     "outputs_hidden": false
    }
   },
   "outputs": [
    {
     "data": {
      "text/plain": [
       "'My hovercraft is full of eeels'"
      ]
     },
     "execution_count": 221,
     "metadata": {},
     "output_type": "execute_result"
    }
   ],
   "source": [
    "my_anotherline.capitalize()"
   ]
  },
  {
   "cell_type": "code",
   "execution_count": 222,
   "metadata": {
    "collapsed": false,
    "jupyter": {
     "outputs_hidden": false
    }
   },
   "outputs": [
    {
     "data": {
      "text/plain": [
       "'My HOveRcrAFT Is FuLl Of Eeels'"
      ]
     },
     "execution_count": 222,
     "metadata": {},
     "output_type": "execute_result"
    }
   ],
   "source": [
    "my_anotherline.swapcase()"
   ]
  },
  {
   "cell_type": "code",
   "execution_count": 223,
   "metadata": {
    "collapsed": false,
    "jupyter": {
     "outputs_hidden": false
    }
   },
   "outputs": [
    {
     "data": {
      "text/plain": [
       "'mY h4V7rCR1ft 3S fUlL 4F 277LS'"
      ]
     },
     "execution_count": 223,
     "metadata": {},
     "output_type": "execute_result"
    }
   ],
   "source": [
    "translation = my_anotherline.maketrans('aeiouE', '123457')\n",
    "\n",
    "my_anotherline.translate(translation)"
   ]
  },
  {
   "cell_type": "markdown",
   "metadata": {},
   "source": [
    "### One last For-Loop thing\n",
    "\n",
    "<p align=\"center\"> \n",
    "<img src=\"https://uwashington-astro300.github.io/A300_images//RunAway.gif\">\n",
    "</p>"
   ]
  },
  {
   "cell_type": "code",
   "execution_count": 224,
   "metadata": {},
   "outputs": [
    {
     "name": "stdout",
     "output_type": "stream",
     "text": [
      "m Y   h o V E r C R a f t   i S   f U l L   o F   e E E L S "
     ]
    }
   ],
   "source": [
    "for char in my_anotherline: \n",
    "    print(char, end=' ') "
   ]
  },
  {
   "cell_type": "code",
   "execution_count": 225,
   "metadata": {},
   "outputs": [],
   "source": [
    "import time"
   ]
  },
  {
   "cell_type": "code",
   "execution_count": 226,
   "metadata": {},
   "outputs": [
    {
     "name": "stdout",
     "output_type": "stream",
     "text": [
      "m***Y*** ***h***o***V***E***r***C***R***a***f***t*** ***i***S*** ***f***U***l***L*** ***o***F*** ***e***E***E***L***S***"
     ]
    }
   ],
   "source": [
    "for char in my_anotherline: \n",
    "    print(char, end='***')\n",
    "    time.sleep(.25)       # seconds"
   ]
  },
  {
   "cell_type": "markdown",
   "metadata": {},
   "source": [
    "### Anything Else?"
   ]
  },
  {
   "cell_type": "markdown",
   "metadata": {},
   "source": [
    "<p align=\"center\"> \n",
    "<img src=\"https://uwashington-astro300.github.io/A300_images/NotReally.gif\">\n",
    "</p>"
   ]
  },
  {
   "cell_type": "code",
   "execution_count": null,
   "metadata": {},
   "outputs": [],
   "source": []
  }
 ],
 "metadata": {
  "kernelspec": {
   "display_name": "Python 3 (ipykernel)",
   "language": "python",
   "name": "python3"
  },
  "language_info": {
   "codemirror_mode": {
    "name": "ipython",
    "version": 3
   },
   "file_extension": ".py",
   "mimetype": "text/x-python",
   "name": "python",
   "nbconvert_exporter": "python",
   "pygments_lexer": "ipython3",
   "version": "3.10.13"
  }
 },
 "nbformat": 4,
 "nbformat_minor": 4
}
