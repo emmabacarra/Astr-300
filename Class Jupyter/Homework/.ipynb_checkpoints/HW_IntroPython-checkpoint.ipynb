{
 "cells": [
  {
   "cell_type": "markdown",
   "metadata": {},
   "source": [
    "## Introduction to Python\n",
    "\n",
    " * [numpy Math functions](https://docs.scipy.org/doc/numpy/reference/routines.math.html)\n",
    " * [numpy Statistical functions](https://numpy.org/doc/stable/reference/routines.statistics.html)"
   ]
  },
  {
   "cell_type": "code",
   "execution_count": 33,
   "metadata": {
    "collapsed": false,
    "jupyter": {
     "outputs_hidden": false
    }
   },
   "outputs": [],
   "source": [
    "import numpy as np"
   ]
  },
  {
   "cell_type": "markdown",
   "metadata": {},
   "source": [
    "### Create an array called: `abs_mag`\n",
    "* 100 evenly spaced point between -5.0 and 10.0"
   ]
  },
  {
   "cell_type": "code",
   "execution_count": 34,
   "metadata": {
    "collapsed": false,
    "jupyter": {
     "outputs_hidden": false
    }
   },
   "outputs": [
    {
     "data": {
      "text/plain": [
       "array([-5.        , -4.84848485, -4.6969697 , -4.54545455, -4.39393939,\n",
       "       -4.24242424, -4.09090909, -3.93939394, -3.78787879, -3.63636364,\n",
       "       -3.48484848, -3.33333333, -3.18181818, -3.03030303, -2.87878788,\n",
       "       -2.72727273, -2.57575758, -2.42424242, -2.27272727, -2.12121212,\n",
       "       -1.96969697, -1.81818182, -1.66666667, -1.51515152, -1.36363636,\n",
       "       -1.21212121, -1.06060606, -0.90909091, -0.75757576, -0.60606061,\n",
       "       -0.45454545, -0.3030303 , -0.15151515,  0.        ,  0.15151515,\n",
       "        0.3030303 ,  0.45454545,  0.60606061,  0.75757576,  0.90909091,\n",
       "        1.06060606,  1.21212121,  1.36363636,  1.51515152,  1.66666667,\n",
       "        1.81818182,  1.96969697,  2.12121212,  2.27272727,  2.42424242,\n",
       "        2.57575758,  2.72727273,  2.87878788,  3.03030303,  3.18181818,\n",
       "        3.33333333,  3.48484848,  3.63636364,  3.78787879,  3.93939394,\n",
       "        4.09090909,  4.24242424,  4.39393939,  4.54545455,  4.6969697 ,\n",
       "        4.84848485,  5.        ,  5.15151515,  5.3030303 ,  5.45454545,\n",
       "        5.60606061,  5.75757576,  5.90909091,  6.06060606,  6.21212121,\n",
       "        6.36363636,  6.51515152,  6.66666667,  6.81818182,  6.96969697,\n",
       "        7.12121212,  7.27272727,  7.42424242,  7.57575758,  7.72727273,\n",
       "        7.87878788,  8.03030303,  8.18181818,  8.33333333,  8.48484848,\n",
       "        8.63636364,  8.78787879,  8.93939394,  9.09090909,  9.24242424,\n",
       "        9.39393939,  9.54545455,  9.6969697 ,  9.84848485, 10.        ])"
      ]
     },
     "execution_count": 34,
     "metadata": {},
     "output_type": "execute_result"
    }
   ],
   "source": [
    "abs_mag = np.linspace(-5, 10, 100)\n",
    "\n",
    "abs_mag"
   ]
  },
  {
   "cell_type": "markdown",
   "metadata": {},
   "source": [
    "### Write an expression to compute:\n",
    "\n",
    "$$ \\large \n",
    "5\\log _{10}\\left({\\frac {50}{10}}\\right) + \\mathrm{abs\\_mag}\n",
    "$$\n",
    "\n",
    "- Pay attention to the type of logarithm!\n",
    "- Call the output array: `app_mag_50`"
   ]
  },
  {
   "cell_type": "code",
   "execution_count": 35,
   "metadata": {
    "collapsed": false,
    "jupyter": {
     "outputs_hidden": false
    }
   },
   "outputs": [
    {
     "data": {
      "text/plain": [
       "array([-1.50514998e+00, -1.35363483e+00, -1.20211968e+00, -1.05060452e+00,\n",
       "       -8.99089372e-01, -7.47574221e-01, -5.96059069e-01, -4.44543918e-01,\n",
       "       -2.93028766e-01, -1.41513615e-01,  1.00015368e-02,  1.61516688e-01,\n",
       "        3.13031840e-01,  4.64546991e-01,  6.16062143e-01,  7.67577294e-01,\n",
       "        9.19092446e-01,  1.07060760e+00,  1.22212275e+00,  1.37363790e+00,\n",
       "        1.52515305e+00,  1.67666820e+00,  1.82818336e+00,  1.97969851e+00,\n",
       "        2.13121366e+00,  2.28272881e+00,  2.43424396e+00,  2.58575911e+00,\n",
       "        2.73727426e+00,  2.88878942e+00,  3.04030457e+00,  3.19181972e+00,\n",
       "        3.34333487e+00,  3.49485002e+00,  3.64636517e+00,  3.79788032e+00,\n",
       "        3.94939548e+00,  4.10091063e+00,  4.25242578e+00,  4.40394093e+00,\n",
       "        4.55545608e+00,  4.70697123e+00,  4.85848639e+00,  5.01000154e+00,\n",
       "        5.16151669e+00,  5.31303184e+00,  5.46454699e+00,  5.61606214e+00,\n",
       "        5.76757729e+00,  5.91909245e+00,  6.07060760e+00,  6.22212275e+00,\n",
       "        6.37363790e+00,  6.52515305e+00,  6.67666820e+00,  6.82818336e+00,\n",
       "        6.97969851e+00,  7.13121366e+00,  7.28272881e+00,  7.43424396e+00,\n",
       "        7.58575911e+00,  7.73727426e+00,  7.88878942e+00,  8.04030457e+00,\n",
       "        8.19181972e+00,  8.34333487e+00,  8.49485002e+00,  8.64636517e+00,\n",
       "        8.79788032e+00,  8.94939548e+00,  9.10091063e+00,  9.25242578e+00,\n",
       "        9.40394093e+00,  9.55545608e+00,  9.70697123e+00,  9.85848639e+00,\n",
       "        1.00100015e+01,  1.01615167e+01,  1.03130318e+01,  1.04645470e+01,\n",
       "        1.06160621e+01,  1.07675773e+01,  1.09190924e+01,  1.10706076e+01,\n",
       "        1.12221227e+01,  1.13736379e+01,  1.15251531e+01,  1.16766682e+01,\n",
       "        1.18281834e+01,  1.19796985e+01,  1.21312137e+01,  1.22827288e+01,\n",
       "        1.24342440e+01,  1.25857591e+01,  1.27372743e+01,  1.28887894e+01,\n",
       "        1.30403046e+01,  1.31918197e+01,  1.33433349e+01,  1.34948500e+01])"
      ]
     },
     "execution_count": 35,
     "metadata": {},
     "output_type": "execute_result"
    }
   ],
   "source": [
    "app_mag_50 = 5*np.log10(50/10) + abs_mag\n",
    "app_mag_50"
   ]
  },
  {
   "cell_type": "markdown",
   "metadata": {},
   "source": [
    "### What is the *AVERAGE* of the values in `app_mag_50`"
   ]
  },
  {
   "cell_type": "code",
   "execution_count": 36,
   "metadata": {},
   "outputs": [
    {
     "data": {
      "text/plain": [
       "5.994850021680095"
      ]
     },
     "execution_count": 36,
     "metadata": {},
     "output_type": "execute_result"
    }
   ],
   "source": [
    "np.mean(app_mag_50)"
   ]
  },
  {
   "cell_type": "markdown",
   "metadata": {},
   "source": [
    "### How many values of `app_mag_50` are less than 6.0?"
   ]
  },
  {
   "cell_type": "code",
   "execution_count": 37,
   "metadata": {},
   "outputs": [
    {
     "data": {
      "text/plain": [
       "50"
      ]
     },
     "execution_count": 37,
     "metadata": {},
     "output_type": "execute_result"
    }
   ],
   "source": [
    "len(app_mag_50[app_mag_50<6])"
   ]
  },
  {
   "cell_type": "markdown",
   "metadata": {},
   "source": [
    "### How many values of `app_mag_50` are between 2.0 and 4.0?"
   ]
  },
  {
   "cell_type": "code",
   "execution_count": 38,
   "metadata": {},
   "outputs": [
    {
     "data": {
      "text/plain": [
       "13"
      ]
     },
     "execution_count": 38,
     "metadata": {},
     "output_type": "execute_result"
    }
   ],
   "source": [
    "len(app_mag_50[(app_mag_50 > 2) & (app_mag_50 < 4)])"
   ]
  },
  {
   "cell_type": "markdown",
   "metadata": {},
   "source": [
    "### Write an expression to compute:\n",
    "\n",
    "$$ \\large \n",
    "5\\log _{10}\\left({\\frac {500}{10}}\\right) + \\mathrm{abs\\_mag}\n",
    "$$\n",
    "\n",
    "* Call the output array: `app_mag_500`"
   ]
  },
  {
   "cell_type": "code",
   "execution_count": 39,
   "metadata": {},
   "outputs": [
    {
     "data": {
      "text/plain": [
       "array([ 3.49485002,  3.64636517,  3.79788032,  3.94939548,  4.10091063,\n",
       "        4.25242578,  4.40394093,  4.55545608,  4.70697123,  4.85848639,\n",
       "        5.01000154,  5.16151669,  5.31303184,  5.46454699,  5.61606214,\n",
       "        5.76757729,  5.91909245,  6.0706076 ,  6.22212275,  6.3736379 ,\n",
       "        6.52515305,  6.6766682 ,  6.82818336,  6.97969851,  7.13121366,\n",
       "        7.28272881,  7.43424396,  7.58575911,  7.73727426,  7.88878942,\n",
       "        8.04030457,  8.19181972,  8.34333487,  8.49485002,  8.64636517,\n",
       "        8.79788032,  8.94939548,  9.10091063,  9.25242578,  9.40394093,\n",
       "        9.55545608,  9.70697123,  9.85848639, 10.01000154, 10.16151669,\n",
       "       10.31303184, 10.46454699, 10.61606214, 10.76757729, 10.91909245,\n",
       "       11.0706076 , 11.22212275, 11.3736379 , 11.52515305, 11.6766682 ,\n",
       "       11.82818336, 11.97969851, 12.13121366, 12.28272881, 12.43424396,\n",
       "       12.58575911, 12.73727426, 12.88878942, 13.04030457, 13.19181972,\n",
       "       13.34333487, 13.49485002, 13.64636517, 13.79788032, 13.94939548,\n",
       "       14.10091063, 14.25242578, 14.40394093, 14.55545608, 14.70697123,\n",
       "       14.85848639, 15.01000154, 15.16151669, 15.31303184, 15.46454699,\n",
       "       15.61606214, 15.76757729, 15.91909245, 16.0706076 , 16.22212275,\n",
       "       16.3736379 , 16.52515305, 16.6766682 , 16.82818336, 16.97969851,\n",
       "       17.13121366, 17.28272881, 17.43424396, 17.58575911, 17.73727426,\n",
       "       17.88878942, 18.04030457, 18.19181972, 18.34333487, 18.49485002])"
      ]
     },
     "execution_count": 39,
     "metadata": {},
     "output_type": "execute_result"
    }
   ],
   "source": [
    "app_mag_500 = 5*np.log10(500/10) + abs_mag\n",
    "app_mag_500"
   ]
  },
  {
   "cell_type": "markdown",
   "metadata": {},
   "source": [
    "### What is the *MEDIAN* of the values in `app_mag_500`"
   ]
  },
  {
   "cell_type": "code",
   "execution_count": 40,
   "metadata": {},
   "outputs": [
    {
     "data": {
      "text/plain": [
       "10.994850021680094"
      ]
     },
     "execution_count": 40,
     "metadata": {},
     "output_type": "execute_result"
    }
   ],
   "source": [
    "np.median(app_mag_500)"
   ]
  },
  {
   "cell_type": "markdown",
   "metadata": {},
   "source": [
    "### How many values of `app_mag_500` are less than 6.0?"
   ]
  },
  {
   "cell_type": "code",
   "execution_count": 41,
   "metadata": {},
   "outputs": [
    {
     "data": {
      "text/plain": [
       "17"
      ]
     },
     "execution_count": 41,
     "metadata": {},
     "output_type": "execute_result"
    }
   ],
   "source": [
    "len(app_mag_500[app_mag_500 < 6])"
   ]
  },
  {
   "cell_type": "markdown",
   "metadata": {},
   "source": [
    "### How many values of `app_mag_500` are between 11.0 and 14.0?"
   ]
  },
  {
   "cell_type": "code",
   "execution_count": 42,
   "metadata": {},
   "outputs": [
    {
     "data": {
      "text/plain": [
       "20"
      ]
     },
     "execution_count": 42,
     "metadata": {},
     "output_type": "execute_result"
    }
   ],
   "source": [
    "len(app_mag_500[(app_mag_500 > 11) & (app_mag_500 < 14)])"
   ]
  },
  {
   "cell_type": "markdown",
   "metadata": {},
   "source": [
    "### Write an expression to compute:\n",
    "\n",
    "$$ \\large \n",
    "3.26 \\times 10^{\\mathrm{\\,X}}\n",
    "$$\n",
    "\n",
    "#### Where\n",
    "\n",
    "$$ \\large \n",
    "X =  \\frac{11\\, -\\, \\mathrm{abs\\_mag}}{5}\n",
    "$$\n",
    "\n",
    "\n",
    "* Call the output array: `dim_distance`"
   ]
  },
  {
   "cell_type": "code",
   "execution_count": 43,
   "metadata": {},
   "outputs": [
    {
     "data": {
      "text/plain": [
       "array([799.76048443, 775.88883656, 752.72972149, 730.26187118,\n",
       "       708.46465242, 687.31804786, 666.80263765, 646.89958159,\n",
       "       627.59060182, 608.85796606, 590.68447131, 573.05342805,\n",
       "       555.94864492, 539.35441385, 523.25549562, 507.63710589,\n",
       "       492.48490162, 477.78496785, 463.523805  , 449.68831642,\n",
       "       436.26579637, 423.24391836, 410.61072383, 398.35461116,\n",
       "       386.46432502, 374.92894604, 363.73788078, 352.88085199,\n",
       "       342.34788919, 332.12931948, 322.21575872, 312.59810283,\n",
       "       303.26751952, 294.21544008, 285.43355161, 276.9137893 ,\n",
       "       268.64832908, 260.62958042, 252.85017935, 245.30298171,\n",
       "       237.98105657, 230.87767988, 223.98632831, 217.30067321,\n",
       "       210.81457487, 204.52207681, 198.41740036, 192.49493932,\n",
       "       186.74925483, 181.17507039, 175.76726697, 170.52087835,\n",
       "       165.43108655, 160.49321737, 155.70273617, 151.05524362,\n",
       "       146.54647174, 142.17227992, 137.92865115, 133.81168832,\n",
       "       129.81761063, 125.94275016, 122.18354845, 118.53655325,\n",
       "       114.99841538, 111.56588561, 108.23581168, 105.00513546,\n",
       "       101.87089006,  98.83019717,  95.8802644 ,  93.01838268,\n",
       "        90.24192383,  87.5483381 ,  84.93515185,  82.39996529,\n",
       "        79.94045023,  77.55434799,  75.23946733,  72.99368236,\n",
       "        70.8149307 ,  68.70121151,  66.65058365,  64.66116395,\n",
       "        62.73112544,  60.85869567,  59.04215512,  57.27983557,\n",
       "        55.57011861,  53.91143413,  52.30225889,  50.74111511,\n",
       "        49.22656912,  47.75723005,  46.33174855,  44.94881552,\n",
       "        43.60716097,  42.30555279,  41.04279565,  39.81772992])"
      ]
     },
     "execution_count": 43,
     "metadata": {},
     "output_type": "execute_result"
    }
   ],
   "source": [
    "dim_distance = 3.26 * (10*np.exp((11-abs_mag)/5))\n",
    "dim_distance"
   ]
  },
  {
   "cell_type": "markdown",
   "metadata": {},
   "source": [
    "### What fraction of the values of `dim_distance` are greater than 10?"
   ]
  },
  {
   "cell_type": "code",
   "execution_count": 44,
   "metadata": {},
   "outputs": [
    {
     "data": {
      "text/plain": [
       "1.0"
      ]
     },
     "execution_count": 44,
     "metadata": {},
     "output_type": "execute_result"
    }
   ],
   "source": [
    "len(dim_distance[dim_distance > 10]) / len(dim_distance)"
   ]
  },
  {
   "cell_type": "markdown",
   "metadata": {},
   "source": [
    "### What fraction of the values of `dim_distance` are greater than 100?"
   ]
  },
  {
   "cell_type": "code",
   "execution_count": 45,
   "metadata": {},
   "outputs": [
    {
     "data": {
      "text/plain": [
       "0.69"
      ]
     },
     "execution_count": 45,
     "metadata": {},
     "output_type": "execute_result"
    }
   ],
   "source": [
    "len(dim_distance[dim_distance > 100]) / len(dim_distance)"
   ]
  },
  {
   "cell_type": "markdown",
   "metadata": {},
   "source": [
    "### What fraction of the values of `dim_distance` are greater than 1000?"
   ]
  },
  {
   "cell_type": "code",
   "execution_count": 46,
   "metadata": {},
   "outputs": [
    {
     "data": {
      "text/plain": [
       "0.0"
      ]
     },
     "execution_count": 46,
     "metadata": {},
     "output_type": "execute_result"
    }
   ],
   "source": [
    "len(dim_distance[dim_distance > 1000]) / len(dim_distance)"
   ]
  },
  {
   "cell_type": "markdown",
   "metadata": {},
   "source": [
    "### Due Wed Jan 10 - 1 pm\n",
    "\n",
    "- Export notebook as .html: `File -> Save and Export Notebook as -> HTML`\n",
    "- Upload `.html` file to Canvas"
   ]
  },
  {
   "cell_type": "code",
   "execution_count": null,
   "metadata": {},
   "outputs": [],
   "source": []
  }
 ],
 "metadata": {
  "anaconda-cloud": {},
  "kernelspec": {
   "display_name": "Python 3 (ipykernel)",
   "language": "python",
   "name": "python3"
  },
  "language_info": {
   "codemirror_mode": {
    "name": "ipython",
    "version": 3
   },
   "file_extension": ".py",
   "mimetype": "text/x-python",
   "name": "python",
   "nbconvert_exporter": "python",
   "pygments_lexer": "ipython3",
   "version": "3.10.13"
  }
 },
 "nbformat": 4,
 "nbformat_minor": 4
}
