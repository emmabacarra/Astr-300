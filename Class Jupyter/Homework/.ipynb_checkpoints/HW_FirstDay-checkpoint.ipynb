{
 "cells": [
  {
   "cell_type": "markdown",
   "id": "5a4510a0-6471-40f4-a788-eb56256893b3",
   "metadata": {},
   "source": [
    "## Check your assignments for comments! \n",
    "\n",
    "I try to grade assignments as soon I see them on Canvas. If your assignment needs corrections, I will set your score for that assignment to 1, I found that if I did not put in a low score, people ignored the comments. My intention is to give you a chance to correct your assignment. So if you did not get full credit, or have comments, correct and resubmit your assignment. You don't even need to change the name of the submitted file, just resubmit using the same name. Canvas always shows me the latest version.\n",
    "\n",
    "You can resubmit as many times as you want to up until the assignment deadline.\n",
    "\n",
    "This is to encourage you to turn in the assignment early! The sooner you turn the assignment in, the more time you have to make corrections. If you wait until just before the deadline, you will not have an opportunity to improve your score."
   ]
  },
  {
   "cell_type": "code",
   "execution_count": null,
   "id": "ae2dab2e-9aa9-4111-90b7-5042ae1a2218",
   "metadata": {},
   "outputs": [],
   "source": []
  }
 ],
 "metadata": {
  "kernelspec": {
   "display_name": "Python 3 (ipykernel)",
   "language": "python",
   "name": "python3"
  },
  "language_info": {
   "codemirror_mode": {
    "name": "ipython",
    "version": 3
   },
   "file_extension": ".py",
   "mimetype": "text/x-python",
   "name": "python",
   "nbconvert_exporter": "python",
   "pygments_lexer": "ipython3",
   "version": "3.10.10"
  }
 },
 "nbformat": 4,
 "nbformat_minor": 5
}
