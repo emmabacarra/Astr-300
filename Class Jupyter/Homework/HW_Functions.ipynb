{
 "cells": [
  {
   "cell_type": "markdown",
   "metadata": {},
   "source": [
    "# Python Functions/QTable Homework\n",
    "\n",
    "### For variable/function names, use these guidelines:\n",
    "\n",
    "- use only lowercase letters [a-z] and underscores [ _ ]\n",
    "- no blank spaces between the characters\n",
    "- avoid using a single character as a variable/function name\n",
    "- The purpose of the variable/function should be obvious from its name\n",
    "- All function should be called with keywords. For example:\n",
    "\n",
    "```\n",
    "find_position(\n",
    "    my_velocity = 10.0, \n",
    "    my_time = 10\n",
    ")\n",
    "```"
   ]
  },
  {
   "cell_type": "code",
   "execution_count": 39,
   "metadata": {
    "collapsed": false,
    "jupyter": {
     "outputs_hidden": false
    }
   },
   "outputs": [],
   "source": [
    "import numpy as np\n",
    "from astropy.table import QTable, Column\n",
    "import astropy.units as u"
   ]
  },
  {
   "cell_type": "markdown",
   "metadata": {},
   "source": [
    "# Part I"
   ]
  },
  {
   "cell_type": "markdown",
   "metadata": {
    "tags": []
   },
   "source": [
    "### Write a function that computes the [volume of a sphere](https://en.wikipedia.org/wiki/Sphere#Enclosed_volume)"
   ]
  },
  {
   "cell_type": "code",
   "execution_count": 40,
   "metadata": {},
   "outputs": [],
   "source": [
    "def volsph(radius):\n",
    "    print((4/3)*np.pi*(radius**3))\n",
    "    "
   ]
  },
  {
   "cell_type": "markdown",
   "metadata": {},
   "source": [
    "### Use the function to find the volume of a sphere with a radius = 42"
   ]
  },
  {
   "cell_type": "code",
   "execution_count": 41,
   "metadata": {
    "scrolled": true
   },
   "outputs": [
    {
     "name": "stdout",
     "output_type": "stream",
     "text": [
      "310339.0886922141\n"
     ]
    }
   ],
   "source": [
    "volsph(radius = 42)"
   ]
  },
  {
   "cell_type": "markdown",
   "metadata": {},
   "source": [
    "### Use the function to find the volume of a sphere with a radius = 0.42"
   ]
  },
  {
   "cell_type": "code",
   "execution_count": 42,
   "metadata": {},
   "outputs": [
    {
     "name": "stdout",
     "output_type": "stream",
     "text": [
      "0.31033908869221405\n"
     ]
    }
   ],
   "source": [
    "volsph(radius = 0.42)"
   ]
  },
  {
   "cell_type": "markdown",
   "metadata": {
    "tags": []
   },
   "source": [
    "### Write a function that computes the [kinetic energy](https://en.wikipedia.org/wiki/Kinetic_energy#Newtonian_kinetic_energy) of an object."
   ]
  },
  {
   "cell_type": "code",
   "execution_count": 43,
   "metadata": {},
   "outputs": [],
   "source": [
    "def ken(m, v):\n",
    "    print((1/2)*m*(v**2))"
   ]
  },
  {
   "cell_type": "markdown",
   "metadata": {},
   "source": [
    "### Use the function to find the kinetic energy of an object of mass 42 and velocity 0.42"
   ]
  },
  {
   "cell_type": "code",
   "execution_count": 44,
   "metadata": {},
   "outputs": [
    {
     "name": "stdout",
     "output_type": "stream",
     "text": [
      "3.7043999999999992\n"
     ]
    }
   ],
   "source": [
    "ken(\n",
    "    m = 42, \n",
    "    v = 0.42\n",
    ")"
   ]
  },
  {
   "cell_type": "markdown",
   "metadata": {},
   "source": [
    "### Use the function to find the kinetic energy of an object of mass 0.42 and velocity 42"
   ]
  },
  {
   "cell_type": "code",
   "execution_count": 45,
   "metadata": {},
   "outputs": [
    {
     "name": "stdout",
     "output_type": "stream",
     "text": [
      "370.44\n"
     ]
    }
   ],
   "source": [
    "ken(\n",
    "    m = 0.42, \n",
    "    v = 42\n",
    ")"
   ]
  },
  {
   "cell_type": "markdown",
   "metadata": {},
   "source": [
    "---\n",
    "# Part II"
   ]
  },
  {
   "cell_type": "markdown",
   "metadata": {
    "tags": []
   },
   "source": [
    "### The line below reads in a datafile to the QTable: `star_table`\n",
    "\n",
    "#### The QTable has the following columns:\n",
    "\n",
    "* source_id\n",
    "* phot_g_mean_mag ($m_G$)\n",
    "* parallax (MAS) <- milli arc seconds (p)"
   ]
  },
  {
   "cell_type": "code",
   "execution_count": 46,
   "metadata": {
    "collapsed": false,
    "jupyter": {
     "outputs_hidden": false
    }
   },
   "outputs": [
    {
     "data": {
      "text/html": [
       "<div><i>QTable length=50</i>\n",
       "<table id=\"table138506039557856\" class=\"table-striped table-bordered table-condensed\">\n",
       "<thead><tr><th>source_id</th><th>phot_g_mean_mag</th><th>parallax</th></tr></thead>\n",
       "<thead><tr><th>int64</th><th>float64</th><th>float64</th></tr></thead>\n",
       "<tr><td>418551920284673408</td><td>1.9425238370895386</td><td>14.090976249252234</td></tr>\n",
       "<tr><td>4357027756659697664</td><td>2.016425132751465</td><td>20.411292350652413</td></tr>\n",
       "<tr><td>5589311357728452608</td><td>2.083237409591675</td><td>5.762063161817684</td></tr>\n",
       "<tr><td>4993479684438433792</td><td>2.089977502822876</td><td>39.91825815729799</td></tr>\n",
       "<tr><td>4038055447778237312</td><td>2.116495132446289</td><td>23.885852068095137</td></tr>\n",
       "<tr><td>1279798794197267072</td><td>2.183352470397949</td><td>13.82667260913517</td></tr>\n",
       "<tr><td>160886283751041408</td><td>2.197542190551758</td><td>7.249065034494049</td></tr>\n",
       "<tr><td>4302054339959905920</td><td>2.223691940307617</td><td>5.589928355256642</td></tr>\n",
       "<tr><td>1222646935698492160</td><td>2.2693703174591064</td><td>42.24080076261629</td></tr>\n",
       "<tr><td>5111187420714898304</td><td>2.2707934379577637</td><td>17.00162879163835</td></tr>\n",
       "<tr><td>...</td><td>...</td><td>...</td></tr>\n",
       "<tr><td>5512070906394195968</td><td>2.6405158042907715</td><td>17.023374330493326</td></tr>\n",
       "<tr><td>3384529341302871296</td><td>2.64839768409729</td><td>3.747653899374491</td></tr>\n",
       "<tr><td>447071293401293056</td><td>2.6510000228881836</td><td>14.125159961030231</td></tr>\n",
       "<tr><td>2026116260337482112</td><td>2.651681900024414</td><td>8.981563552668588</td></tr>\n",
       "<tr><td>2900546759663847168</td><td>2.6532034873962402</td><td>11.400786448797566</td></tr>\n",
       "<tr><td>2962546605447869184</td><td>2.6534926891326904</td><td>15.599908298075055</td></tr>\n",
       "<tr><td>779106556394253824</td><td>2.680030107498169</td><td>23.227226550456237</td></tr>\n",
       "<tr><td>510204838759030144</td><td>2.680529832839966</td><td>32.02972419177956</td></tr>\n",
       "<tr><td>4683897617110115200</td><td>2.680731773376465</td><td>133.71940556671353</td></tr>\n",
       "<tr><td>1339952869195300608</td><td>2.7025177478790283</td><td>8.899064345249363</td></tr>\n",
       "</table></div>"
      ],
      "text/plain": [
       "<QTable length=50>\n",
       "     source_id       phot_g_mean_mag        parallax     \n",
       "       int64             float64            float64      \n",
       "------------------- ------------------ ------------------\n",
       " 418551920284673408 1.9425238370895386 14.090976249252234\n",
       "4357027756659697664  2.016425132751465 20.411292350652413\n",
       "5589311357728452608  2.083237409591675  5.762063161817684\n",
       "4993479684438433792  2.089977502822876  39.91825815729799\n",
       "4038055447778237312  2.116495132446289 23.885852068095137\n",
       "1279798794197267072  2.183352470397949  13.82667260913517\n",
       " 160886283751041408  2.197542190551758  7.249065034494049\n",
       "4302054339959905920  2.223691940307617  5.589928355256642\n",
       "1222646935698492160 2.2693703174591064  42.24080076261629\n",
       "5111187420714898304 2.2707934379577637  17.00162879163835\n",
       "                ...                ...                ...\n",
       "5512070906394195968 2.6405158042907715 17.023374330493326\n",
       "3384529341302871296   2.64839768409729  3.747653899374491\n",
       " 447071293401293056 2.6510000228881836 14.125159961030231\n",
       "2026116260337482112  2.651681900024414  8.981563552668588\n",
       "2900546759663847168 2.6532034873962402 11.400786448797566\n",
       "2962546605447869184 2.6534926891326904 15.599908298075055\n",
       " 779106556394253824  2.680030107498169 23.227226550456237\n",
       " 510204838759030144  2.680529832839966  32.02972419177956\n",
       "4683897617110115200  2.680731773376465 133.71940556671353\n",
       "1339952869195300608 2.7025177478790283  8.899064345249363"
      ]
     },
     "execution_count": 46,
     "metadata": {},
     "output_type": "execute_result"
    }
   ],
   "source": [
    "star_table = QTable.read('https://uwashington-astro300.github.io/A300_Data/GaiaBrightStars.csv', \n",
    "                         format='ascii.csv')\n",
    "star_table"
   ]
  },
  {
   "cell_type": "code",
   "execution_count": 47,
   "metadata": {
    "collapsed": false,
    "jupyter": {
     "outputs_hidden": false
    }
   },
   "outputs": [
    {
     "data": {
      "text/html": [
       "<div><i>QTable length=2</i>\n",
       "<table id=\"table138506037775280\" class=\"table-striped table-bordered table-condensed\">\n",
       "<thead><tr><th>source_id</th><th>phot_g_mean_mag</th><th>parallax</th></tr></thead>\n",
       "<thead><tr><th>int64</th><th>float64</th><th>float64</th></tr></thead>\n",
       "<tr><td>418551920284673408</td><td>1.9425238370895386</td><td>14.090976249252234</td></tr>\n",
       "<tr><td>4357027756659697664</td><td>2.016425132751465</td><td>20.411292350652413</td></tr>\n",
       "</table></div>"
      ],
      "text/plain": [
       "<QTable length=2>\n",
       "     source_id       phot_g_mean_mag        parallax     \n",
       "       int64             float64            float64      \n",
       "------------------- ------------------ ------------------\n",
       " 418551920284673408 1.9425238370895386 14.090976249252234\n",
       "4357027756659697664  2.016425132751465 20.411292350652413"
      ]
     },
     "execution_count": 47,
     "metadata": {},
     "output_type": "execute_result"
    }
   ],
   "source": [
    "star_table[0:2]  # First 2 rows of the QTable"
   ]
  },
  {
   "cell_type": "markdown",
   "metadata": {},
   "source": [
    "---\n",
    "\n",
    "### Your answers should be obvious from the output of your work.\n",
    "\n",
    "### You will need information from your [Astro Info Sheet](../Info/AstroInfo.pdf).\n",
    "---"
   ]
  },
  {
   "cell_type": "markdown",
   "metadata": {},
   "source": [
    "## How many stars are in your table?"
   ]
  },
  {
   "cell_type": "code",
   "execution_count": 48,
   "metadata": {
    "collapsed": false,
    "jupyter": {
     "outputs_hidden": false
    }
   },
   "outputs": [
    {
     "data": {
      "text/plain": [
       "50"
      ]
     },
     "execution_count": 48,
     "metadata": {},
     "output_type": "execute_result"
    }
   ],
   "source": [
    "len(np.unique(star_table['source_id']))"
   ]
  },
  {
   "cell_type": "markdown",
   "metadata": {},
   "source": [
    "## Print the table row that contains the brightest object\n",
    "\n",
    "- Remember, magnitudes are backwards!"
   ]
  },
  {
   "cell_type": "code",
   "execution_count": 49,
   "metadata": {},
   "outputs": [
    {
     "name": "stdout",
     "output_type": "stream",
     "text": [
      "    source_id       phot_g_mean_mag        parallax     \n",
      "------------------ ------------------ ------------------\n",
      "418551920284673408 1.9425238370895386 14.090976249252234\n"
     ]
    }
   ],
   "source": [
    "print(\n",
    "    star_table[star_table['phot_g_mean_mag'] == star_table['phot_g_mean_mag'].min()]\n",
    ")"
   ]
  },
  {
   "cell_type": "markdown",
   "metadata": {},
   "source": [
    "## Write a function to find the distance of an object\n",
    "\n",
    "$$ \\Large\n",
    "\\mathrm{Distance\\ in\\ pc}\\ (d_{\\mathrm{pc}}) = \\frac{1}{\\mathrm{p\\,(mas)} / 1000 }\n",
    "$$"
   ]
  },
  {
   "cell_type": "code",
   "execution_count": 50,
   "metadata": {},
   "outputs": [],
   "source": [
    "def dpc(p):\n",
    "    return (1 / (p/1000))"
   ]
  },
  {
   "cell_type": "markdown",
   "metadata": {
    "tags": []
   },
   "source": [
    "## Add a column `distance` to your table that has the distance (in parsecs) for all of the objects"
   ]
  },
  {
   "cell_type": "code",
   "execution_count": 51,
   "metadata": {},
   "outputs": [
    {
     "data": {
      "text/html": [
       "<div><i>QTable length=50</i>\n",
       "<table id=\"table138506039557856\" class=\"table-striped table-bordered table-condensed\">\n",
       "<thead><tr><th>source_id</th><th>phot_g_mean_mag</th><th>parallax</th><th>distance</th></tr></thead>\n",
       "<thead><tr><th>int64</th><th>float64</th><th>float64</th><th>float64</th></tr></thead>\n",
       "<tr><td>418551920284673408</td><td>1.9425238370895386</td><td>14.090976249252234</td><td>70.96740369944679</td></tr>\n",
       "<tr><td>4357027756659697664</td><td>2.016425132751465</td><td>20.411292350652413</td><td>48.99248821782892</td></tr>\n",
       "<tr><td>5589311357728452608</td><td>2.083237409591675</td><td>5.762063161817684</td><td>173.54894799253518</td></tr>\n",
       "<tr><td>4993479684438433792</td><td>2.089977502822876</td><td>39.91825815729799</td><td>25.051193267489218</td></tr>\n",
       "<tr><td>4038055447778237312</td><td>2.116495132446289</td><td>23.885852068095137</td><td>41.86578720948047</td></tr>\n",
       "<tr><td>1279798794197267072</td><td>2.183352470397949</td><td>13.82667260913517</td><td>72.32398048821292</td></tr>\n",
       "<tr><td>160886283751041408</td><td>2.197542190551758</td><td>7.249065034494049</td><td>137.94882446792607</td></tr>\n",
       "<tr><td>4302054339959905920</td><td>2.223691940307617</td><td>5.589928355256642</td><td>178.89316936586897</td></tr>\n",
       "<tr><td>1222646935698492160</td><td>2.2693703174591064</td><td>42.24080076261629</td><td>23.673793629523573</td></tr>\n",
       "<tr><td>5111187420714898304</td><td>2.2707934379577637</td><td>17.00162879163835</td><td>58.817893994475085</td></tr>\n",
       "<tr><td>...</td><td>...</td><td>...</td><td>...</td></tr>\n",
       "<tr><td>5512070906394195968</td><td>2.6405158042907715</td><td>17.023374330493326</td><td>58.742760429625164</td></tr>\n",
       "<tr><td>3384529341302871296</td><td>2.64839768409729</td><td>3.747653899374491</td><td>266.83360492998213</td></tr>\n",
       "<tr><td>447071293401293056</td><td>2.6510000228881836</td><td>14.125159961030231</td><td>70.79565843918868</td></tr>\n",
       "<tr><td>2026116260337482112</td><td>2.651681900024414</td><td>8.981563552668588</td><td>111.33918878777867</td></tr>\n",
       "<tr><td>2900546759663847168</td><td>2.6532034873962402</td><td>11.400786448797566</td><td>87.71324719493096</td></tr>\n",
       "<tr><td>2962546605447869184</td><td>2.6534926891326904</td><td>15.599908298075055</td><td>64.10294092071007</td></tr>\n",
       "<tr><td>779106556394253824</td><td>2.680030107498169</td><td>23.227226550456237</td><td>43.052923164447186</td></tr>\n",
       "<tr><td>510204838759030144</td><td>2.680529832839966</td><td>32.02972419177956</td><td>31.22099940706484</td></tr>\n",
       "<tr><td>4683897617110115200</td><td>2.680731773376465</td><td>133.71940556671353</td><td>7.478346136538074</td></tr>\n",
       "<tr><td>1339952869195300608</td><td>2.7025177478790283</td><td>8.899064345249363</td><td>112.37136413490882</td></tr>\n",
       "</table></div>"
      ],
      "text/plain": [
       "<QTable length=50>\n",
       "     source_id       phot_g_mean_mag        parallax           distance     \n",
       "       int64             float64            float64            float64      \n",
       "------------------- ------------------ ------------------ ------------------\n",
       " 418551920284673408 1.9425238370895386 14.090976249252234  70.96740369944679\n",
       "4357027756659697664  2.016425132751465 20.411292350652413  48.99248821782892\n",
       "5589311357728452608  2.083237409591675  5.762063161817684 173.54894799253518\n",
       "4993479684438433792  2.089977502822876  39.91825815729799 25.051193267489218\n",
       "4038055447778237312  2.116495132446289 23.885852068095137  41.86578720948047\n",
       "1279798794197267072  2.183352470397949  13.82667260913517  72.32398048821292\n",
       " 160886283751041408  2.197542190551758  7.249065034494049 137.94882446792607\n",
       "4302054339959905920  2.223691940307617  5.589928355256642 178.89316936586897\n",
       "1222646935698492160 2.2693703174591064  42.24080076261629 23.673793629523573\n",
       "5111187420714898304 2.2707934379577637  17.00162879163835 58.817893994475085\n",
       "                ...                ...                ...                ...\n",
       "5512070906394195968 2.6405158042907715 17.023374330493326 58.742760429625164\n",
       "3384529341302871296   2.64839768409729  3.747653899374491 266.83360492998213\n",
       " 447071293401293056 2.6510000228881836 14.125159961030231  70.79565843918868\n",
       "2026116260337482112  2.651681900024414  8.981563552668588 111.33918878777867\n",
       "2900546759663847168 2.6532034873962402 11.400786448797566  87.71324719493096\n",
       "2962546605447869184 2.6534926891326904 15.599908298075055  64.10294092071007\n",
       " 779106556394253824  2.680030107498169 23.227226550456237 43.052923164447186\n",
       " 510204838759030144  2.680529832839966  32.02972419177956  31.22099940706484\n",
       "4683897617110115200  2.680731773376465 133.71940556671353  7.478346136538074\n",
       "1339952869195300608 2.7025177478790283  8.899064345249363 112.37136413490882"
      ]
     },
     "execution_count": 51,
     "metadata": {},
     "output_type": "execute_result"
    }
   ],
   "source": [
    "distance_values = [dpc(p = parallax_value) for parallax_value in star_table['parallax']]\n",
    "distance_column = Column(distance_values, name='distance', dtype='float')\n",
    "star_table.add_column(distance_column)\n",
    "\n",
    "star_table"
   ]
  },
  {
   "cell_type": "markdown",
   "metadata": {
    "tags": []
   },
   "source": [
    "## Print the table row that contains the nearest object"
   ]
  },
  {
   "cell_type": "code",
   "execution_count": 52,
   "metadata": {
    "tags": []
   },
   "outputs": [
    {
     "name": "stdout",
     "output_type": "stream",
     "text": [
      "     source_id       phot_g_mean_mag       parallax           distance    \n",
      "------------------- ----------------- ------------------ -----------------\n",
      "4683897617110115200 2.680731773376465 133.71940556671353 7.478346136538074\n"
     ]
    }
   ],
   "source": [
    "print(\n",
    "    star_table[star_table['distance'] == star_table['distance'].min()]\n",
    ")"
   ]
  },
  {
   "cell_type": "markdown",
   "metadata": {
    "tags": []
   },
   "source": [
    "## Print the table row that contains the farthest object"
   ]
  },
  {
   "cell_type": "code",
   "execution_count": 53,
   "metadata": {
    "tags": []
   },
   "outputs": [
    {
     "name": "stdout",
     "output_type": "stream",
     "text": [
      "     source_id      phot_g_mean_mag        parallax          distance    \n",
      "------------------- ---------------- ------------------- ----------------\n",
      "2202630001603369856 2.45072603225708 0.11902358415373226 8401.69624457274\n"
     ]
    }
   ],
   "source": [
    "print(\n",
    "    star_table[star_table['distance'] == star_table['distance'].max()]\n",
    ")"
   ]
  },
  {
   "cell_type": "markdown",
   "metadata": {},
   "source": [
    "## Write a function to find the Absolute G magnitude of an object\n",
    "\n",
    "$$ \\Large\n",
    "{\\displaystyle M_{G} = m_{G} - 5\\log _{10} \\left( \\frac{d_{\\mathrm{pc}}} {10\\, \\mathrm{pc}} \\right)}\n",
    "$$"
   ]
  },
  {
   "cell_type": "code",
   "execution_count": 54,
   "metadata": {},
   "outputs": [],
   "source": [
    "def abgm(app_mag, dist):\n",
    "    return (app_mag - 5*np.log10(dist/10))"
   ]
  },
  {
   "cell_type": "markdown",
   "metadata": {
    "tags": []
   },
   "source": [
    "## Add a column `Abs G Mag` to your table that has the Absolute G magnitude for all of the objects"
   ]
  },
  {
   "cell_type": "code",
   "execution_count": 55,
   "metadata": {},
   "outputs": [
    {
     "data": {
      "text/html": [
       "<div><i>QTable length=50</i>\n",
       "<table id=\"table138506039557856\" class=\"table-striped table-bordered table-condensed\">\n",
       "<thead><tr><th>source_id</th><th>phot_g_mean_mag</th><th>parallax</th><th>distance</th><th>abs_g_mag</th></tr></thead>\n",
       "<thead><tr><th>int64</th><th>float64</th><th>float64</th><th>float64</th><th>float64</th></tr></thead>\n",
       "<tr><td>418551920284673408</td><td>1.9425238370895386</td><td>14.090976249252234</td><td>70.96740369944679</td><td>-2.3127707484723317</td></tr>\n",
       "<tr><td>4357027756659697664</td><td>2.016425132751465</td><td>20.411292350652413</td><td>48.99248821782892</td><td>-1.434222351510317</td></tr>\n",
       "<tr><td>5589311357728452608</td><td>2.083237409591675</td><td>5.762063161817684</td><td>173.54894799253518</td><td>-4.113872517598414</td></tr>\n",
       "<tr><td>4993479684438433792</td><td>2.089977502822876</td><td>39.91825815729799</td><td>25.051193267489218</td><td>0.09583541525099415</td></tr>\n",
       "<tr><td>4038055447778237312</td><td>2.116495132446289</td><td>23.885852068095137</td><td>41.86578720948047</td><td>-0.9928011762222719</td></tr>\n",
       "<tr><td>1279798794197267072</td><td>2.183352470397949</td><td>13.82667260913517</td><td>72.32398048821292</td><td>-2.113059131353271</td></tr>\n",
       "<tr><td>160886283751041408</td><td>2.197542190551758</td><td>7.249065034494049</td><td>137.94882446792607</td><td>-3.5010478293826095</td></tr>\n",
       "<tr><td>4302054339959905920</td><td>2.223691940307617</td><td>5.589928355256642</td><td>178.89316936586897</td><td>-4.039276851312228</td></tr>\n",
       "<tr><td>1222646935698492160</td><td>2.2693703174591064</td><td>42.24080076261629</td><td>23.673793629523573</td><td>0.39803103027363695</td></tr>\n",
       "<tr><td>5111187420714898304</td><td>2.2707934379577637</td><td>17.00162879163835</td><td>58.817893994475085</td><td>-1.5767539135815696</td></tr>\n",
       "<tr><td>...</td><td>...</td><td>...</td><td>...</td><td>...</td></tr>\n",
       "<tr><td>5512070906394195968</td><td>2.6405158042907715</td><td>17.023374330493326</td><td>58.742760429625164</td><td>-1.2042559504961847</td></tr>\n",
       "<tr><td>3384529341302871296</td><td>2.64839768409729</td><td>3.747653899374491</td><td>266.83360492998213</td><td>-4.482804933815828</td></tr>\n",
       "<tr><td>447071293401293056</td><td>2.6510000228881836</td><td>14.125159961030231</td><td>70.79565843918868</td><td>-1.5990331035750058</td></tr>\n",
       "<tr><td>2026116260337482112</td><td>2.651681900024414</td><td>8.981563552668588</td><td>111.33918878777867</td><td>-2.58155836363947</td></tr>\n",
       "<tr><td>2900546759663847168</td><td>2.6532034873962402</td><td>11.400786448797566</td><td>87.71324719493096</td><td>-2.0621224582931506</td></tr>\n",
       "<tr><td>2962546605447869184</td><td>2.6534926891326904</td><td>15.599908298075055</td><td>64.10294092071007</td><td>-1.3808970837607193</td></tr>\n",
       "<tr><td>779106556394253824</td><td>2.680030107498169</td><td>23.227226550456237</td><td>43.052923164447186</td><td>-0.48998311292407015</td></tr>\n",
       "<tr><td>510204838759030144</td><td>2.680529832839966</td><td>32.02972419177956</td><td>31.22099940706484</td><td>0.20829582767266785</td></tr>\n",
       "<tr><td>4683897617110115200</td><td>2.680731773376465</td><td>133.71940556671353</td><td>7.478346136538074</td><td>3.3117039599851776</td></tr>\n",
       "<tr><td>1339952869195300608</td><td>2.7025177478790283</td><td>8.899064345249363</td><td>112.37136413490882</td><td>-2.5507605172426917</td></tr>\n",
       "</table></div>"
      ],
      "text/plain": [
       "<QTable length=50>\n",
       "     source_id       phot_g_mean_mag   ...      abs_g_mag      \n",
       "       int64             float64       ...       float64       \n",
       "------------------- ------------------ ... --------------------\n",
       " 418551920284673408 1.9425238370895386 ...  -2.3127707484723317\n",
       "4357027756659697664  2.016425132751465 ...   -1.434222351510317\n",
       "5589311357728452608  2.083237409591675 ...   -4.113872517598414\n",
       "4993479684438433792  2.089977502822876 ...  0.09583541525099415\n",
       "4038055447778237312  2.116495132446289 ...  -0.9928011762222719\n",
       "1279798794197267072  2.183352470397949 ...   -2.113059131353271\n",
       " 160886283751041408  2.197542190551758 ...  -3.5010478293826095\n",
       "4302054339959905920  2.223691940307617 ...   -4.039276851312228\n",
       "1222646935698492160 2.2693703174591064 ...  0.39803103027363695\n",
       "5111187420714898304 2.2707934379577637 ...  -1.5767539135815696\n",
       "                ...                ... ...                  ...\n",
       "5512070906394195968 2.6405158042907715 ...  -1.2042559504961847\n",
       "3384529341302871296   2.64839768409729 ...   -4.482804933815828\n",
       " 447071293401293056 2.6510000228881836 ...  -1.5990331035750058\n",
       "2026116260337482112  2.651681900024414 ...    -2.58155836363947\n",
       "2900546759663847168 2.6532034873962402 ...  -2.0621224582931506\n",
       "2962546605447869184 2.6534926891326904 ...  -1.3808970837607193\n",
       " 779106556394253824  2.680030107498169 ... -0.48998311292407015\n",
       " 510204838759030144  2.680529832839966 ...  0.20829582767266785\n",
       "4683897617110115200  2.680731773376465 ...   3.3117039599851776\n",
       "1339952869195300608 2.7025177478790283 ...  -2.5507605172426917"
      ]
     },
     "execution_count": 55,
     "metadata": {},
     "output_type": "execute_result"
    }
   ],
   "source": [
    "absmag_values = [abgm(app_mag = magnitude_value, dist = dist_value) \n",
    "                 for magnitude_value, dist_value in zip(\n",
    "                     star_table['phot_g_mean_mag'], star_table['distance']\n",
    "                     )\n",
    "                ]\n",
    "absmag_column = Column(absmag_values, name='abs_g_mag', dtype='float')\n",
    "star_table.add_column(absmag_column)\n",
    "\n",
    "star_table"
   ]
  },
  {
   "cell_type": "markdown",
   "metadata": {
    "tags": []
   },
   "source": [
    "## Print the table row that contains the object with the brightest Absolute G magnitude"
   ]
  },
  {
   "cell_type": "code",
   "execution_count": 56,
   "metadata": {
    "tags": []
   },
   "outputs": [
    {
     "name": "stdout",
     "output_type": "stream",
     "text": [
      "     source_id      phot_g_mean_mag  ...     distance          abs_g_mag     \n",
      "------------------- ---------------- ... ---------------- -------------------\n",
      "2202630001603369856 2.45072603225708 ... 8401.69624457274 -12.171108847628894\n"
     ]
    }
   ],
   "source": [
    "print(\n",
    "    star_table[star_table['abs_g_mag'] == star_table['abs_g_mag'].min()]\n",
    ")"
   ]
  },
  {
   "cell_type": "markdown",
   "metadata": {
    "tags": []
   },
   "source": [
    "## Print the table row that contains the object with the dimmest Absolute G magnitude"
   ]
  },
  {
   "cell_type": "code",
   "execution_count": 57,
   "metadata": {
    "tags": []
   },
   "outputs": [
    {
     "name": "stdout",
     "output_type": "stream",
     "text": [
      "     source_id       phot_g_mean_mag  ...      distance         abs_g_mag     \n",
      "------------------- ----------------- ... ----------------- ------------------\n",
      "4683897617110115200 2.680731773376465 ... 7.478346136538074 3.3117039599851776\n"
     ]
    }
   ],
   "source": [
    "print(\n",
    "    star_table[star_table['abs_g_mag'] == star_table['abs_g_mag'].max()]\n",
    ")"
   ]
  },
  {
   "cell_type": "markdown",
   "metadata": {
    "tags": []
   },
   "source": [
    "### Due Wed Jan 17 - 1 pm\n",
    "- Export notebook as .html: `File -> Save and Export Notebook as -> HTML`\n",
    "- Upload `.html` file to Canvas"
   ]
  },
  {
   "cell_type": "code",
   "execution_count": null,
   "metadata": {},
   "outputs": [],
   "source": []
  }
 ],
 "metadata": {
  "anaconda-cloud": {},
  "kernelspec": {
   "display_name": "Python 3 (ipykernel)",
   "language": "python",
   "name": "python3"
  },
  "language_info": {
   "codemirror_mode": {
    "name": "ipython",
    "version": 3
   },
   "file_extension": ".py",
   "mimetype": "text/x-python",
   "name": "python",
   "nbconvert_exporter": "python",
   "pygments_lexer": "ipython3",
   "version": "3.10.13"
  }
 },
 "nbformat": 4,
 "nbformat_minor": 4
}
