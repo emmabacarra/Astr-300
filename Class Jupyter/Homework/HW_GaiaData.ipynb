{
 "cells": [
  {
   "cell_type": "markdown",
   "metadata": {},
   "source": [
    "# GAIA Data Homework"
   ]
  },
  {
   "cell_type": "code",
   "execution_count": 2,
   "metadata": {},
   "outputs": [],
   "source": [
    "import numpy as np\n",
    "from astropy.table import QTable, Column\n",
    "from astroquery.gaia import Gaia"
   ]
  },
  {
   "cell_type": "markdown",
   "metadata": {},
   "source": [
    "### Get a list of ALL the Gaia objects you would see straight above your head (Zenith) at midnight tonight (Jan 17th).\n",
    "\n",
    "### You will need information from your [Astro Info Sheet](./Info/AstroInfo.pdf).\n",
    "\n",
    "### At midnight tonight:\n",
    "\n",
    "  - The Local Sidereal Time (LST) for Seattle (this room) at local midnight is 7h 59m 6s  (119.8 deg).\n",
    "\n",
    "### You want ALL objects with \n",
    "\n",
    "- `ra` and `dec` within 1 degree of the Zenith\n",
    "- `phot_g_mean_mag` < 10\n",
    "- `parallax` > 0\n",
    "- You also want the `source_id` and color index (`bp_rp`) for all objects\n",
    "- Make sure you adjust your `SELECT` to include all objects"
   ]
  },
  {
   "cell_type": "code",
   "execution_count": 3,
   "metadata": {},
   "outputs": [],
   "source": [
    "query = \"\"\"\n",
    "SELECT TOP 100\n",
    "source_id, ra, dec, phot_g_mean_mag, bp_rp, parallax\n",
    "FROM gaiadr3.gaia_source_lite\n",
    "WHERE\n",
    "    DISTANCE( POINT(119.8, 47.0), POINT(ra, dec) ) < 1.0\n",
    "    AND phot_g_mean_mag < 10.0\n",
    "    AND parallax > 0.0\n",
    "    AND bp_rp IS NOT NULL\n",
    "ORDER BY bp_rp ASC\n",
    "\"\"\""
   ]
  },
  {
   "cell_type": "code",
   "execution_count": 4,
   "metadata": {},
   "outputs": [
    {
     "name": "stdout",
     "output_type": "stream",
     "text": [
      "<Table length=36>\n",
      "      name       dtype  unit                            description                            \n",
      "--------------- ------- ---- ------------------------------------------------------------------\n",
      "      source_id   int64      Unique source identifier (unique within a particular Data Release)\n",
      "             ra float64  deg                                                    Right ascension\n",
      "            dec float64  deg                                                        Declination\n",
      "phot_g_mean_mag float32  mag                                              G-band mean magnitude\n",
      "          bp_rp float32  mag                                                     BP - RP colour\n",
      "       parallax float64  mas                                                           Parallax\n",
      "Jobid: None\n",
      "Phase: COMPLETED\n",
      "Owner: None\n",
      "Output file: 1705712213579O-result.vot.gz\n",
      "Results: None\n"
     ]
    }
   ],
   "source": [
    "job_query = Gaia.launch_job(query)\n",
    "print(job_query)"
   ]
  },
  {
   "cell_type": "code",
   "execution_count": 5,
   "metadata": {},
   "outputs": [
    {
     "data": {
      "text/html": [
       "<div><i>Table length=36</i>\n",
       "<table id=\"table138923225786368\" class=\"table-striped table-bordered table-condensed\">\n",
       "<thead><tr><th>source_id</th><th>ra</th><th>dec</th><th>phot_g_mean_mag</th><th>bp_rp</th><th>parallax</th></tr></thead>\n",
       "<thead><tr><th></th><th>deg</th><th>deg</th><th>mag</th><th>mag</th><th>mas</th></tr></thead>\n",
       "<thead><tr><th>int64</th><th>float64</th><th>float64</th><th>float32</th><th>float32</th><th>float64</th></tr></thead>\n",
       "<tr><td>932851782702640128</td><td>121.1837299677284</td><td>47.28846093314972</td><td>9.224431</td><td>0.59405327</td><td>3.9774703932418434</td></tr>\n",
       "<tr><td>932376931117076608</td><td>119.35794145891437</td><td>46.3384471259334</td><td>9.816679</td><td>0.67705536</td><td>6.234940232318302</td></tr>\n",
       "<tr><td>932471420398832000</td><td>119.9196815899295</td><td>46.61987911083302</td><td>8.016949</td><td>0.6863818</td><td>6.957786644888596</td></tr>\n",
       "<tr><td>932931359856644224</td><td>120.55034374781623</td><td>47.58860439361576</td><td>9.678056</td><td>0.692132</td><td>6.90085897359672</td></tr>\n",
       "<tr><td>933103811383007744</td><td>119.9957105955765</td><td>47.78505238304345</td><td>8.517405</td><td>0.7436218</td><td>9.864936527454228</td></tr>\n",
       "<tr><td>932764715125240576</td><td>118.8294649241317</td><td>47.42740866769713</td><td>9.089646</td><td>0.7580681</td><td>2.2550859647279298</td></tr>\n",
       "<tr><td>932778562099849856</td><td>119.03617666610461</td><td>47.55034822924161</td><td>9.888519</td><td>0.895524</td><td>10.587155139199597</td></tr>\n",
       "<tr><td>932384043584096384</td><td>119.5069805080389</td><td>46.43745623074234</td><td>8.470822</td><td>1.1134033</td><td>2.4361439091131536</td></tr>\n",
       "<tr><td>932684485136193152</td><td>119.50224669701181</td><td>47.08927281242709</td><td>8.635135</td><td>1.1164064</td><td>4.753316525466329</td></tr>\n",
       "<tr><td>...</td><td>...</td><td>...</td><td>...</td><td>...</td><td>...</td></tr>\n",
       "<tr><td>932566047118329088</td><td>119.23068095054404</td><td>46.44226066083328</td><td>9.535337</td><td>1.694932</td><td>0.6641689350963088</td></tr>\n",
       "<tr><td>932409607229566336</td><td>120.08349075228584</td><td>46.21895082816404</td><td>8.576645</td><td>1.7555676</td><td>0.7584541837261434</td></tr>\n",
       "<tr><td>932669263772140672</td><td>119.41594187658853</td><td>46.708890268281685</td><td>9.813602</td><td>1.9019575</td><td>0.6029829024694848</td></tr>\n",
       "<tr><td>932510762299206656</td><td>119.96068689888335</td><td>46.9055613073426</td><td>9.32665</td><td>2.0369482</td><td>0.9872524823484017</td></tr>\n",
       "<tr><td>932861643947557248</td><td>121.08754983503448</td><td>47.26476646624119</td><td>8.911685</td><td>2.1492348</td><td>0.9076898397543905</td></tr>\n",
       "<tr><td>933142500448359680</td><td>120.02165310559957</td><td>47.987604590477076</td><td>8.952414</td><td>2.1989808</td><td>0.5249368236359618</td></tr>\n",
       "<tr><td>932494475783252480</td><td>120.32385562834483</td><td>46.76687727527013</td><td>8.523122</td><td>2.3304367</td><td>0.9318650157658256</td></tr>\n",
       "<tr><td>932495575294834432</td><td>120.27096252105616</td><td>46.8105148706025</td><td>9.270107</td><td>2.3930817</td><td>0.5637677118390706</td></tr>\n",
       "<tr><td>933097592270378368</td><td>119.81512362863465</td><td>47.6487827638862</td><td>8.124125</td><td>2.5151463</td><td>0.9235266872266821</td></tr>\n",
       "<tr><td>932636037905290368</td><td>118.73226680222825</td><td>46.78772676234383</td><td>9.224494</td><td>2.5928154</td><td>0.6390501019258605</td></tr>\n",
       "</table></div>"
      ],
      "text/plain": [
       "<Table length=36>\n",
       "    source_id              ra         ...   bp_rp         parallax     \n",
       "                          deg         ...    mag            mas        \n",
       "      int64             float64       ...  float32        float64      \n",
       "------------------ ------------------ ... ---------- ------------------\n",
       "932851782702640128  121.1837299677284 ... 0.59405327 3.9774703932418434\n",
       "932376931117076608 119.35794145891437 ... 0.67705536  6.234940232318302\n",
       "932471420398832000  119.9196815899295 ...  0.6863818  6.957786644888596\n",
       "932931359856644224 120.55034374781623 ...   0.692132   6.90085897359672\n",
       "933103811383007744  119.9957105955765 ...  0.7436218  9.864936527454228\n",
       "932764715125240576  118.8294649241317 ...  0.7580681 2.2550859647279298\n",
       "932778562099849856 119.03617666610461 ...   0.895524 10.587155139199597\n",
       "932384043584096384  119.5069805080389 ...  1.1134033 2.4361439091131536\n",
       "932684485136193152 119.50224669701181 ...  1.1164064  4.753316525466329\n",
       "               ...                ... ...        ...                ...\n",
       "932566047118329088 119.23068095054404 ...   1.694932 0.6641689350963088\n",
       "932409607229566336 120.08349075228584 ...  1.7555676 0.7584541837261434\n",
       "932669263772140672 119.41594187658853 ...  1.9019575 0.6029829024694848\n",
       "932510762299206656 119.96068689888335 ...  2.0369482 0.9872524823484017\n",
       "932861643947557248 121.08754983503448 ...  2.1492348 0.9076898397543905\n",
       "933142500448359680 120.02165310559957 ...  2.1989808 0.5249368236359618\n",
       "932494475783252480 120.32385562834483 ...  2.3304367 0.9318650157658256\n",
       "932495575294834432 120.27096252105616 ...  2.3930817 0.5637677118390706\n",
       "933097592270378368 119.81512362863465 ...  2.5151463 0.9235266872266821\n",
       "932636037905290368 118.73226680222825 ...  2.5928154 0.6390501019258605"
      ]
     },
     "execution_count": 5,
     "metadata": {},
     "output_type": "execute_result"
    }
   ],
   "source": [
    "star_table = job_query.get_results()\n",
    "star_table"
   ]
  },
  {
   "cell_type": "markdown",
   "metadata": {},
   "source": [
    "## Print the table row that contains the brightest object"
   ]
  },
  {
   "cell_type": "code",
   "execution_count": 6,
   "metadata": {},
   "outputs": [
    {
     "data": {
      "text/html": [
       "<div><i>Table length=1</i>\n",
       "<table id=\"table138920171294144\" class=\"table-striped table-bordered table-condensed\">\n",
       "<thead><tr><th>source_id</th><th>ra</th><th>dec</th><th>phot_g_mean_mag</th><th>bp_rp</th><th>parallax</th></tr></thead>\n",
       "<thead><tr><th></th><th>deg</th><th>deg</th><th>mag</th><th>mag</th><th>mas</th></tr></thead>\n",
       "<thead><tr><th>int64</th><th>float64</th><th>float64</th><th>float32</th><th>float32</th><th>float64</th></tr></thead>\n",
       "<tr><td>932769353689866752</td><td>118.6776000975415</td><td>47.564599416037275</td><td>4.941986</td><td>1.6506271</td><td>4.552206476653628</td></tr>\n",
       "</table></div>"
      ],
      "text/plain": [
       "<Table length=1>\n",
       "    source_id              ra        ...   bp_rp        parallax    \n",
       "                          deg        ...    mag           mas       \n",
       "      int64             float64      ...  float32       float64     \n",
       "------------------ ----------------- ... --------- -----------------\n",
       "932769353689866752 118.6776000975415 ... 1.6506271 4.552206476653628"
      ]
     },
     "execution_count": 6,
     "metadata": {},
     "output_type": "execute_result"
    }
   ],
   "source": [
    "star_table[star_table['phot_g_mean_mag'] == star_table['phot_g_mean_mag'].min()]"
   ]
  },
  {
   "cell_type": "markdown",
   "metadata": {
    "tags": []
   },
   "source": [
    "## Add a column `distance` to your table that has the distance (in parsecs) for all of the objects"
   ]
  },
  {
   "cell_type": "code",
   "execution_count": 7,
   "metadata": {},
   "outputs": [],
   "source": [
    "def dpc(p):\n",
    "    return (1 / (p/1000))"
   ]
  },
  {
   "cell_type": "code",
   "execution_count": 8,
   "metadata": {},
   "outputs": [
    {
     "data": {
      "text/html": [
       "<div><i>Table length=36</i>\n",
       "<table id=\"table138923225786368\" class=\"table-striped table-bordered table-condensed\">\n",
       "<thead><tr><th>source_id</th><th>ra</th><th>dec</th><th>phot_g_mean_mag</th><th>bp_rp</th><th>parallax</th><th>distance</th></tr></thead>\n",
       "<thead><tr><th></th><th>deg</th><th>deg</th><th>mag</th><th>mag</th><th>mas</th><th></th></tr></thead>\n",
       "<thead><tr><th>int64</th><th>float64</th><th>float64</th><th>float32</th><th>float32</th><th>float64</th><th>float64</th></tr></thead>\n",
       "<tr><td>932851782702640128</td><td>121.1837299677284</td><td>47.28846093314972</td><td>9.224431</td><td>0.59405327</td><td>3.9774703932418434</td><td>251.41607633311597</td></tr>\n",
       "<tr><td>932376931117076608</td><td>119.35794145891437</td><td>46.3384471259334</td><td>9.816679</td><td>0.67705536</td><td>6.234940232318302</td><td>160.38646125532716</td></tr>\n",
       "<tr><td>932471420398832000</td><td>119.9196815899295</td><td>46.61987911083302</td><td>8.016949</td><td>0.6863818</td><td>6.957786644888596</td><td>143.7238666601872</td></tr>\n",
       "<tr><td>932931359856644224</td><td>120.55034374781623</td><td>47.58860439361576</td><td>9.678056</td><td>0.692132</td><td>6.90085897359672</td><td>144.90949660413088</td></tr>\n",
       "<tr><td>933103811383007744</td><td>119.9957105955765</td><td>47.78505238304345</td><td>8.517405</td><td>0.7436218</td><td>9.864936527454228</td><td>101.3691266250917</td></tr>\n",
       "<tr><td>932764715125240576</td><td>118.8294649241317</td><td>47.42740866769713</td><td>9.089646</td><td>0.7580681</td><td>2.2550859647279298</td><td>443.4420752206878</td></tr>\n",
       "<tr><td>932778562099849856</td><td>119.03617666610461</td><td>47.55034822924161</td><td>9.888519</td><td>0.895524</td><td>10.587155139199597</td><td>94.45408014259073</td></tr>\n",
       "<tr><td>932384043584096384</td><td>119.5069805080389</td><td>46.43745623074234</td><td>8.470822</td><td>1.1134033</td><td>2.4361439091131536</td><td>410.48478140359</td></tr>\n",
       "<tr><td>932684485136193152</td><td>119.50224669701181</td><td>47.08927281242709</td><td>8.635135</td><td>1.1164064</td><td>4.753316525466329</td><td>210.37942553213284</td></tr>\n",
       "<tr><td>...</td><td>...</td><td>...</td><td>...</td><td>...</td><td>...</td><td>...</td></tr>\n",
       "<tr><td>932566047118329088</td><td>119.23068095054404</td><td>46.44226066083328</td><td>9.535337</td><td>1.694932</td><td>0.6641689350963088</td><td>1505.6410307040235</td></tr>\n",
       "<tr><td>932409607229566336</td><td>120.08349075228584</td><td>46.21895082816404</td><td>8.576645</td><td>1.7555676</td><td>0.7584541837261434</td><td>1318.4712029501734</td></tr>\n",
       "<tr><td>932669263772140672</td><td>119.41594187658853</td><td>46.708890268281685</td><td>9.813602</td><td>1.9019575</td><td>0.6029829024694848</td><td>1658.4218157837518</td></tr>\n",
       "<tr><td>932510762299206656</td><td>119.96068689888335</td><td>46.9055613073426</td><td>9.32665</td><td>2.0369482</td><td>0.9872524823484017</td><td>1012.9121150663257</td></tr>\n",
       "<tr><td>932861643947557248</td><td>121.08754983503448</td><td>47.26476646624119</td><td>8.911685</td><td>2.1492348</td><td>0.9076898397543905</td><td>1101.6979106768315</td></tr>\n",
       "<tr><td>933142500448359680</td><td>120.02165310559957</td><td>47.987604590477076</td><td>8.952414</td><td>2.1989808</td><td>0.5249368236359618</td><td>1904.9911436456769</td></tr>\n",
       "<tr><td>932494475783252480</td><td>120.32385562834483</td><td>46.76687727527013</td><td>8.523122</td><td>2.3304367</td><td>0.9318650157658256</td><td>1073.1167959751979</td></tr>\n",
       "<tr><td>932495575294834432</td><td>120.27096252105616</td><td>46.8105148706025</td><td>9.270107</td><td>2.3930817</td><td>0.5637677118390706</td><td>1773.7801917351617</td></tr>\n",
       "<tr><td>933097592270378368</td><td>119.81512362863465</td><td>47.6487827638862</td><td>8.124125</td><td>2.5151463</td><td>0.9235266872266821</td><td>1082.8057421956744</td></tr>\n",
       "<tr><td>932636037905290368</td><td>118.73226680222825</td><td>46.78772676234383</td><td>9.224494</td><td>2.5928154</td><td>0.6390501019258605</td><td>1564.8225342369403</td></tr>\n",
       "</table></div>"
      ],
      "text/plain": [
       "<Table length=36>\n",
       "    source_id              ra         ...      parallax           distance     \n",
       "                          deg         ...        mas                           \n",
       "      int64             float64       ...      float64            float64      \n",
       "------------------ ------------------ ... ------------------ ------------------\n",
       "932851782702640128  121.1837299677284 ... 3.9774703932418434 251.41607633311597\n",
       "932376931117076608 119.35794145891437 ...  6.234940232318302 160.38646125532716\n",
       "932471420398832000  119.9196815899295 ...  6.957786644888596  143.7238666601872\n",
       "932931359856644224 120.55034374781623 ...   6.90085897359672 144.90949660413088\n",
       "933103811383007744  119.9957105955765 ...  9.864936527454228  101.3691266250917\n",
       "932764715125240576  118.8294649241317 ... 2.2550859647279298  443.4420752206878\n",
       "932778562099849856 119.03617666610461 ... 10.587155139199597  94.45408014259073\n",
       "932384043584096384  119.5069805080389 ... 2.4361439091131536    410.48478140359\n",
       "932684485136193152 119.50224669701181 ...  4.753316525466329 210.37942553213284\n",
       "               ...                ... ...                ...                ...\n",
       "932566047118329088 119.23068095054404 ... 0.6641689350963088 1505.6410307040235\n",
       "932409607229566336 120.08349075228584 ... 0.7584541837261434 1318.4712029501734\n",
       "932669263772140672 119.41594187658853 ... 0.6029829024694848 1658.4218157837518\n",
       "932510762299206656 119.96068689888335 ... 0.9872524823484017 1012.9121150663257\n",
       "932861643947557248 121.08754983503448 ... 0.9076898397543905 1101.6979106768315\n",
       "933142500448359680 120.02165310559957 ... 0.5249368236359618 1904.9911436456769\n",
       "932494475783252480 120.32385562834483 ... 0.9318650157658256 1073.1167959751979\n",
       "932495575294834432 120.27096252105616 ... 0.5637677118390706 1773.7801917351617\n",
       "933097592270378368 119.81512362863465 ... 0.9235266872266821 1082.8057421956744\n",
       "932636037905290368 118.73226680222825 ... 0.6390501019258605 1564.8225342369403"
      ]
     },
     "execution_count": 8,
     "metadata": {},
     "output_type": "execute_result"
    }
   ],
   "source": [
    "distance_values = [dpc(p = parallax_value) for parallax_value in star_table['parallax']]\n",
    "distance_column = Column(distance_values, name='distance', dtype='float')\n",
    "star_table.add_column(distance_column)\n",
    "\n",
    "star_table"
   ]
  },
  {
   "cell_type": "markdown",
   "metadata": {
    "tags": []
   },
   "source": [
    "## Print the table row that contains the nearest object"
   ]
  },
  {
   "cell_type": "code",
   "execution_count": 9,
   "metadata": {},
   "outputs": [
    {
     "data": {
      "text/html": [
       "<div><i>Table length=1</i>\n",
       "<table id=\"table138920171297840\" class=\"table-striped table-bordered table-condensed\">\n",
       "<thead><tr><th>source_id</th><th>ra</th><th>dec</th><th>phot_g_mean_mag</th><th>bp_rp</th><th>parallax</th><th>distance</th></tr></thead>\n",
       "<thead><tr><th></th><th>deg</th><th>deg</th><th>mag</th><th>mag</th><th>mas</th><th></th></tr></thead>\n",
       "<thead><tr><th>int64</th><th>float64</th><th>float64</th><th>float32</th><th>float32</th><th>float64</th><th>float64</th></tr></thead>\n",
       "<tr><td>932778562099849856</td><td>119.03617666610461</td><td>47.55034822924161</td><td>9.888519</td><td>0.895524</td><td>10.587155139199597</td><td>94.45408014259073</td></tr>\n",
       "</table></div>"
      ],
      "text/plain": [
       "<Table length=1>\n",
       "    source_id              ra         ...      parallax           distance    \n",
       "                          deg         ...        mas                          \n",
       "      int64             float64       ...      float64            float64     \n",
       "------------------ ------------------ ... ------------------ -----------------\n",
       "932778562099849856 119.03617666610461 ... 10.587155139199597 94.45408014259073"
      ]
     },
     "execution_count": 9,
     "metadata": {},
     "output_type": "execute_result"
    }
   ],
   "source": [
    "star_table[star_table['distance'] == star_table['distance'].min()]"
   ]
  },
  {
   "cell_type": "markdown",
   "metadata": {
    "tags": []
   },
   "source": [
    "## Print the table row that contains the bluest object"
   ]
  },
  {
   "cell_type": "code",
   "execution_count": 10,
   "metadata": {},
   "outputs": [
    {
     "data": {
      "text/html": [
       "<div><i>Table length=1</i>\n",
       "<table id=\"table138920171298608\" class=\"table-striped table-bordered table-condensed\">\n",
       "<thead><tr><th>source_id</th><th>ra</th><th>dec</th><th>phot_g_mean_mag</th><th>bp_rp</th><th>parallax</th><th>distance</th></tr></thead>\n",
       "<thead><tr><th></th><th>deg</th><th>deg</th><th>mag</th><th>mag</th><th>mas</th><th></th></tr></thead>\n",
       "<thead><tr><th>int64</th><th>float64</th><th>float64</th><th>float32</th><th>float32</th><th>float64</th><th>float64</th></tr></thead>\n",
       "<tr><td>932851782702640128</td><td>121.1837299677284</td><td>47.28846093314972</td><td>9.224431</td><td>0.59405327</td><td>3.9774703932418434</td><td>251.41607633311597</td></tr>\n",
       "</table></div>"
      ],
      "text/plain": [
       "<Table length=1>\n",
       "    source_id              ra        ...      parallax           distance     \n",
       "                          deg        ...        mas                           \n",
       "      int64             float64      ...      float64            float64      \n",
       "------------------ ----------------- ... ------------------ ------------------\n",
       "932851782702640128 121.1837299677284 ... 3.9774703932418434 251.41607633311597"
      ]
     },
     "execution_count": 10,
     "metadata": {},
     "output_type": "execute_result"
    }
   ],
   "source": [
    "star_table[star_table['bp_rp'] == star_table['bp_rp'].min()]"
   ]
  },
  {
   "cell_type": "markdown",
   "metadata": {
    "tags": []
   },
   "source": [
    "## Print the table row that contains the reddest object?"
   ]
  },
  {
   "cell_type": "code",
   "execution_count": 11,
   "metadata": {},
   "outputs": [
    {
     "data": {
      "text/html": [
       "<div><i>Table length=1</i>\n",
       "<table id=\"table138920171297936\" class=\"table-striped table-bordered table-condensed\">\n",
       "<thead><tr><th>source_id</th><th>ra</th><th>dec</th><th>phot_g_mean_mag</th><th>bp_rp</th><th>parallax</th><th>distance</th></tr></thead>\n",
       "<thead><tr><th></th><th>deg</th><th>deg</th><th>mag</th><th>mag</th><th>mas</th><th></th></tr></thead>\n",
       "<thead><tr><th>int64</th><th>float64</th><th>float64</th><th>float32</th><th>float32</th><th>float64</th><th>float64</th></tr></thead>\n",
       "<tr><td>932636037905290368</td><td>118.73226680222825</td><td>46.78772676234383</td><td>9.224494</td><td>2.5928154</td><td>0.6390501019258605</td><td>1564.8225342369403</td></tr>\n",
       "</table></div>"
      ],
      "text/plain": [
       "<Table length=1>\n",
       "    source_id              ra         ...      parallax           distance     \n",
       "                          deg         ...        mas                           \n",
       "      int64             float64       ...      float64            float64      \n",
       "------------------ ------------------ ... ------------------ ------------------\n",
       "932636037905290368 118.73226680222825 ... 0.6390501019258605 1564.8225342369403"
      ]
     },
     "execution_count": 11,
     "metadata": {},
     "output_type": "execute_result"
    }
   ],
   "source": [
    "star_table[star_table['bp_rp'] == star_table['bp_rp'].max()]"
   ]
  },
  {
   "cell_type": "markdown",
   "metadata": {},
   "source": [
    "### Due Mon Jan 22 - 1 pm\n",
    "- `Save notebook as .html: File -> Download as -> HTML`\n",
    "- `Upload .html to Canvas`"
   ]
  },
  {
   "cell_type": "code",
   "execution_count": null,
   "metadata": {
    "collapsed": false,
    "jupyter": {
     "outputs_hidden": false
    }
   },
   "outputs": [],
   "source": []
  }
 ],
 "metadata": {
  "anaconda-cloud": {},
  "kernelspec": {
   "display_name": "Python 3 (ipykernel)",
   "language": "python",
   "name": "python3"
  },
  "language_info": {
   "codemirror_mode": {
    "name": "ipython",
    "version": 3
   },
   "file_extension": ".py",
   "mimetype": "text/x-python",
   "name": "python",
   "nbconvert_exporter": "python",
   "pygments_lexer": "ipython3",
   "version": "3.10.13"
  }
 },
 "nbformat": 4,
 "nbformat_minor": 4
}
