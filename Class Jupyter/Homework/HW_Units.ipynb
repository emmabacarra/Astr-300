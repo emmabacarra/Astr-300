{
 "cells": [
  {
   "cell_type": "markdown",
   "metadata": {},
   "source": [
    "# Units in Python"
   ]
  },
  {
   "cell_type": "markdown",
   "metadata": {},
   "source": [
    "---\n",
    "\n",
    "### [Astropy Units](http://docs.astropy.org/en/stable/units/index.html#module-astropy.units.si) - [Astropy Constants](https://docs.astropy.org/en/stable/constants/#module-astropy.constants) - [Numpy Math Functions](https://docs.scipy.org/doc/numpy-1.13.0/reference/routines.math.html)\n",
    "\n",
    "---"
   ]
  },
  {
   "cell_type": "markdown",
   "metadata": {},
   "source": [
    "* Use the `Astropy` units and constants packages to solve the following problems.\n",
    "* Do not hardcode any constants!\n",
    "* **Unless asked**, your units should be in the simplest SI units possible.\n",
    "* Two digits after the decimal (.2f)\n",
    "* For each problem:\n",
    "  * Write a **FUNCTION** to solve the problem\n",
    "  * Run the function with input with units\n",
    "  * Format the output as a sentence - For example: `The range would be 123.34 km.`\n",
    "  * Use f-strings to format your output - `f\"The range would be {my_var:.2f} km.\"`\n",
    "  * All numbers should be rounded to 2 digits after the decimal\n",
    "  \n",
    "All function should be called with keywords. For example:\n",
    "\n",
    "```\n",
    "find_position(\n",
    "    my_velocity = 10.0 * (imperial.mi / u.h), \n",
    "    my_time = 10 * u.min\n",
    ")\n",
    "```"
   ]
  },
  {
   "cell_type": "code",
   "execution_count": 3,
   "metadata": {
    "collapsed": false,
    "jupyter": {
     "outputs_hidden": false
    }
   },
   "outputs": [
    {
     "data": {
      "text/plain": [
       "<astropy.units.core._UnitContext at 0x7d4ac07a5ff0>"
      ]
     },
     "execution_count": 3,
     "metadata": {},
     "output_type": "execute_result"
    }
   ],
   "source": [
    "import numpy as np\n",
    "\n",
    "from astropy import units as u\n",
    "from astropy import constants as const\n",
    "from astropy.units import imperial\n",
    "imperial.enable()"
   ]
  },
  {
   "cell_type": "markdown",
   "metadata": {
    "tags": []
   },
   "source": [
    "---\n",
    "\n",
    "### The range of a projectile launched with a velocity (v) at and angle ($\\theta$) is\n",
    "\n",
    "$$ \\large\n",
    "R\\ =\\  {v^2 \\over g}\\ sin(2\\theta)\n",
    "$$"
   ]
  },
  {
   "cell_type": "markdown",
   "metadata": {},
   "source": [
    "**Problem 1** - Find R for v = 123 mph (miles per hour) and $\\theta$ = 1000 arc minutes"
   ]
  },
  {
   "cell_type": "code",
   "execution_count": 4,
   "metadata": {
    "collapsed": false,
    "jupyter": {
     "outputs_hidden": false
    }
   },
   "outputs": [],
   "source": [
    "# Write a function\n",
    "def p_range(v, theta):\n",
    "    g = 9.8 * (u.meter/(u.s**2))\n",
    "    R = ((v**2)/g) * np.sin(2*theta)\n",
    "    return R.decompose()"
   ]
  },
  {
   "cell_type": "code",
   "execution_count": 5,
   "metadata": {
    "collapsed": false,
    "jupyter": {
     "outputs_hidden": false
    }
   },
   "outputs": [],
   "source": [
    "# Run the Function\n",
    "q1 = p_range(\n",
    "    v = 123 * (imperial.mi/u.h),\n",
    "    theta = 1000 * u.arcmin\n",
    ")"
   ]
  },
  {
   "cell_type": "code",
   "execution_count": 6,
   "metadata": {
    "collapsed": false,
    "jupyter": {
     "outputs_hidden": false
    }
   },
   "outputs": [
    {
     "name": "stdout",
     "output_type": "stream",
     "text": [
      "The range of a projectile launched with a velocity of 123 mph and 1000 arcmins is 169.53 m\n"
     ]
    }
   ],
   "source": [
    "# Format the output\n",
    "print(f\"The range of a projectile launched with a velocity of 123 mph and 1000 arcmins is {q1:.2f}\")"
   ]
  },
  {
   "cell_type": "markdown",
   "metadata": {},
   "source": [
    "----\n",
    "**Problem 2** - How fast do you have to throw an abject at 33.3 degrees so that is goes exactly 100 yards? **Express your answer in mph**"
   ]
  },
  {
   "cell_type": "code",
   "execution_count": 7,
   "metadata": {
    "collapsed": false,
    "jupyter": {
     "outputs_hidden": false
    }
   },
   "outputs": [],
   "source": [
    "# Write a function\n",
    "def throw_vel(d, theta):\n",
    "    g = 9.8 * (u.meter/(u.s**2))\n",
    "    V = np.sqrt( (d*g)/np.sin(2*theta) )\n",
    "    return V.decompose()"
   ]
  },
  {
   "cell_type": "code",
   "execution_count": 8,
   "metadata": {
    "collapsed": false,
    "jupyter": {
     "outputs_hidden": false
    }
   },
   "outputs": [],
   "source": [
    "# Run the Function\n",
    "q2 = throw_vel(\n",
    "    d = 100 * imperial.yd,\n",
    "    theta = 33.3 * u.deg\n",
    ").to(imperial.mi/u.h)"
   ]
  },
  {
   "cell_type": "code",
   "execution_count": 9,
   "metadata": {
    "collapsed": false,
    "jupyter": {
     "outputs_hidden": false
    }
   },
   "outputs": [
    {
     "name": "stdout",
     "output_type": "stream",
     "text": [
      "An object must be thrown at 69.90 mi / h and 33.3 degrees to travel 100 yards.\n"
     ]
    }
   ],
   "source": [
    "# Format the output\n",
    "print(f\"An object must be thrown at {q2:.2f} and 33.3 degrees to travel 100 yards.\")"
   ]
  },
  {
   "cell_type": "markdown",
   "metadata": {},
   "source": [
    "---\n",
    "\n",
    "### Kepler's third law can be expressed as:\n",
    "\n",
    "$$ \\large\n",
    "T^2 = \\left( {{4\\pi^2} \\over {GM}} \\right)\\ r^3 \n",
    "$$\n",
    "\n",
    "Where __T__ is the orbial period of an object at distance (__r__) from the **center** of an object of mass (__M__)."
   ]
  },
  {
   "cell_type": "markdown",
   "metadata": {},
   "source": [
    "And the velocity of an object in orbit is\n",
    "\n",
    "$$ \\large\n",
    "v=\\sqrt{GM\\over r}\n",
    "$$"
   ]
  },
  {
   "cell_type": "markdown",
   "metadata": {},
   "source": [
    "**Problem 3** - Calculate the orbital period of International Space Station (ISS). ISS orbits 254 miles above the **surface** of the Earth. **Expess your answer in minutes** (make sure your answer makes sense!)."
   ]
  },
  {
   "cell_type": "code",
   "execution_count": 10,
   "metadata": {
    "collapsed": false,
    "jupyter": {
     "outputs_hidden": false
    }
   },
   "outputs": [],
   "source": [
    "# Write a function\n",
    "def kep3(dist, mass):\n",
    "    num = 4 * (np.pi**2)\n",
    "    den = const.G * mass\n",
    "    \n",
    "    k = ( (num/den) * (dist**3) )\n",
    "    \n",
    "    T = np.sqrt(k)\n",
    "    \n",
    "    return T.decompose().to(u.min)"
   ]
  },
  {
   "cell_type": "code",
   "execution_count": 11,
   "metadata": {
    "collapsed": false,
    "jupyter": {
     "outputs_hidden": false
    }
   },
   "outputs": [],
   "source": [
    "# Run the Function\n",
    "q3 = kep3(\n",
    "    dist = ((254 * imperial.mi) + const.R_earth),\n",
    "    mass = const.M_earth\n",
    ")"
   ]
  },
  {
   "cell_type": "code",
   "execution_count": 12,
   "metadata": {
    "collapsed": false,
    "jupyter": {
     "outputs_hidden": false
    }
   },
   "outputs": [
    {
     "name": "stdout",
     "output_type": "stream",
     "text": [
      "The orbital period of the ISS is 92.74 min\n"
     ]
    }
   ],
   "source": [
    "# Format the output\n",
    "print(f\"The orbital period of the ISS is {q3:.2f}\")"
   ]
  },
  {
   "cell_type": "markdown",
   "metadata": {},
   "source": [
    "----\n",
    "**Problem 4** - Calculate the velocity of ISS. **Expess your answer in mph**."
   ]
  },
  {
   "cell_type": "code",
   "execution_count": 13,
   "metadata": {
    "collapsed": false,
    "jupyter": {
     "outputs_hidden": false
    }
   },
   "outputs": [],
   "source": [
    "# Write a function\n",
    "def iss_vel(dist, mass):\n",
    "    v = np.sqrt((const.G * mass) / dist)\n",
    "    return v.decompose()"
   ]
  },
  {
   "cell_type": "code",
   "execution_count": 14,
   "metadata": {
    "collapsed": false,
    "jupyter": {
     "outputs_hidden": false
    }
   },
   "outputs": [],
   "source": [
    "# Run the Function\n",
    "q4 = iss_vel(\n",
    "    dist = ((254 * imperial.mi) + const.R_earth),\n",
    "    mass = const.M_earth\n",
    ").to(imperial.mi/u.h)"
   ]
  },
  {
   "cell_type": "code",
   "execution_count": 15,
   "metadata": {
    "collapsed": false,
    "jupyter": {
     "outputs_hidden": false
    }
   },
   "outputs": [
    {
     "name": "stdout",
     "output_type": "stream",
     "text": [
      "The velocity of the ISS is 17143.03 mi / h\n"
     ]
    }
   ],
   "source": [
    "# Format the output\n",
    "print(f\"The velocity of the ISS is {q4:.2f}\")"
   ]
  },
  {
   "cell_type": "markdown",
   "metadata": {},
   "source": [
    "----\n",
    "**Problem 5** - The Procliamer's song [500 miles](https://youtu.be/MJuyn0WAYNI?t=27s) has a duration of 3 minutes and 33 seconds. Calculate at what altitude, above the Earth's surface, you would have to orbit to go 1000 miles in this time. **Express your answer in miles above the Earth's surface**."
   ]
  },
  {
   "cell_type": "code",
   "execution_count": 16,
   "metadata": {
    "collapsed": false,
    "jupyter": {
     "outputs_hidden": false
    }
   },
   "outputs": [],
   "source": [
    "# Write a function\n",
    "def alt_orb(dist, time, mass):\n",
    "    v = (dist/time).to(imperial.mi/u.h)\n",
    "    r = (const.G * mass) / (v**2) - const.R_earth\n",
    "    return r.decompose()"
   ]
  },
  {
   "cell_type": "code",
   "execution_count": 17,
   "metadata": {
    "collapsed": false,
    "jupyter": {
     "outputs_hidden": false
    }
   },
   "outputs": [],
   "source": [
    "# Run the Function\n",
    "q5 = alt_orb(\n",
    "    dist = 1000 * imperial.mi,\n",
    "    time = 213 * u.s,\n",
    "    mass = const.M_earth\n",
    ").to(imperial.mi)"
   ]
  },
  {
   "cell_type": "code",
   "execution_count": 18,
   "metadata": {
    "collapsed": false,
    "jupyter": {
     "outputs_hidden": false
    }
   },
   "outputs": [
    {
     "name": "stdout",
     "output_type": "stream",
     "text": [
      "The altitude to travel 1000 miles in 3 mins and 33 secs is 375.44 mi\n"
     ]
    }
   ],
   "source": [
    "# Format the output\n",
    "print(f\"The altitude to travel 1000 miles in 3 mins and 33 secs is {q5:.2f}\")"
   ]
  },
  {
   "cell_type": "markdown",
   "metadata": {},
   "source": [
    "---\n",
    "\n",
    "### The Power flux being received by a solar panel in space can be expressed as:\n",
    "\n",
    "$$ \\large\n",
    "I\\  =\\ {{L_{\\odot}} \\over {4 \\pi d^2}}\\ \\varepsilon\n",
    "$$\n",
    "\n",
    "Where __I__ is the power __per unit area__ at a distance (__d__) from the Sun, and $\\varepsilon$ is the efficiency of the solar panel.\n",
    "\n",
    "The solar panels that power spacecraft have an efficiency of about 40%."
   ]
  },
  {
   "cell_type": "markdown",
   "metadata": {},
   "source": [
    "**Problem 6** -  The [New Horizons](http://pluto.jhuapl.edu/) spacecraft requires 220 Watts of power.\n",
    "\n",
    "Calculate the area of a solar panel that would be needed to power New Horizons at a distance of 1 AU from the Sun."
   ]
  },
  {
   "cell_type": "code",
   "execution_count": 19,
   "metadata": {
    "collapsed": false,
    "jupyter": {
     "outputs_hidden": false
    }
   },
   "outputs": [],
   "source": [
    "# Write a function\n",
    "def pflux(dist, efficiency):\n",
    "    num = u.Lsun * efficiency\n",
    "    den = (4*np.pi) * (dist**2)\n",
    "    I = num/den\n",
    "    return I.decompose()"
   ]
  },
  {
   "cell_type": "code",
   "execution_count": 20,
   "metadata": {
    "collapsed": false,
    "jupyter": {
     "outputs_hidden": false
    }
   },
   "outputs": [],
   "source": [
    "# Run the Function\n",
    "q6 = (220 * u.W) / pflux(\n",
    "    dist = u.AU,\n",
    "    efficiency = 0.4\n",
    ")\n",
    "q6 = q6.to(u.m**2)"
   ]
  },
  {
   "cell_type": "code",
   "execution_count": 21,
   "metadata": {
    "collapsed": false,
    "jupyter": {
     "outputs_hidden": false
    }
   },
   "outputs": [
    {
     "name": "stdout",
     "output_type": "stream",
     "text": [
      "The area of a solar panel that would be needed to power New Horizons at a distance of 1 AU and efficiency of 40% is 0.40 m2\n"
     ]
    }
   ],
   "source": [
    "# Format the output\n",
    "print(f\"The area of a solar panel that would be needed to power New Horizons at a distance of 1 AU and efficiency of 40% is {q6:.2f}\")"
   ]
  },
  {
   "cell_type": "markdown",
   "metadata": {},
   "source": [
    "----\n",
    "**Problem 7** - Express your answer in units of the area of a piece of US letter sized paper (8.5 in x 11 in)."
   ]
  },
  {
   "cell_type": "code",
   "execution_count": 22,
   "metadata": {},
   "outputs": [],
   "source": [
    "# Define the new unit\n",
    "paper_area = ( (8.5 * imperial.inch) * (11 * imperial.inch) ).to(u.m**2)\n",
    "\n",
    "q7 = q6 / paper_area"
   ]
  },
  {
   "cell_type": "code",
   "execution_count": 23,
   "metadata": {
    "collapsed": false,
    "jupyter": {
     "outputs_hidden": false
    }
   },
   "outputs": [
    {
     "name": "stdout",
     "output_type": "stream",
     "text": [
      "The area of a solar panel that would be required to power New Horizons at a distance of 1 AU and efficiency of 40% is 6.70 US letter sized papers\n"
     ]
    }
   ],
   "source": [
    "# Format the output\n",
    "print(f\"The area of a solar panel that would be required to power New Horizons at a distance of 1 AU and efficiency of 40% is {q7:.2f} US letter sized papers\")"
   ]
  },
  {
   "cell_type": "markdown",
   "metadata": {},
   "source": [
    "----\n",
    "**Problem 8** - Same question as above but now a d = 30 AU.\n",
    "\n",
    "Express you answer in US letter sized paper"
   ]
  },
  {
   "cell_type": "code",
   "execution_count": 24,
   "metadata": {
    "collapsed": false,
    "jupyter": {
     "outputs_hidden": false
    }
   },
   "outputs": [],
   "source": [
    "# Run the Function\n",
    "q8 = (220 * u.W) / pflux(\n",
    "    dist = 30 * u.AU,\n",
    "    efficiency = 0.4\n",
    ")\n",
    "q8 = (q8.to(u.m**2)) / paper_area"
   ]
  },
  {
   "cell_type": "code",
   "execution_count": 25,
   "metadata": {
    "collapsed": false,
    "jupyter": {
     "outputs_hidden": false
    }
   },
   "outputs": [
    {
     "name": "stdout",
     "output_type": "stream",
     "text": [
      "The area of a solar panel that would be required to power New Horizons at a distance of 30 AU and efficiency of 40% is 6028.58 US letter sized papers\n"
     ]
    }
   ],
   "source": [
    "# Format the output\n",
    "print(f\"The area of a solar panel that would be required to power New Horizons at a distance of 30 AU and efficiency of 40% is {q8:.2f} US letter sized papers\")"
   ]
  },
  {
   "cell_type": "markdown",
   "metadata": {},
   "source": [
    "----\n",
    "**Problem 9** - [The UW Red Square](https://www.youtube.com/watch?v=diXpKym1svI) is (sort of) rectangular with a size of about 290 ft x 190 ft.\n",
    "\n",
    "The main part of the Oort cloud is thought to be at a distance of about 10,000 AU.\n",
    "\n",
    "Calculate the size of the solar panel New Horizons would need to operate in the Oort cloud.\n",
    "\n",
    "**Express your answer in units of the area UW's Red Square**."
   ]
  },
  {
   "cell_type": "code",
   "execution_count": 26,
   "metadata": {},
   "outputs": [],
   "source": [
    "# Define the new unit\n",
    "redsq_area = ( (290 * imperial.ft)*(190 * imperial.ft) ).to(u.m**2)"
   ]
  },
  {
   "cell_type": "code",
   "execution_count": 27,
   "metadata": {
    "collapsed": false,
    "jupyter": {
     "outputs_hidden": false
    }
   },
   "outputs": [],
   "source": [
    "# Run the Function\n",
    "q9 = (220 * u.W) / pflux(\n",
    "    dist = (1e4) * u.AU,\n",
    "    efficiency = 0.4\n",
    ")\n",
    "q9 = (q9.to(u.m**2)) / redsq_area"
   ]
  },
  {
   "cell_type": "code",
   "execution_count": 28,
   "metadata": {},
   "outputs": [
    {
     "name": "stdout",
     "output_type": "stream",
     "text": [
      "The area of a solar panel that would be required to power New Horizons at a distance of 10,000 AU and efficiency of 40% is 7893.51 UW Red Squares\n"
     ]
    }
   ],
   "source": [
    "# Format the output\n",
    "print(f\"The area of a solar panel that would be required to power New Horizons at a distance of 10,000 AU and efficiency of 40% is {q9:.2f} UW Red Squares\")"
   ]
  },
  {
   "cell_type": "markdown",
   "metadata": {},
   "source": [
    "----\n",
    "**Problem 10** -  Calculate the maximum distance from the Sun where a solar panel the size of UW's Red Square can power the New Horizons spacecraft. **Express your answer in AU**."
   ]
  },
  {
   "cell_type": "code",
   "execution_count": 29,
   "metadata": {
    "collapsed": false,
    "jupyter": {
     "outputs_hidden": false
    }
   },
   "outputs": [],
   "source": [
    "# Write a function\n",
    "def solpow_dist(power, size, efficiency):\n",
    "    num = u.Lsun * efficiency * size\n",
    "    den = (4*np.pi) * power\n",
    "    d = np.sqrt(num/den)\n",
    "    return d.decompose()"
   ]
  },
  {
   "cell_type": "code",
   "execution_count": 30,
   "metadata": {
    "collapsed": false,
    "jupyter": {
     "outputs_hidden": false
    }
   },
   "outputs": [],
   "source": [
    "# Run the Function\n",
    "q10 = solpow_dist(\n",
    "    power = 220 * u.W,\n",
    "    size = redsq_area,\n",
    "    efficiency = 0.4\n",
    ").to(u.AU)"
   ]
  },
  {
   "cell_type": "code",
   "execution_count": 31,
   "metadata": {
    "collapsed": false,
    "jupyter": {
     "outputs_hidden": false
    }
   },
   "outputs": [
    {
     "name": "stdout",
     "output_type": "stream",
     "text": [
      "The maximum distance from the Sun where a solar panel the size of UW's Red Square can power the New Horizons spacecraft is 112.56 AU\n"
     ]
    }
   ],
   "source": [
    "# Format the output\n",
    "print(f\"The maximum distance from the Sun where a solar panel the size of UW's Red Square can power the New Horizons spacecraft is {q10:.2f}\")"
   ]
  },
  {
   "cell_type": "markdown",
   "metadata": {},
   "source": [
    "----\n",
    "\n",
    "### Spreading out the Sun\n",
    "\n",
    "* Assume that the Sun is made of just protons\n",
    "* The best laboratory vacuum system can create a vacuum with a particle density of 25 particles/cm$^{3}$"
   ]
  },
  {
   "cell_type": "markdown",
   "metadata": {},
   "source": [
    "**Problem 11** - Calculate the **Diameter** of a sphere you would need so that one solar mass of protons spread out evenly would have a particle density of the best laboratory vacuum system. **Express your answer in light years**."
   ]
  },
  {
   "cell_type": "code",
   "execution_count": 32,
   "metadata": {
    "collapsed": false,
    "jupyter": {
     "outputs_hidden": false
    }
   },
   "outputs": [],
   "source": [
    "# Write a function\n",
    "def di_vac(density, mass):\n",
    "    diameter = np.cbrt( (mass * 6) / (density * np.pi) )\n",
    "    return diameter.decompose()"
   ]
  },
  {
   "cell_type": "code",
   "execution_count": 33,
   "metadata": {
    "collapsed": false,
    "jupyter": {
     "outputs_hidden": false
    }
   },
   "outputs": [],
   "source": [
    "# Run the Function\n",
    "q11 = di_vac(\n",
    "    density = 25 * u.M_p / (u.cm**3),\n",
    "    mass = const.M_sun\n",
    ").to(u.lyr)"
   ]
  },
  {
   "cell_type": "code",
   "execution_count": 34,
   "metadata": {},
   "outputs": [
    {
     "name": "stdout",
     "output_type": "stream",
     "text": [
      "The diameter of the sphere would be 4.75 lyr\n"
     ]
    }
   ],
   "source": [
    "# Format the output\n",
    "print(f\"The diameter of the sphere would be {q11:.2f}\")"
   ]
  },
  {
   "cell_type": "markdown",
   "metadata": {
    "tags": []
   },
   "source": [
    "---\n",
    "\n",
    "### Earth?\n",
    "\n",
    "The self gravitational potential energy of the Earth is:\n",
    "\n",
    "$$ \\large\n",
    "PE \\ = \\ \\frac{3}{5} \\cdot \\frac{GM_{\\oplus}^2}{R_{\\oplus}}\n",
    "$$\n",
    "\n",
    "This is the amount of energy you need to give the Earth to move all of its components pieces infinitely far away (i.e. to destroy it!)."
   ]
  },
  {
   "cell_type": "markdown",
   "metadata": {},
   "source": [
    "**Problem 12** - Calculate how massive an object you whould have to hit the Earth with at 45,000 mph to destroy the Earth. **Express your answer in Earth masses**."
   ]
  },
  {
   "cell_type": "code",
   "execution_count": 35,
   "metadata": {
    "collapsed": false,
    "jupyter": {
     "outputs_hidden": false
    }
   },
   "outputs": [],
   "source": [
    "# Write a function\n",
    "def obj_mass(velocity):\n",
    "    term = (const.G * (const.M_earth**2)) / (const.R_earth * (velocity**2))\n",
    "    mass = (6/5) * term\n",
    "    return mass.decompose()"
   ]
  },
  {
   "cell_type": "code",
   "execution_count": 46,
   "metadata": {
    "collapsed": false,
    "jupyter": {
     "outputs_hidden": false
    }
   },
   "outputs": [],
   "source": [
    "# Run the Function\n",
    "q12 = obj_mass(\n",
    "    velocity = 45000 * (imperial.mi/u.h)\n",
    ").to(u.M_earth)"
   ]
  },
  {
   "cell_type": "code",
   "execution_count": 47,
   "metadata": {
    "collapsed": false,
    "jupyter": {
     "outputs_hidden": false
    }
   },
   "outputs": [
    {
     "name": "stdout",
     "output_type": "stream",
     "text": [
      "The mass of the object required to destroy earth at 45,000 mph is 0.19 earthMass.\n"
     ]
    }
   ],
   "source": [
    "# Format the output\n",
    "print(f\"The mass of the object required to destroy earth at 45,000 mph is {q12:.2f}.\")"
   ]
  },
  {
   "cell_type": "markdown",
   "metadata": {
    "tags": []
   },
   "source": [
    "---\n",
    "\n",
    "### Stellar Luminosity\n",
    "\n",
    "The Luminosity of a star can be expressed as:\n",
    "\n",
    "$$ \\large\n",
    "L\\  =\\ 4 \\pi R^2 \\sigma T^{4} \n",
    "$$\n",
    "\n",
    "Where **R** is the star's radius and **T** is the star's temperature, and $\\sigma$ is the Stefan–Boltzmann constant."
   ]
  },
  {
   "cell_type": "markdown",
   "metadata": {},
   "source": [
    "**Problem 13** - Calculate the temperature of a star that is the same size as the Sun and a luminosity of 2.99 $\\times$ 10$^{27}$ BTUs/day."
   ]
  },
  {
   "cell_type": "code",
   "execution_count": 38,
   "metadata": {
    "collapsed": false,
    "jupyter": {
     "outputs_hidden": false
    }
   },
   "outputs": [],
   "source": [
    "# Write a function\n",
    "def star_temp(luminosity, radius):\n",
    "    inside = luminosity / ( 4 * np.pi * (radius**2) * const.sigma_sb )\n",
    "    t = inside**0.25\n",
    "    return t.decompose()"
   ]
  },
  {
   "cell_type": "code",
   "execution_count": 39,
   "metadata": {
    "collapsed": false,
    "jupyter": {
     "outputs_hidden": false
    }
   },
   "outputs": [],
   "source": [
    "# Run the Function\n",
    "q13 = star_temp(\n",
    "    luminosity = 2.99e27 * (imperial.BTU/u.d),\n",
    "    radius = const.R_sun\n",
    ")"
   ]
  },
  {
   "cell_type": "code",
   "execution_count": 40,
   "metadata": {
    "tags": []
   },
   "outputs": [
    {
     "name": "stdout",
     "output_type": "stream",
     "text": [
      "The temperature of this star would be 3207.69 K.\n"
     ]
    }
   ],
   "source": [
    "# Format the output\n",
    "print(f\"The temperature of this star would be {q13:.2f}.\")"
   ]
  },
  {
   "cell_type": "markdown",
   "metadata": {
    "tags": []
   },
   "source": [
    "---\n",
    "\n",
    "### Under Pressure\n",
    "\n",
    "For objects in hydrostatic equilibrium, like planets and stars, the pressure at a distance (**r**) from the **core** of an object of radius (**R**) and density ($\\rho$) is:\n",
    "\n",
    "$$ \\large\n",
    "P(r) = \\frac{2}{3} \\pi G \\rho^{2} \\left( R^{2} - r^{2} \\right)\n",
    "$$\n"
   ]
  },
  {
   "cell_type": "markdown",
   "metadata": {},
   "source": [
    "**Problem 14** - Diamonds need a minimum pressure of about 5 $\\times$ 10$^{9}$ Pa to form.  Calculate how **deep below the crust of the Earth** do you need to go to form diamonds. (Density of Earth = 5,520 kg/m$^{3}$). **Express your answer in km**."
   ]
  },
  {
   "cell_type": "code",
   "execution_count": 41,
   "metadata": {
    "collapsed": false,
    "jupyter": {
     "outputs_hidden": false
    }
   },
   "outputs": [],
   "source": [
    "# Write a function\n",
    "def diamonds(radius, pressure, density):\n",
    "    # calculating distance from the core (r)\n",
    "    term = (pressure * 3) / (2*np.pi * const.G * density**2)\n",
    "    r = np.sqrt(radius**2 - term)\n",
    "\n",
    "    # calculate distance from surface (d)\n",
    "    d = radius - r\n",
    "\n",
    "    return d.decompose()"
   ]
  },
  {
   "cell_type": "code",
   "execution_count": 42,
   "metadata": {
    "collapsed": false,
    "jupyter": {
     "outputs_hidden": false
    }
   },
   "outputs": [],
   "source": [
    "# Run the Function\n",
    "q14 = diamonds(\n",
    "    radius = const.R_earth,\n",
    "    pressure = 5e9 * u.Pa,\n",
    "    density = 5520 * (u.kg/(u.m**3))\n",
    ").to(u.km)"
   ]
  },
  {
   "cell_type": "code",
   "execution_count": 43,
   "metadata": {
    "tags": []
   },
   "outputs": [
    {
     "name": "stdout",
     "output_type": "stream",
     "text": [
      "Diamonds will form 92.70 km below the crust of the Earth.\n"
     ]
    }
   ],
   "source": [
    "# Format the output\n",
    "print(f\"Diamonds will form {q14:.2f} below the crust of the Earth.\")"
   ]
  },
  {
   "cell_type": "markdown",
   "metadata": {},
   "source": [
    "---\n",
    "\n",
    "### Due Mon Jan 29 - 1 pm\n",
    "\n",
    "- `Save your file to HTML: File -> Download as -> HTML`\n",
    "- `Upload the .html file to Canvas`"
   ]
  },
  {
   "cell_type": "code",
   "execution_count": null,
   "metadata": {},
   "outputs": [],
   "source": []
  }
 ],
 "metadata": {
  "kernelspec": {
   "display_name": "Python 3 (ipykernel)",
   "language": "python",
   "name": "python3"
  },
  "language_info": {
   "codemirror_mode": {
    "name": "ipython",
    "version": 3
   },
   "file_extension": ".py",
   "mimetype": "text/x-python",
   "name": "python",
   "nbconvert_exporter": "python",
   "pygments_lexer": "ipython3",
   "version": "3.10.13"
  }
 },
 "nbformat": 4,
 "nbformat_minor": 4
}
