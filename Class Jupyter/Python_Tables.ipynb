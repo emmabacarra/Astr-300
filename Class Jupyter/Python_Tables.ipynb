{
 "cells": [
  {
   "cell_type": "markdown",
   "metadata": {},
   "source": [
    "# Dictionaries and Tables"
   ]
  },
  {
   "cell_type": "markdown",
   "metadata": {},
   "source": [
    "## Dictionaries\n",
    "\n",
    "* Dictionaries are (sort of) a generalized version of arrays. Instead of `Index,Value` pairs of arrays, dictionares ues `Key:Value` pairs.\n",
    "* They can be created via a comma-separated list of `Key:Value` pairs within curly braces `{}`\n",
    "* Dictionaries are at the heart of a lot of what goes on in Python \"under-the-hood\"\n",
    "\n",
    "![Python Dict](https://uwashington-astro300.github.io/A300_images/PyDict.jpg)"
   ]
  },
  {
   "cell_type": "code",
   "execution_count": 2,
   "metadata": {},
   "outputs": [],
   "source": [
    "import numpy as np"
   ]
  },
  {
   "cell_type": "code",
   "execution_count": 3,
   "metadata": {
    "collapsed": false,
    "jupyter": {
     "outputs_hidden": false
    }
   },
   "outputs": [
    {
     "data": {
      "text/plain": [
       "{'one': 1, 'two': array([2, 2]), 'three': array([3, 3, 3])}"
      ]
     },
     "execution_count": 3,
     "metadata": {},
     "output_type": "execute_result"
    }
   ],
   "source": [
    "my_dictionary = {'one': 1, \n",
    "                 'two': np.array([2, 2]), \n",
    "                 'three': np.array([3, 3, 3])}\n",
    "\n",
    "my_dictionary"
   ]
  },
  {
   "cell_type": "code",
   "execution_count": 4,
   "metadata": {},
   "outputs": [
    {
     "data": {
      "text/plain": [
       "dict"
      ]
     },
     "execution_count": 4,
     "metadata": {},
     "output_type": "execute_result"
    }
   ],
   "source": [
    "type(my_dictionary)"
   ]
  },
  {
   "cell_type": "markdown",
   "metadata": {},
   "source": [
    "#### Access a `value` via the `key`"
   ]
  },
  {
   "cell_type": "code",
   "execution_count": 5,
   "metadata": {
    "collapsed": false,
    "jupyter": {
     "outputs_hidden": false
    }
   },
   "outputs": [
    {
     "data": {
      "text/plain": [
       "array([2, 2])"
      ]
     },
     "execution_count": 5,
     "metadata": {},
     "output_type": "execute_result"
    }
   ],
   "source": [
    "my_dictionary['two']"
   ]
  },
  {
   "cell_type": "markdown",
   "metadata": {},
   "source": [
    "#### Add an `index` after the `key` for a slice of a `value`"
   ]
  },
  {
   "cell_type": "code",
   "execution_count": 6,
   "metadata": {},
   "outputs": [
    {
     "data": {
      "text/plain": [
       "2"
      ]
     },
     "execution_count": 6,
     "metadata": {},
     "output_type": "execute_result"
    }
   ],
   "source": [
    "my_dictionary['two'][0]"
   ]
  },
  {
   "cell_type": "markdown",
   "metadata": {},
   "source": [
    "#### New items can be added to the dictionary using indexing"
   ]
  },
  {
   "cell_type": "code",
   "execution_count": 7,
   "metadata": {
    "collapsed": false,
    "jupyter": {
     "outputs_hidden": false
    }
   },
   "outputs": [
    {
     "data": {
      "text/plain": [
       "{'one': 1,\n",
       " 'two': array([2, 2]),\n",
       " 'three': array([3, 3, 3]),\n",
       " 'ninety': array(['n', 'i', 'n', 'e', 't', 'y'], dtype='<U1')}"
      ]
     },
     "execution_count": 7,
     "metadata": {},
     "output_type": "execute_result"
    }
   ],
   "source": [
    "my_dictionary['ninety'] = np.array(['n', 'i', 'n', 'e', 't', 'y'])\n",
    "\n",
    "my_dictionary"
   ]
  },
  {
   "cell_type": "markdown",
   "metadata": {},
   "source": [
    "----\n",
    "\n",
    "#### About Keys\n",
    "\n",
    "- A given key can appear in a dictionary only once. Duplicate keys are not allowed.\n",
    "- If you use a key a second time during the initial creation of a dictionary, the second occurrence will override the first.\n",
    "- Keys are usually `str` datatypes, but `int` and `float` can be used as well.\n",
    "\n"
   ]
  },
  {
   "cell_type": "code",
   "execution_count": 8,
   "metadata": {
    "collapsed": false,
    "jupyter": {
     "outputs_hidden": false
    }
   },
   "outputs": [
    {
     "data": {
      "text/plain": [
       "dict_keys(['one', 'two', 'three', 'ninety'])"
      ]
     },
     "execution_count": 8,
     "metadata": {},
     "output_type": "execute_result"
    }
   ],
   "source": [
    "my_dictionary.keys()"
   ]
  },
  {
   "cell_type": "markdown",
   "metadata": {},
   "source": [
    "#### Values can be pretty much anything at all - even other dictionaries."
   ]
  },
  {
   "cell_type": "code",
   "execution_count": 9,
   "metadata": {
    "collapsed": false,
    "jupyter": {
     "outputs_hidden": false
    }
   },
   "outputs": [
    {
     "data": {
      "text/plain": [
       "dict_values([1, array([2, 2]), array([3, 3, 3]), array(['n', 'i', 'n', 'e', 't', 'y'], dtype='<U1')])"
      ]
     },
     "execution_count": 9,
     "metadata": {},
     "output_type": "execute_result"
    }
   ],
   "source": [
    "my_dictionary.values()"
   ]
  },
  {
   "cell_type": "markdown",
   "metadata": {},
   "source": [
    "#### Dictionaries are Iterable"
   ]
  },
  {
   "cell_type": "code",
   "execution_count": 10,
   "metadata": {},
   "outputs": [
    {
     "name": "stdout",
     "output_type": "stream",
     "text": [
      "one\n",
      "two\n",
      "three\n",
      "ninety\n"
     ]
    }
   ],
   "source": [
    "for my_key in my_dictionary:\n",
    "    print (my_key)"
   ]
  },
  {
   "cell_type": "code",
   "execution_count": 11,
   "metadata": {
    "collapsed": false,
    "jupyter": {
     "outputs_hidden": false
    }
   },
   "outputs": [
    {
     "name": "stdout",
     "output_type": "stream",
     "text": [
      "one 1\n",
      "two [2 2]\n",
      "three [3 3 3]\n",
      "ninety ['n' 'i' 'n' 'e' 't' 'y']\n"
     ]
    }
   ],
   "source": [
    "for my_key, my_value in my_dictionary.items():\n",
    "    print (my_key, my_value)"
   ]
  },
  {
   "cell_type": "markdown",
   "metadata": {},
   "source": [
    "---\n",
    "\n",
    "# Astropy tables - `QTable`\n",
    "\n",
    "### Provides a way for reading, storing and manipulating tables of all sorts of data in a very numpy-like way."
   ]
  },
  {
   "cell_type": "code",
   "execution_count": 12,
   "metadata": {
    "collapsed": false,
    "jupyter": {
     "outputs_hidden": false
    }
   },
   "outputs": [],
   "source": [
    "from astropy.table import QTable"
   ]
  },
  {
   "cell_type": "markdown",
   "metadata": {},
   "source": [
    "### Make some arrays of data"
   ]
  },
  {
   "cell_type": "code",
   "execution_count": 13,
   "metadata": {
    "collapsed": false,
    "jupyter": {
     "outputs_hidden": false
    }
   },
   "outputs": [
    {
     "data": {
      "text/plain": [
       "array(['A5853', 'B4472', 'C3864', 'D7628', 'E2947', 'F5140', 'G5141'],\n",
       "      dtype='<U5')"
      ]
     },
     "execution_count": 13,
     "metadata": {},
     "output_type": "execute_result"
    }
   ],
   "source": [
    "my_star_id = np.array(['A5853', 'B4472', 'C3864', 'D7628', 'E2947', 'F5140', 'G5141'])\n",
    "\n",
    "my_star_id"
   ]
  },
  {
   "cell_type": "code",
   "execution_count": 14,
   "metadata": {},
   "outputs": [
    {
     "data": {
      "text/plain": [
       "array([768.07, 546.98, 415.18, 392.75, 374.49, 373.84, 367.71])"
      ]
     },
     "execution_count": 14,
     "metadata": {},
     "output_type": "execute_result"
    }
   ],
   "source": [
    "my_star_parallax = np.array([768.07, 546.98, 415.18, 392.75, 374.49, 373.84, 367.71])\n",
    "\n",
    "my_star_parallax"
   ]
  },
  {
   "cell_type": "code",
   "execution_count": 15,
   "metadata": {},
   "outputs": [
    {
     "data": {
      "text/plain": [
       "array([ 8.98,  8.19, 11.03,  6.55,  8.52, 10.81, 10.5 ])"
      ]
     },
     "execution_count": 15,
     "metadata": {},
     "output_type": "execute_result"
    }
   ],
   "source": [
    "my_star_gmag = np.array([8.98, 8.19, 11.03, 6.55, 8.52, 10.81, 10.50])\n",
    "\n",
    "my_star_gmag"
   ]
  },
  {
   "cell_type": "markdown",
   "metadata": {},
   "source": [
    "### Use the arrays as the \"data\" part of a dictionary"
   ]
  },
  {
   "cell_type": "code",
   "execution_count": 16,
   "metadata": {},
   "outputs": [],
   "source": [
    "my_star_name_dict = {'Star ID': my_star_id,\n",
    "                     'Parallax': my_star_parallax,\n",
    "                     'G Mag': my_star_gmag\n",
    "                     }"
   ]
  },
  {
   "cell_type": "code",
   "execution_count": 17,
   "metadata": {},
   "outputs": [
    {
     "name": "stdout",
     "output_type": "stream",
     "text": [
      "Star ID ['A5853' 'B4472' 'C3864' 'D7628' 'E2947' 'F5140' 'G5141']\n",
      "Parallax [768.07 546.98 415.18 392.75 374.49 373.84 367.71]\n",
      "G Mag [ 8.98  8.19 11.03  6.55  8.52 10.81 10.5 ]\n"
     ]
    }
   ],
   "source": [
    "for my_key, my_value in my_star_name_dict.items():\n",
    "    print (my_key, my_value)"
   ]
  },
  {
   "cell_type": "markdown",
   "metadata": {},
   "source": [
    "## Arrays -> Dictionaries -> `QTable`\n",
    "\n",
    "* Each Array is made into a Dictionary\n",
    "* Each Dictionary become a Column in the `QTable`"
   ]
  },
  {
   "cell_type": "code",
   "execution_count": 18,
   "metadata": {
    "collapsed": false,
    "jupyter": {
     "outputs_hidden": false
    }
   },
   "outputs": [],
   "source": [
    "star_table = QTable(my_star_name_dict)"
   ]
  },
  {
   "cell_type": "code",
   "execution_count": 19,
   "metadata": {
    "collapsed": false,
    "jupyter": {
     "outputs_hidden": false
    }
   },
   "outputs": [
    {
     "data": {
      "text/html": [
       "<div><i>QTable length=7</i>\n",
       "<table id=\"table135907553643248\" class=\"table-striped table-bordered table-condensed\">\n",
       "<thead><tr><th>Star ID</th><th>Parallax</th><th>G Mag</th></tr></thead>\n",
       "<thead><tr><th>str5</th><th>float64</th><th>float64</th></tr></thead>\n",
       "<tr><td>A5853</td><td>768.07</td><td>8.98</td></tr>\n",
       "<tr><td>B4472</td><td>546.98</td><td>8.19</td></tr>\n",
       "<tr><td>C3864</td><td>415.18</td><td>11.03</td></tr>\n",
       "<tr><td>D7628</td><td>392.75</td><td>6.55</td></tr>\n",
       "<tr><td>E2947</td><td>374.49</td><td>8.52</td></tr>\n",
       "<tr><td>F5140</td><td>373.84</td><td>10.81</td></tr>\n",
       "<tr><td>G5141</td><td>367.71</td><td>10.5</td></tr>\n",
       "</table></div>"
      ],
      "text/plain": [
       "<QTable length=7>\n",
       "Star ID Parallax  G Mag \n",
       "  str5  float64  float64\n",
       "------- -------- -------\n",
       "  A5853   768.07    8.98\n",
       "  B4472   546.98    8.19\n",
       "  C3864   415.18   11.03\n",
       "  D7628   392.75    6.55\n",
       "  E2947   374.49    8.52\n",
       "  F5140   373.84   10.81\n",
       "  G5141   367.71    10.5"
      ]
     },
     "execution_count": 19,
     "metadata": {},
     "output_type": "execute_result"
    }
   ],
   "source": [
    "star_table"
   ]
  },
  {
   "cell_type": "code",
   "execution_count": 20,
   "metadata": {
    "collapsed": false,
    "jupyter": {
     "outputs_hidden": false
    }
   },
   "outputs": [
    {
     "name": "stdout",
     "output_type": "stream",
     "text": [
      "Star ID Parallax G Mag\n",
      "------- -------- -----\n",
      "  A5853   768.07  8.98\n",
      "  B4472   546.98  8.19\n",
      "  C3864   415.18 11.03\n",
      "  D7628   392.75  6.55\n",
      "  E2947   374.49  8.52\n",
      "  F5140   373.84 10.81\n",
      "  G5141   367.71  10.5\n"
     ]
    }
   ],
   "source": [
    "print(star_table)"
   ]
  },
  {
   "cell_type": "code",
   "execution_count": 21,
   "metadata": {},
   "outputs": [
    {
     "data": {
      "text/html": [
       "<i>QTable length=7</i>\n",
       "<table id=\"table135907553643248-914649\" class=\"table-striped table-bordered table-condensed\">\n",
       "<thead><tr><th>idx</th><th>Star ID</th><th>Parallax</th><th>G Mag</th></tr></thead>\n",
       "<tr><td>0</td><td>A5853</td><td>768.07</td><td>8.98</td></tr>\n",
       "<tr><td>1</td><td>B4472</td><td>546.98</td><td>8.19</td></tr>\n",
       "<tr><td>2</td><td>C3864</td><td>415.18</td><td>11.03</td></tr>\n",
       "<tr><td>3</td><td>D7628</td><td>392.75</td><td>6.55</td></tr>\n",
       "<tr><td>4</td><td>E2947</td><td>374.49</td><td>8.52</td></tr>\n",
       "<tr><td>5</td><td>F5140</td><td>373.84</td><td>10.81</td></tr>\n",
       "<tr><td>6</td><td>G5141</td><td>367.71</td><td>10.5</td></tr>\n",
       "</table><style>table.dataTable {clear: both; width: auto !important; margin: 0 !important;}\n",
       ".dataTables_info, .dataTables_length, .dataTables_filter, .dataTables_paginate{\n",
       "display: inline-block; margin-right: 1em; }\n",
       ".paginate_button { margin-right: 5px; }\n",
       "</style>\n",
       "<script>\n",
       "\n",
       "var astropy_sort_num = function(a, b) {\n",
       "    var a_num = parseFloat(a);\n",
       "    var b_num = parseFloat(b);\n",
       "\n",
       "    if (isNaN(a_num) && isNaN(b_num))\n",
       "        return ((a < b) ? -1 : ((a > b) ? 1 : 0));\n",
       "    else if (!isNaN(a_num) && !isNaN(b_num))\n",
       "        return ((a_num < b_num) ? -1 : ((a_num > b_num) ? 1 : 0));\n",
       "    else\n",
       "        return isNaN(a_num) ? -1 : 1;\n",
       "}\n",
       "\n",
       "require.config({paths: {\n",
       "    datatables: 'https://cdn.datatables.net/1.10.12/js/jquery.dataTables.min'\n",
       "}});\n",
       "require([\"datatables\"], function(){\n",
       "    console.log(\"$('#table135907553643248-914649').dataTable()\");\n",
       "    \n",
       "jQuery.extend( jQuery.fn.dataTableExt.oSort, {\n",
       "    \"optionalnum-asc\": astropy_sort_num,\n",
       "    \"optionalnum-desc\": function (a,b) { return -astropy_sort_num(a, b); }\n",
       "});\n",
       "\n",
       "    $('#table135907553643248-914649').dataTable({\n",
       "        order: [],\n",
       "        pageLength: 50,\n",
       "        lengthMenu: [[10, 25, 50, 100, 500, 1000, -1], [10, 25, 50, 100, 500, 1000, 'All']],\n",
       "        pagingType: \"full_numbers\",\n",
       "        columnDefs: [{targets: [0, 2, 3], type: \"optionalnum\"}]\n",
       "    });\n",
       "});\n",
       "</script>\n"
      ],
      "text/plain": [
       "<IPython.core.display.HTML object>"
      ]
     },
     "execution_count": 21,
     "metadata": {},
     "output_type": "execute_result"
    }
   ],
   "source": [
    "star_table.show_in_notebook()"
   ]
  },
  {
   "cell_type": "code",
   "execution_count": 22,
   "metadata": {
    "collapsed": false,
    "jupyter": {
     "outputs_hidden": false
    }
   },
   "outputs": [
    {
     "name": "stdout",
     "output_type": "stream",
     "text": [
      "<QTable length=7>\n",
      "  name    dtype \n",
      "-------- -------\n",
      " Star ID    str5\n",
      "Parallax float64\n",
      "   G Mag float64\n"
     ]
    }
   ],
   "source": [
    "star_table.info()"
   ]
  },
  {
   "cell_type": "code",
   "execution_count": 23,
   "metadata": {},
   "outputs": [
    {
     "name": "stdout",
     "output_type": "stream",
     "text": [
      "<QTable length=7>\n",
      "  name     mean    std    min    max  \n",
      "-------- ------- ------- ------ ------\n",
      " Star ID      --      --     --     --\n",
      "Parallax 462.717 137.428 367.71 768.07\n",
      "   G Mag 9.22571 1.52033   6.55  11.03\n"
     ]
    }
   ],
   "source": [
    "star_table.info('stats')"
   ]
  },
  {
   "cell_type": "markdown",
   "metadata": {},
   "source": [
    "### Number of values (rows)\n",
    "\n",
    "* Again, many ways to count"
   ]
  },
  {
   "cell_type": "code",
   "execution_count": 24,
   "metadata": {},
   "outputs": [
    {
     "data": {
      "text/plain": [
       "7"
      ]
     },
     "execution_count": 24,
     "metadata": {},
     "output_type": "execute_result"
    }
   ],
   "source": [
    "np.size(star_table)"
   ]
  },
  {
   "cell_type": "code",
   "execution_count": 25,
   "metadata": {},
   "outputs": [
    {
     "data": {
      "text/plain": [
       "7"
      ]
     },
     "execution_count": 25,
     "metadata": {},
     "output_type": "execute_result"
    }
   ],
   "source": [
    "len(star_table)"
   ]
  },
  {
   "cell_type": "markdown",
   "metadata": {},
   "source": [
    "## Slice Rows"
   ]
  },
  {
   "cell_type": "code",
   "execution_count": 26,
   "metadata": {
    "collapsed": false,
    "jupyter": {
     "outputs_hidden": false
    }
   },
   "outputs": [
    {
     "data": {
      "text/html": [
       "<div><i>QTable length=7</i>\n",
       "<table id=\"table135907553643248\" class=\"table-striped table-bordered table-condensed\">\n",
       "<thead><tr><th>Star ID</th><th>Parallax</th><th>G Mag</th></tr></thead>\n",
       "<thead><tr><th>str5</th><th>float64</th><th>float64</th></tr></thead>\n",
       "<tr><td>A5853</td><td>768.07</td><td>8.98</td></tr>\n",
       "<tr><td>B4472</td><td>546.98</td><td>8.19</td></tr>\n",
       "<tr><td>C3864</td><td>415.18</td><td>11.03</td></tr>\n",
       "<tr><td>D7628</td><td>392.75</td><td>6.55</td></tr>\n",
       "<tr><td>E2947</td><td>374.49</td><td>8.52</td></tr>\n",
       "<tr><td>F5140</td><td>373.84</td><td>10.81</td></tr>\n",
       "<tr><td>G5141</td><td>367.71</td><td>10.5</td></tr>\n",
       "</table></div>"
      ],
      "text/plain": [
       "<QTable length=7>\n",
       "Star ID Parallax  G Mag \n",
       "  str5  float64  float64\n",
       "------- -------- -------\n",
       "  A5853   768.07    8.98\n",
       "  B4472   546.98    8.19\n",
       "  C3864   415.18   11.03\n",
       "  D7628   392.75    6.55\n",
       "  E2947   374.49    8.52\n",
       "  F5140   373.84   10.81\n",
       "  G5141   367.71    10.5"
      ]
     },
     "execution_count": 26,
     "metadata": {},
     "output_type": "execute_result"
    }
   ],
   "source": [
    "star_table"
   ]
  },
  {
   "cell_type": "code",
   "execution_count": 27,
   "metadata": {
    "collapsed": false,
    "jupyter": {
     "outputs_hidden": false
    }
   },
   "outputs": [
    {
     "data": {
      "text/html": [
       "<div><i>QTable length=2</i>\n",
       "<table id=\"table135907553648240\" class=\"table-striped table-bordered table-condensed\">\n",
       "<thead><tr><th>Star ID</th><th>Parallax</th><th>G Mag</th></tr></thead>\n",
       "<thead><tr><th>str5</th><th>float64</th><th>float64</th></tr></thead>\n",
       "<tr><td>A5853</td><td>768.07</td><td>8.98</td></tr>\n",
       "<tr><td>B4472</td><td>546.98</td><td>8.19</td></tr>\n",
       "</table></div>"
      ],
      "text/plain": [
       "<QTable length=2>\n",
       "Star ID Parallax  G Mag \n",
       "  str5  float64  float64\n",
       "------- -------- -------\n",
       "  A5853   768.07    8.98\n",
       "  B4472   546.98    8.19"
      ]
     },
     "execution_count": 27,
     "metadata": {},
     "output_type": "execute_result"
    }
   ],
   "source": [
    "star_table[0:2]"
   ]
  },
  {
   "cell_type": "code",
   "execution_count": 28,
   "metadata": {
    "collapsed": false,
    "jupyter": {
     "outputs_hidden": false
    }
   },
   "outputs": [
    {
     "data": {
      "text/html": [
       "<div><i>QTable length=3</i>\n",
       "<table id=\"table135907553641712\" class=\"table-striped table-bordered table-condensed\">\n",
       "<thead><tr><th>Star ID</th><th>Parallax</th><th>G Mag</th></tr></thead>\n",
       "<thead><tr><th>str5</th><th>float64</th><th>float64</th></tr></thead>\n",
       "<tr><td>B4472</td><td>546.98</td><td>8.19</td></tr>\n",
       "<tr><td>D7628</td><td>392.75</td><td>6.55</td></tr>\n",
       "<tr><td>E2947</td><td>374.49</td><td>8.52</td></tr>\n",
       "</table></div>"
      ],
      "text/plain": [
       "<QTable length=3>\n",
       "Star ID Parallax  G Mag \n",
       "  str5  float64  float64\n",
       "------- -------- -------\n",
       "  B4472   546.98    8.19\n",
       "  D7628   392.75    6.55\n",
       "  E2947   374.49    8.52"
      ]
     },
     "execution_count": 28,
     "metadata": {},
     "output_type": "execute_result"
    }
   ],
   "source": [
    "star_table[[1,3,4]]"
   ]
  },
  {
   "cell_type": "markdown",
   "metadata": {},
   "source": [
    "## Slice Columns"
   ]
  },
  {
   "cell_type": "code",
   "execution_count": 29,
   "metadata": {
    "collapsed": false,
    "jupyter": {
     "outputs_hidden": false
    }
   },
   "outputs": [
    {
     "data": {
      "text/html": [
       "&lt;Column name=&apos;Star ID&apos; dtype=&apos;str5&apos; length=7&gt;\n",
       "<table>\n",
       "<tr><td>A5853</td></tr>\n",
       "<tr><td>B4472</td></tr>\n",
       "<tr><td>C3864</td></tr>\n",
       "<tr><td>D7628</td></tr>\n",
       "<tr><td>E2947</td></tr>\n",
       "<tr><td>F5140</td></tr>\n",
       "<tr><td>G5141</td></tr>\n",
       "</table>"
      ],
      "text/plain": [
       "<Column name='Star ID' dtype='str5' length=7>\n",
       "A5853\n",
       "B4472\n",
       "C3864\n",
       "D7628\n",
       "E2947\n",
       "F5140\n",
       "G5141"
      ]
     },
     "execution_count": 29,
     "metadata": {},
     "output_type": "execute_result"
    }
   ],
   "source": [
    "star_table['Star ID']"
   ]
  },
  {
   "cell_type": "code",
   "execution_count": 30,
   "metadata": {},
   "outputs": [
    {
     "data": {
      "text/html": [
       "<div><i>QTable length=7</i>\n",
       "<table id=\"table135907553651024\" class=\"table-striped table-bordered table-condensed\">\n",
       "<thead><tr><th>G Mag</th><th>Star ID</th></tr></thead>\n",
       "<thead><tr><th>float64</th><th>str5</th></tr></thead>\n",
       "<tr><td>8.98</td><td>A5853</td></tr>\n",
       "<tr><td>8.19</td><td>B4472</td></tr>\n",
       "<tr><td>11.03</td><td>C3864</td></tr>\n",
       "<tr><td>6.55</td><td>D7628</td></tr>\n",
       "<tr><td>8.52</td><td>E2947</td></tr>\n",
       "<tr><td>10.81</td><td>F5140</td></tr>\n",
       "<tr><td>10.5</td><td>G5141</td></tr>\n",
       "</table></div>"
      ],
      "text/plain": [
       "<QTable length=7>\n",
       " G Mag  Star ID\n",
       "float64   str5 \n",
       "------- -------\n",
       "   8.98   A5853\n",
       "   8.19   B4472\n",
       "  11.03   C3864\n",
       "   6.55   D7628\n",
       "   8.52   E2947\n",
       "  10.81   F5140\n",
       "   10.5   G5141"
      ]
     },
     "execution_count": 30,
     "metadata": {},
     "output_type": "execute_result"
    }
   ],
   "source": [
    "star_table['G Mag', 'Star ID']"
   ]
  },
  {
   "cell_type": "markdown",
   "metadata": {},
   "source": [
    "## Slice Rows and Colums"
   ]
  },
  {
   "cell_type": "code",
   "execution_count": 31,
   "metadata": {},
   "outputs": [
    {
     "data": {
      "text/html": [
       "<div><i>QTable length=2</i>\n",
       "<table id=\"table135907553650352\" class=\"table-striped table-bordered table-condensed\">\n",
       "<thead><tr><th>G Mag</th><th>Star ID</th></tr></thead>\n",
       "<thead><tr><th>float64</th><th>str5</th></tr></thead>\n",
       "<tr><td>8.98</td><td>A5853</td></tr>\n",
       "<tr><td>8.19</td><td>B4472</td></tr>\n",
       "</table></div>"
      ],
      "text/plain": [
       "<QTable length=2>\n",
       " G Mag  Star ID\n",
       "float64   str5 \n",
       "------- -------\n",
       "   8.98   A5853\n",
       "   8.19   B4472"
      ]
     },
     "execution_count": 31,
     "metadata": {},
     "output_type": "execute_result"
    }
   ],
   "source": [
    "star_table['G Mag', 'Star ID'][0:2]"
   ]
  },
  {
   "cell_type": "markdown",
   "metadata": {},
   "source": [
    "## Sorting"
   ]
  },
  {
   "cell_type": "code",
   "execution_count": 32,
   "metadata": {
    "collapsed": false,
    "jupyter": {
     "outputs_hidden": false
    }
   },
   "outputs": [],
   "source": [
    "star_table.sort('G Mag')"
   ]
  },
  {
   "cell_type": "code",
   "execution_count": 33,
   "metadata": {},
   "outputs": [
    {
     "data": {
      "text/html": [
       "<div><i>QTable length=7</i>\n",
       "<table id=\"table135907553643248\" class=\"table-striped table-bordered table-condensed\">\n",
       "<thead><tr><th>Star ID</th><th>Parallax</th><th>G Mag</th></tr></thead>\n",
       "<thead><tr><th>str5</th><th>float64</th><th>float64</th></tr></thead>\n",
       "<tr><td>D7628</td><td>392.75</td><td>6.55</td></tr>\n",
       "<tr><td>B4472</td><td>546.98</td><td>8.19</td></tr>\n",
       "<tr><td>E2947</td><td>374.49</td><td>8.52</td></tr>\n",
       "<tr><td>A5853</td><td>768.07</td><td>8.98</td></tr>\n",
       "<tr><td>G5141</td><td>367.71</td><td>10.5</td></tr>\n",
       "<tr><td>F5140</td><td>373.84</td><td>10.81</td></tr>\n",
       "<tr><td>C3864</td><td>415.18</td><td>11.03</td></tr>\n",
       "</table></div>"
      ],
      "text/plain": [
       "<QTable length=7>\n",
       "Star ID Parallax  G Mag \n",
       "  str5  float64  float64\n",
       "------- -------- -------\n",
       "  D7628   392.75    6.55\n",
       "  B4472   546.98    8.19\n",
       "  E2947   374.49    8.52\n",
       "  A5853   768.07    8.98\n",
       "  G5141   367.71    10.5\n",
       "  F5140   373.84   10.81\n",
       "  C3864   415.18   11.03"
      ]
     },
     "execution_count": 33,
     "metadata": {},
     "output_type": "execute_result"
    }
   ],
   "source": [
    "star_table"
   ]
  },
  {
   "cell_type": "code",
   "execution_count": 34,
   "metadata": {},
   "outputs": [
    {
     "data": {
      "text/html": [
       "<div><i>QTable length=7</i>\n",
       "<table id=\"table135907553643248\" class=\"table-striped table-bordered table-condensed\">\n",
       "<thead><tr><th>Star ID</th><th>Parallax</th><th>G Mag</th></tr></thead>\n",
       "<thead><tr><th>str5</th><th>float64</th><th>float64</th></tr></thead>\n",
       "<tr><td>C3864</td><td>415.18</td><td>11.03</td></tr>\n",
       "<tr><td>F5140</td><td>373.84</td><td>10.81</td></tr>\n",
       "<tr><td>G5141</td><td>367.71</td><td>10.5</td></tr>\n",
       "<tr><td>A5853</td><td>768.07</td><td>8.98</td></tr>\n",
       "<tr><td>E2947</td><td>374.49</td><td>8.52</td></tr>\n",
       "<tr><td>B4472</td><td>546.98</td><td>8.19</td></tr>\n",
       "<tr><td>D7628</td><td>392.75</td><td>6.55</td></tr>\n",
       "</table></div>"
      ],
      "text/plain": [
       "<QTable length=7>\n",
       "Star ID Parallax  G Mag \n",
       "  str5  float64  float64\n",
       "------- -------- -------\n",
       "  C3864   415.18   11.03\n",
       "  F5140   373.84   10.81\n",
       "  G5141   367.71    10.5\n",
       "  A5853   768.07    8.98\n",
       "  E2947   374.49    8.52\n",
       "  B4472   546.98    8.19\n",
       "  D7628   392.75    6.55"
      ]
     },
     "execution_count": 34,
     "metadata": {},
     "output_type": "execute_result"
    }
   ],
   "source": [
    "star_table.sort('G Mag', reverse=True)\n",
    "\n",
    "star_table"
   ]
  },
  {
   "cell_type": "code",
   "execution_count": 35,
   "metadata": {},
   "outputs": [
    {
     "data": {
      "text/html": [
       "<div><i>QTable length=7</i>\n",
       "<table id=\"table135907553653904\" class=\"table-striped table-bordered table-condensed\">\n",
       "<thead><tr><th>Star ID</th><th>Parallax</th><th>G Mag</th></tr></thead>\n",
       "<thead><tr><th>str5</th><th>float64</th><th>float64</th></tr></thead>\n",
       "<tr><td>D7628</td><td>392.75</td><td>6.55</td></tr>\n",
       "<tr><td>B4472</td><td>546.98</td><td>8.19</td></tr>\n",
       "<tr><td>E2947</td><td>374.49</td><td>8.52</td></tr>\n",
       "<tr><td>A5853</td><td>768.07</td><td>8.98</td></tr>\n",
       "<tr><td>G5141</td><td>367.71</td><td>10.5</td></tr>\n",
       "<tr><td>F5140</td><td>373.84</td><td>10.81</td></tr>\n",
       "<tr><td>C3864</td><td>415.18</td><td>11.03</td></tr>\n",
       "</table></div>"
      ],
      "text/plain": [
       "<QTable length=7>\n",
       "Star ID Parallax  G Mag \n",
       "  str5  float64  float64\n",
       "------- -------- -------\n",
       "  D7628   392.75    6.55\n",
       "  B4472   546.98    8.19\n",
       "  E2947   374.49    8.52\n",
       "  A5853   768.07    8.98\n",
       "  G5141   367.71    10.5\n",
       "  F5140   373.84   10.81\n",
       "  C3864   415.18   11.03"
      ]
     },
     "execution_count": 35,
     "metadata": {},
     "output_type": "execute_result"
    }
   ],
   "source": [
    "star_table[::-1]"
   ]
  },
  {
   "cell_type": "code",
   "execution_count": 36,
   "metadata": {},
   "outputs": [
    {
     "data": {
      "text/html": [
       "<i>QTable length=7</i>\n",
       "<table id=\"table135907553643248-718558\" class=\"table-striped table-bordered table-condensed\">\n",
       "<thead><tr><th>idx</th><th>Star ID</th><th>Parallax</th><th>G Mag</th></tr></thead>\n",
       "<tr><td>0</td><td>C3864</td><td>415.18</td><td>11.03</td></tr>\n",
       "<tr><td>1</td><td>F5140</td><td>373.84</td><td>10.81</td></tr>\n",
       "<tr><td>2</td><td>G5141</td><td>367.71</td><td>10.5</td></tr>\n",
       "<tr><td>3</td><td>A5853</td><td>768.07</td><td>8.98</td></tr>\n",
       "<tr><td>4</td><td>E2947</td><td>374.49</td><td>8.52</td></tr>\n",
       "<tr><td>5</td><td>B4472</td><td>546.98</td><td>8.19</td></tr>\n",
       "<tr><td>6</td><td>D7628</td><td>392.75</td><td>6.55</td></tr>\n",
       "</table><style>table.dataTable {clear: both; width: auto !important; margin: 0 !important;}\n",
       ".dataTables_info, .dataTables_length, .dataTables_filter, .dataTables_paginate{\n",
       "display: inline-block; margin-right: 1em; }\n",
       ".paginate_button { margin-right: 5px; }\n",
       "</style>\n",
       "<script>\n",
       "\n",
       "var astropy_sort_num = function(a, b) {\n",
       "    var a_num = parseFloat(a);\n",
       "    var b_num = parseFloat(b);\n",
       "\n",
       "    if (isNaN(a_num) && isNaN(b_num))\n",
       "        return ((a < b) ? -1 : ((a > b) ? 1 : 0));\n",
       "    else if (!isNaN(a_num) && !isNaN(b_num))\n",
       "        return ((a_num < b_num) ? -1 : ((a_num > b_num) ? 1 : 0));\n",
       "    else\n",
       "        return isNaN(a_num) ? -1 : 1;\n",
       "}\n",
       "\n",
       "require.config({paths: {\n",
       "    datatables: 'https://cdn.datatables.net/1.10.12/js/jquery.dataTables.min'\n",
       "}});\n",
       "require([\"datatables\"], function(){\n",
       "    console.log(\"$('#table135907553643248-718558').dataTable()\");\n",
       "    \n",
       "jQuery.extend( jQuery.fn.dataTableExt.oSort, {\n",
       "    \"optionalnum-asc\": astropy_sort_num,\n",
       "    \"optionalnum-desc\": function (a,b) { return -astropy_sort_num(a, b); }\n",
       "});\n",
       "\n",
       "    $('#table135907553643248-718558').dataTable({\n",
       "        order: [],\n",
       "        pageLength: 50,\n",
       "        lengthMenu: [[10, 25, 50, 100, 500, 1000, -1], [10, 25, 50, 100, 500, 1000, 'All']],\n",
       "        pagingType: \"full_numbers\",\n",
       "        columnDefs: [{targets: [0, 2, 3], type: \"optionalnum\"}]\n",
       "    });\n",
       "});\n",
       "</script>\n"
      ],
      "text/plain": [
       "<IPython.core.display.HTML object>"
      ]
     },
     "execution_count": 36,
     "metadata": {},
     "output_type": "execute_result"
    }
   ],
   "source": [
    "star_table.show_in_notebook()"
   ]
  },
  {
   "cell_type": "markdown",
   "metadata": {},
   "source": [
    "## Masking data"
   ]
  },
  {
   "cell_type": "code",
   "execution_count": 37,
   "metadata": {},
   "outputs": [
    {
     "data": {
      "text/html": [
       "<div><i>QTable length=4</i>\n",
       "<table id=\"table135907553653808\" class=\"table-striped table-bordered table-condensed\">\n",
       "<thead><tr><th>Star ID</th><th>Parallax</th><th>G Mag</th></tr></thead>\n",
       "<thead><tr><th>str5</th><th>float64</th><th>float64</th></tr></thead>\n",
       "<tr><td>A5853</td><td>768.07</td><td>8.98</td></tr>\n",
       "<tr><td>E2947</td><td>374.49</td><td>8.52</td></tr>\n",
       "<tr><td>B4472</td><td>546.98</td><td>8.19</td></tr>\n",
       "<tr><td>D7628</td><td>392.75</td><td>6.55</td></tr>\n",
       "</table></div>"
      ],
      "text/plain": [
       "<QTable length=4>\n",
       "Star ID Parallax  G Mag \n",
       "  str5  float64  float64\n",
       "------- -------- -------\n",
       "  A5853   768.07    8.98\n",
       "  E2947   374.49    8.52\n",
       "  B4472   546.98    8.19\n",
       "  D7628   392.75    6.55"
      ]
     },
     "execution_count": 37,
     "metadata": {},
     "output_type": "execute_result"
    }
   ],
   "source": [
    "star_table[star_table['G Mag'] < 10.0]"
   ]
  },
  {
   "cell_type": "code",
   "execution_count": 38,
   "metadata": {},
   "outputs": [
    {
     "data": {
      "text/html": [
       "<div><i>QTable length=3</i>\n",
       "<table id=\"table135907551773456\" class=\"table-striped table-bordered table-condensed\">\n",
       "<thead><tr><th>Star ID</th><th>Parallax</th><th>G Mag</th></tr></thead>\n",
       "<thead><tr><th>str5</th><th>float64</th><th>float64</th></tr></thead>\n",
       "<tr><td>A5853</td><td>768.07</td><td>8.98</td></tr>\n",
       "<tr><td>E2947</td><td>374.49</td><td>8.52</td></tr>\n",
       "<tr><td>B4472</td><td>546.98</td><td>8.19</td></tr>\n",
       "</table></div>"
      ],
      "text/plain": [
       "<QTable length=3>\n",
       "Star ID Parallax  G Mag \n",
       "  str5  float64  float64\n",
       "------- -------- -------\n",
       "  A5853   768.07    8.98\n",
       "  E2947   374.49    8.52\n",
       "  B4472   546.98    8.19"
      ]
     },
     "execution_count": 38,
     "metadata": {},
     "output_type": "execute_result"
    }
   ],
   "source": [
    "star_table[(star_table['G Mag'] < 10.0) & (star_table['G Mag'] > 8)]"
   ]
  },
  {
   "cell_type": "code",
   "execution_count": 39,
   "metadata": {},
   "outputs": [
    {
     "data": {
      "text/html": [
       "<div><i>QTable length=2</i>\n",
       "<table id=\"table135907553651072\" class=\"table-striped table-bordered table-condensed\">\n",
       "<thead><tr><th>Star ID</th><th>Parallax</th><th>G Mag</th></tr></thead>\n",
       "<thead><tr><th>str5</th><th>float64</th><th>float64</th></tr></thead>\n",
       "<tr><td>A5853</td><td>768.07</td><td>8.98</td></tr>\n",
       "<tr><td>B4472</td><td>546.98</td><td>8.19</td></tr>\n",
       "</table></div>"
      ],
      "text/plain": [
       "<QTable length=2>\n",
       "Star ID Parallax  G Mag \n",
       "  str5  float64  float64\n",
       "------- -------- -------\n",
       "  A5853   768.07    8.98\n",
       "  B4472   546.98    8.19"
      ]
     },
     "execution_count": 39,
     "metadata": {},
     "output_type": "execute_result"
    }
   ],
   "source": [
    "star_table[(star_table['G Mag'] < 10.0) & \n",
    "           (star_table['G Mag'] > 8) &\n",
    "           (star_table['Parallax'] > 400)]"
   ]
  },
  {
   "cell_type": "markdown",
   "metadata": {},
   "source": [
    "### The original `star_table` is unchanged. If you want a table of just the results, make a new table "
   ]
  },
  {
   "cell_type": "code",
   "execution_count": 40,
   "metadata": {},
   "outputs": [
    {
     "data": {
      "text/html": [
       "<div><i>QTable length=7</i>\n",
       "<table id=\"table135907553643248\" class=\"table-striped table-bordered table-condensed\">\n",
       "<thead><tr><th>Star ID</th><th>Parallax</th><th>G Mag</th></tr></thead>\n",
       "<thead><tr><th>str5</th><th>float64</th><th>float64</th></tr></thead>\n",
       "<tr><td>C3864</td><td>415.18</td><td>11.03</td></tr>\n",
       "<tr><td>F5140</td><td>373.84</td><td>10.81</td></tr>\n",
       "<tr><td>G5141</td><td>367.71</td><td>10.5</td></tr>\n",
       "<tr><td>A5853</td><td>768.07</td><td>8.98</td></tr>\n",
       "<tr><td>E2947</td><td>374.49</td><td>8.52</td></tr>\n",
       "<tr><td>B4472</td><td>546.98</td><td>8.19</td></tr>\n",
       "<tr><td>D7628</td><td>392.75</td><td>6.55</td></tr>\n",
       "</table></div>"
      ],
      "text/plain": [
       "<QTable length=7>\n",
       "Star ID Parallax  G Mag \n",
       "  str5  float64  float64\n",
       "------- -------- -------\n",
       "  C3864   415.18   11.03\n",
       "  F5140   373.84   10.81\n",
       "  G5141   367.71    10.5\n",
       "  A5853   768.07    8.98\n",
       "  E2947   374.49    8.52\n",
       "  B4472   546.98    8.19\n",
       "  D7628   392.75    6.55"
      ]
     },
     "execution_count": 40,
     "metadata": {},
     "output_type": "execute_result"
    }
   ],
   "source": [
    "star_table"
   ]
  },
  {
   "cell_type": "code",
   "execution_count": 41,
   "metadata": {},
   "outputs": [],
   "source": [
    "new_star_table = star_table[(star_table['G Mag'] < 10.0) & \n",
    "                            (star_table['G Mag'] > 8) &\n",
    "                            (star_table['Parallax'] > 400)]"
   ]
  },
  {
   "cell_type": "code",
   "execution_count": 42,
   "metadata": {},
   "outputs": [
    {
     "data": {
      "text/html": [
       "<div><i>QTable length=2</i>\n",
       "<table id=\"table135907551775760\" class=\"table-striped table-bordered table-condensed\">\n",
       "<thead><tr><th>Star ID</th><th>Parallax</th><th>G Mag</th></tr></thead>\n",
       "<thead><tr><th>str5</th><th>float64</th><th>float64</th></tr></thead>\n",
       "<tr><td>A5853</td><td>768.07</td><td>8.98</td></tr>\n",
       "<tr><td>B4472</td><td>546.98</td><td>8.19</td></tr>\n",
       "</table></div>"
      ],
      "text/plain": [
       "<QTable length=2>\n",
       "Star ID Parallax  G Mag \n",
       "  str5  float64  float64\n",
       "------- -------- -------\n",
       "  A5853   768.07    8.98\n",
       "  B4472   546.98    8.19"
      ]
     },
     "execution_count": 42,
     "metadata": {},
     "output_type": "execute_result"
    }
   ],
   "source": [
    "new_star_table"
   ]
  },
  {
   "cell_type": "markdown",
   "metadata": {},
   "source": [
    "## QTable columns are `numpy` arrays"
   ]
  },
  {
   "cell_type": "code",
   "execution_count": 43,
   "metadata": {},
   "outputs": [
    {
     "data": {
      "text/html": [
       "&lt;Column name=&apos;Parallax&apos; dtype=&apos;float64&apos; length=7&gt;\n",
       "<table>\n",
       "<tr><td>415.18</td></tr>\n",
       "<tr><td>373.84</td></tr>\n",
       "<tr><td>367.71</td></tr>\n",
       "<tr><td>768.07</td></tr>\n",
       "<tr><td>374.49</td></tr>\n",
       "<tr><td>546.98</td></tr>\n",
       "<tr><td>392.75</td></tr>\n",
       "</table>"
      ],
      "text/plain": [
       "<Column name='Parallax' dtype='float64' length=7>\n",
       "415.18\n",
       "373.84\n",
       "367.71\n",
       "768.07\n",
       "374.49\n",
       "546.98\n",
       "392.75"
      ]
     },
     "execution_count": 43,
     "metadata": {},
     "output_type": "execute_result"
    }
   ],
   "source": [
    "star_table['Parallax']"
   ]
  },
  {
   "cell_type": "code",
   "execution_count": 44,
   "metadata": {},
   "outputs": [
    {
     "data": {
      "text/plain": [
       "137.4280642699285"
      ]
     },
     "execution_count": 44,
     "metadata": {},
     "output_type": "execute_result"
    }
   ],
   "source": [
    "np.std(star_table['Parallax'])"
   ]
  },
  {
   "cell_type": "code",
   "execution_count": 45,
   "metadata": {},
   "outputs": [
    {
     "data": {
      "text/plain": [
       "392.75"
      ]
     },
     "execution_count": 45,
     "metadata": {},
     "output_type": "execute_result"
    }
   ],
   "source": [
    "np.median(star_table['Parallax'])"
   ]
  },
  {
   "cell_type": "markdown",
   "metadata": {},
   "source": [
    "### You can send QTable columns to your functions"
   ]
  },
  {
   "cell_type": "code",
   "execution_count": 46,
   "metadata": {},
   "outputs": [],
   "source": [
    "def find_two_parallax(my_parallax):\n",
    "    result = 2 * my_parallax\n",
    "    return result"
   ]
  },
  {
   "cell_type": "code",
   "execution_count": 47,
   "metadata": {},
   "outputs": [
    {
     "data": {
      "text/html": [
       "&lt;Column name=&apos;Parallax&apos; dtype=&apos;float64&apos; length=7&gt;\n",
       "<table>\n",
       "<tr><td>830.36</td></tr>\n",
       "<tr><td>747.68</td></tr>\n",
       "<tr><td>735.42</td></tr>\n",
       "<tr><td>1536.14</td></tr>\n",
       "<tr><td>748.98</td></tr>\n",
       "<tr><td>1093.96</td></tr>\n",
       "<tr><td>785.5</td></tr>\n",
       "</table>"
      ],
      "text/plain": [
       "<Column name='Parallax' dtype='float64' length=7>\n",
       " 830.36\n",
       " 747.68\n",
       " 735.42\n",
       "1536.14\n",
       " 748.98\n",
       "1093.96\n",
       "  785.5"
      ]
     },
     "execution_count": 47,
     "metadata": {},
     "output_type": "execute_result"
    }
   ],
   "source": [
    "find_two_parallax(\n",
    "    my_parallax = star_table['Parallax']\n",
    ")"
   ]
  },
  {
   "cell_type": "markdown",
   "metadata": {},
   "source": [
    "## Adding a column"
   ]
  },
  {
   "cell_type": "code",
   "execution_count": 48,
   "metadata": {
    "collapsed": false,
    "jupyter": {
     "outputs_hidden": false
    }
   },
   "outputs": [],
   "source": [
    "my_two_parallax = find_two_parallax(\n",
    "    my_parallax = star_table['Parallax']\n",
    ")"
   ]
  },
  {
   "cell_type": "code",
   "execution_count": 49,
   "metadata": {
    "collapsed": false,
    "jupyter": {
     "outputs_hidden": false
    }
   },
   "outputs": [
    {
     "data": {
      "text/html": [
       "&lt;Column name=&apos;Parallax&apos; dtype=&apos;float64&apos; length=7&gt;\n",
       "<table>\n",
       "<tr><td>830.36</td></tr>\n",
       "<tr><td>747.68</td></tr>\n",
       "<tr><td>735.42</td></tr>\n",
       "<tr><td>1536.14</td></tr>\n",
       "<tr><td>748.98</td></tr>\n",
       "<tr><td>1093.96</td></tr>\n",
       "<tr><td>785.5</td></tr>\n",
       "</table>"
      ],
      "text/plain": [
       "<Column name='Parallax' dtype='float64' length=7>\n",
       " 830.36\n",
       " 747.68\n",
       " 735.42\n",
       "1536.14\n",
       " 748.98\n",
       "1093.96\n",
       "  785.5"
      ]
     },
     "execution_count": 49,
     "metadata": {},
     "output_type": "execute_result"
    }
   ],
   "source": [
    "my_two_parallax"
   ]
  },
  {
   "cell_type": "code",
   "execution_count": 50,
   "metadata": {
    "collapsed": false,
    "jupyter": {
     "outputs_hidden": false
    }
   },
   "outputs": [],
   "source": [
    "star_table['2Parallax'] = my_two_parallax"
   ]
  },
  {
   "cell_type": "code",
   "execution_count": 51,
   "metadata": {
    "collapsed": false,
    "jupyter": {
     "outputs_hidden": false
    }
   },
   "outputs": [
    {
     "data": {
      "text/html": [
       "<div><i>QTable length=7</i>\n",
       "<table id=\"table135907553643248\" class=\"table-striped table-bordered table-condensed\">\n",
       "<thead><tr><th>Star ID</th><th>Parallax</th><th>G Mag</th><th>2Parallax</th></tr></thead>\n",
       "<thead><tr><th>str5</th><th>float64</th><th>float64</th><th>float64</th></tr></thead>\n",
       "<tr><td>C3864</td><td>415.18</td><td>11.03</td><td>830.36</td></tr>\n",
       "<tr><td>F5140</td><td>373.84</td><td>10.81</td><td>747.68</td></tr>\n",
       "<tr><td>G5141</td><td>367.71</td><td>10.5</td><td>735.42</td></tr>\n",
       "<tr><td>A5853</td><td>768.07</td><td>8.98</td><td>1536.14</td></tr>\n",
       "<tr><td>E2947</td><td>374.49</td><td>8.52</td><td>748.98</td></tr>\n",
       "<tr><td>B4472</td><td>546.98</td><td>8.19</td><td>1093.96</td></tr>\n",
       "<tr><td>D7628</td><td>392.75</td><td>6.55</td><td>785.5</td></tr>\n",
       "</table></div>"
      ],
      "text/plain": [
       "<QTable length=7>\n",
       "Star ID Parallax  G Mag  2Parallax\n",
       "  str5  float64  float64  float64 \n",
       "------- -------- ------- ---------\n",
       "  C3864   415.18   11.03    830.36\n",
       "  F5140   373.84   10.81    747.68\n",
       "  G5141   367.71    10.5    735.42\n",
       "  A5853   768.07    8.98   1536.14\n",
       "  E2947   374.49    8.52    748.98\n",
       "  B4472   546.98    8.19   1093.96\n",
       "  D7628   392.75    6.55     785.5"
      ]
     },
     "execution_count": 51,
     "metadata": {},
     "output_type": "execute_result"
    }
   ],
   "source": [
    "star_table"
   ]
  },
  {
   "cell_type": "markdown",
   "metadata": {},
   "source": [
    "## Rearranging columns"
   ]
  },
  {
   "cell_type": "code",
   "execution_count": 52,
   "metadata": {
    "collapsed": false,
    "jupyter": {
     "outputs_hidden": false
    }
   },
   "outputs": [],
   "source": [
    "my_new_order = ['2Parallax', 'Parallax', 'G Mag', 'Star ID']"
   ]
  },
  {
   "cell_type": "code",
   "execution_count": 53,
   "metadata": {
    "collapsed": false,
    "jupyter": {
     "outputs_hidden": false
    }
   },
   "outputs": [],
   "source": [
    "another_star_table = star_table[my_new_order]"
   ]
  },
  {
   "cell_type": "code",
   "execution_count": 54,
   "metadata": {
    "tags": []
   },
   "outputs": [
    {
     "data": {
      "text/html": [
       "<div><i>QTable length=7</i>\n",
       "<table id=\"table135907553653904\" class=\"table-striped table-bordered table-condensed\">\n",
       "<thead><tr><th>2Parallax</th><th>Parallax</th><th>G Mag</th><th>Star ID</th></tr></thead>\n",
       "<thead><tr><th>float64</th><th>float64</th><th>float64</th><th>str5</th></tr></thead>\n",
       "<tr><td>830.36</td><td>415.18</td><td>11.03</td><td>C3864</td></tr>\n",
       "<tr><td>747.68</td><td>373.84</td><td>10.81</td><td>F5140</td></tr>\n",
       "<tr><td>735.42</td><td>367.71</td><td>10.5</td><td>G5141</td></tr>\n",
       "<tr><td>1536.14</td><td>768.07</td><td>8.98</td><td>A5853</td></tr>\n",
       "<tr><td>748.98</td><td>374.49</td><td>8.52</td><td>E2947</td></tr>\n",
       "<tr><td>1093.96</td><td>546.98</td><td>8.19</td><td>B4472</td></tr>\n",
       "<tr><td>785.5</td><td>392.75</td><td>6.55</td><td>D7628</td></tr>\n",
       "</table></div>"
      ],
      "text/plain": [
       "<QTable length=7>\n",
       "2Parallax Parallax  G Mag  Star ID\n",
       " float64  float64  float64   str5 \n",
       "--------- -------- ------- -------\n",
       "   830.36   415.18   11.03   C3864\n",
       "   747.68   373.84   10.81   F5140\n",
       "   735.42   367.71    10.5   G5141\n",
       "  1536.14   768.07    8.98   A5853\n",
       "   748.98   374.49    8.52   E2947\n",
       "  1093.96   546.98    8.19   B4472\n",
       "    785.5   392.75    6.55   D7628"
      ]
     },
     "execution_count": 54,
     "metadata": {},
     "output_type": "execute_result"
    }
   ],
   "source": [
    "another_star_table"
   ]
  },
  {
   "cell_type": "code",
   "execution_count": null,
   "metadata": {},
   "outputs": [],
   "source": []
  }
 ],
 "metadata": {
  "anaconda-cloud": {},
  "kernelspec": {
   "display_name": "Python 3 (ipykernel)",
   "language": "python",
   "name": "python3"
  },
  "language_info": {
   "codemirror_mode": {
    "name": "ipython",
    "version": 3
   },
   "file_extension": ".py",
   "mimetype": "text/x-python",
   "name": "python",
   "nbconvert_exporter": "python",
   "pygments_lexer": "ipython3",
   "version": "3.10.13"
  }
 },
 "nbformat": 4,
 "nbformat_minor": 4
}
