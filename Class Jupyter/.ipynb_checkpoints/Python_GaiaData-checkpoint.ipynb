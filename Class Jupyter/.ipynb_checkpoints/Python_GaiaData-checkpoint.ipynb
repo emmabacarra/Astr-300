{
 "cells": [
  {
   "cell_type": "markdown",
   "id": "600a35e5-140a-46ef-9864-aafb9c065646",
   "metadata": {},
   "source": [
    "# Gaia Data"
   ]
  },
  {
   "cell_type": "markdown",
   "id": "0d0bcbeb-1f80-43a3-b595-ebe3db9b961a",
   "metadata": {},
   "source": [
    "### On June 13, 2022 the [Gaia project](https://www.cosmos.esa.int/web/gaia/dr3) released is third major data release containg about 1.5 billion sources.\n",
    "\n",
    "- For Astro 300, we will use a subset of the main data source. \n",
    "\n",
    "- This subset is still really large (1906.8 GB), so we will use python to access this data in an efficient manner.\n",
    "\n",
    "- #### The Gaia database we will use is called `gaiadr3.gaia_source_lite`"
   ]
  },
  {
   "cell_type": "code",
   "execution_count": null,
   "id": "5aef951c-0f1c-46cf-874a-b9cc59cb8113",
   "metadata": {},
   "outputs": [],
   "source": [
    "import numpy as np\n",
    "from astropy.table import QTable\n",
    "from astroquery.gaia import Gaia"
   ]
  },
  {
   "cell_type": "markdown",
   "id": "b527f934-1d47-406e-9f39-417c204a88d0",
   "metadata": {},
   "source": [
    "---\n",
    "# SQL/ADQL Database query language\n",
    " \n",
    "SQL (Structured Query Language) is a language designed for managing data held in a relational database management systems. SQL has became the most widely used database language.\n",
    "\n",
    "Astronomical Data Query Language (ADQL) is a specialised variant of SQL developed for use with the proliferation of astronomical datasets, and extends the functionality of SQL in an astronomical context.\n",
    "\n",
    "[The Gaia ADQL cookbook](https://www.gaia.ac.uk/data/gaia-data-release-1/adql-cookbook) is a great resource for learning the ADQL syntax.\n"
   ]
  },
  {
   "cell_type": "markdown",
   "id": "c1552f9b-c8cc-4f4c-a066-d9659881d655",
   "metadata": {},
   "source": [
    "## ADQL Query\n",
    "\n",
    "A typical ADQL query has the form:\n",
    "\n",
    "```\n",
    "SELECT \n",
    "{columns}\n",
    "FROM {database}\n",
    "WHERE {conditions}\n",
    "```\n",
    "\n",
    "The ADQL commands are usually ALLCAPS and the other commands are lowercase.\n",
    "\n",
    "There is a real example of a ADQL query to get the columns: `source_id`, `ra`, `dec`, and `parallax` from `gaiadr3.gaia_source_lite` database for all objects where the value of the `parallax` column is greater than 200 mas. The columns will be ordered by decreasing values of `parallax`:\n",
    "\n",
    "```\n",
    "SELECT TOP 10\n",
    "source_id, ra, dec, parallax\n",
    "FROM gaiadr3.gaia_source_lite\n",
    "WHERE parallax > 200.0\n",
    "ORDER BY parallax DESC\n",
    "```\n",
    "\n",
    "#### It is really good to add `TOP 10` to the `SELECT` when you first do a query, so you do not drop millions of lines into your notebook!"
   ]
  },
  {
   "cell_type": "markdown",
   "id": "74c1c6a9-f5ac-41fd-8fa0-8c67b49612d0",
   "metadata": {},
   "source": [
    "---\n",
    "## Let's get some data\n",
    "\n",
    "- First we create the query string as a doc-string"
   ]
  },
  {
   "cell_type": "code",
   "execution_count": null,
   "id": "9f7ae8ae-f114-4d69-b2a3-063fdfdf96be",
   "metadata": {},
   "outputs": [],
   "source": [
    "query_one = \"\"\"\n",
    "SELECT TOP 10\n",
    "source_id, ra, dec, parallax\n",
    "FROM gaiadr3.gaia_source_lite\n",
    "WHERE parallax > 200\n",
    "ORDER BY parallax DESC\n",
    "\"\"\""
   ]
  },
  {
   "cell_type": "code",
   "execution_count": null,
   "id": "17f947de-d655-4f28-baca-1f9d87242f7f",
   "metadata": {},
   "outputs": [],
   "source": [
    "print(query_one)"
   ]
  },
  {
   "cell_type": "markdown",
   "id": "9aa88522-ae76-4865-8730-55cbc201e7a5",
   "metadata": {},
   "source": [
    "## Submit our query to the Gaia archive server"
   ]
  },
  {
   "cell_type": "code",
   "execution_count": null,
   "id": "d091128d-26e5-4292-b507-64f0a2d02f4d",
   "metadata": {},
   "outputs": [],
   "source": [
    "my_job_query = Gaia.launch_job(query_one)"
   ]
  },
  {
   "cell_type": "markdown",
   "id": "644faaac-162e-457b-8388-3ba0c9359d86",
   "metadata": {},
   "source": [
    "### Check the status of the job"
   ]
  },
  {
   "cell_type": "code",
   "execution_count": null,
   "id": "829f6e71-25ea-428a-b9d4-c897a1177025",
   "metadata": {},
   "outputs": [],
   "source": [
    "print(my_job_query)"
   ]
  },
  {
   "cell_type": "markdown",
   "id": "80d19ad9-a6e2-48a1-8cd5-6facf6677fb1",
   "metadata": {},
   "source": [
    "### Looks good so get the results\n",
    "\n",
    "- The results will be a nice astropy Qtable"
   ]
  },
  {
   "cell_type": "code",
   "execution_count": null,
   "id": "0f7c844d-1b1a-48d0-ac2d-7203d6fccf0f",
   "metadata": {},
   "outputs": [],
   "source": [
    "my_parallax_table = my_job_query.get_results()"
   ]
  },
  {
   "cell_type": "code",
   "execution_count": null,
   "id": "51243540-141c-49b0-8013-9adf89b0de69",
   "metadata": {},
   "outputs": [],
   "source": [
    "my_parallax_table"
   ]
  },
  {
   "cell_type": "markdown",
   "id": "a59bb9d6-48a7-4bc9-bd8c-d74178074362",
   "metadata": {},
   "source": [
    "---\n",
    "\n",
    "# Getting data from a specific piece of the sky\n",
    "\n",
    "### A very common search is to find objects within a certain angular distance from a point on the sky\n",
    "\n",
    "<img src=\"https://uwashington-astro300.github.io/A300_images/Orion_Circle.png\" width=\"400\"/>\n",
    "\n",
    "\n",
    "- The command `POINT(RA(deg), DEC(deg))` specifies a point on the celestial sphere.\n",
    "\n",
    "- The command `DISTANCE(point1, point2)` computes the spherical angular distance between two points."
   ]
  },
  {
   "cell_type": "markdown",
   "id": "0892efb6-13cf-40a9-ac91-dfeac5592810",
   "metadata": {},
   "source": [
    "#### Here is a query to find all Gaia objects\n",
    "\n",
    "- Within 0.5 degrees of RA = 90.0 deg, Dec = 10.0 deg \n",
    "- Brighter than 10th mag\n",
    "- Have color (BP-RP) data.\n",
    "\n",
    "```\n",
    "SELECT TOP 100\n",
    "source_id, ra, dec, phot_g_mean_mag, bp_rp\n",
    "FROM gaiadr3.gaia_source_lite\n",
    "WHERE DISTANCE( POINT(90.0, 10.0), POINT(ra, dec) ) < 0.5\n",
    "AND phot_g_mean_mag < 10.0\n",
    "AND bp_rp IS NOT NULL\n",
    "ORDER BY bp_rp ASC\n",
    "```"
   ]
  },
  {
   "cell_type": "markdown",
   "id": "056ea3a5-a750-4d5c-8b69-4a54dc231733",
   "metadata": {},
   "source": [
    "- #### Extra `conditions` can be added with the `AND` command\n",
    "- #### The `IS NOT NULL` command is very useful for ignoring rows with no data"
   ]
  },
  {
   "cell_type": "code",
   "execution_count": null,
   "id": "cf6f68fb-ad4b-4b3c-adb5-64e77754dfe8",
   "metadata": {},
   "outputs": [],
   "source": [
    "query_circle = \"\"\"\n",
    "SELECT TOP 100\n",
    "source_id, ra, dec, phot_g_mean_mag, bp_rp\n",
    "FROM gaiadr3.gaia_source_lite\n",
    "WHERE DISTANCE( POINT(90.0, 10.0), POINT(ra, dec) ) < 0.5\n",
    "AND phot_g_mean_mag < 10.0\n",
    "AND bp_rp IS NOT NULL\n",
    "ORDER BY bp_rp ASC\n",
    "\"\"\""
   ]
  },
  {
   "cell_type": "code",
   "execution_count": null,
   "id": "1d288161-1605-4afd-b2f7-7664957d3a13",
   "metadata": {},
   "outputs": [],
   "source": [
    "print(query_circle)"
   ]
  },
  {
   "cell_type": "code",
   "execution_count": null,
   "id": "f291a8d6-7ae1-4651-a21a-7437dfd95a41",
   "metadata": {},
   "outputs": [],
   "source": [
    "my_job_query = Gaia.launch_job(query_circle)"
   ]
  },
  {
   "cell_type": "code",
   "execution_count": null,
   "id": "6f273f14-5c3c-4420-aace-9fbb5b8a463a",
   "metadata": {},
   "outputs": [],
   "source": [
    "print(my_job_query)"
   ]
  },
  {
   "cell_type": "code",
   "execution_count": null,
   "id": "4b76687c-b5cd-410a-99c4-c9af8422aa71",
   "metadata": {},
   "outputs": [],
   "source": [
    "my_circle_table = my_job_query.get_results()"
   ]
  },
  {
   "cell_type": "code",
   "execution_count": null,
   "id": "946cb354-2204-4c8c-b346-864d09e52478",
   "metadata": {},
   "outputs": [],
   "source": [
    "my_circle_table"
   ]
  },
  {
   "cell_type": "markdown",
   "id": "d144f97c-fe15-4c96-bb18-c00a21f18d94",
   "metadata": {},
   "source": [
    "### Another common search is to find objects within a certain region bound by sets of `RA(deg)` and `DEC(deg)` coordinates\n",
    "\n",
    "<img src=\"https://uwashington-astro300.github.io/A300_images/Orion_Square.png\" width=\"400\"/>\n"
   ]
  },
  {
   "cell_type": "markdown",
   "id": "b4005407-cbe4-4119-80ba-475b189f988f",
   "metadata": {},
   "source": [
    "#### Here is a query to find all Gaia objects\n",
    "\n",
    "- Within 0.5 degrees of RA = 90.0 deg, Dec = 10.0 deg \n",
    "- Brighter than 12th mag\n",
    "- Have color (BP-RP) data.\n",
    "\n",
    "```\n",
    "SELECT TOP 100\n",
    "source_id, ra, dec, phot_g_mean_mag, bp_rp\n",
    "FROM gaiadr3.gaia_source_lite\n",
    "WHERE ra BETWEEN 89.0 AND 90.0\n",
    "AND dec BETWEEN 8.0 AND 10.0 \n",
    "AND phot_g_mean_mag < 10.0\n",
    "AND bp_rp IS NOT NULL\n",
    "ORDER BY bp_rp ASC\n",
    "```"
   ]
  },
  {
   "cell_type": "markdown",
   "id": "a43ff36b-ad16-4ccd-8fcc-95df78b33d4f",
   "metadata": {},
   "source": [
    "- #### The `BETWEEN` command is very useful for these sots of searches"
   ]
  },
  {
   "cell_type": "code",
   "execution_count": null,
   "id": "26fd1770-c13b-4767-84dc-c7212654deab",
   "metadata": {
    "tags": []
   },
   "outputs": [],
   "source": [
    "query_square = \"\"\"\n",
    "SELECT TOP 100\n",
    "source_id, ra, dec, phot_g_mean_mag, bp_rp\n",
    "FROM gaiadr3.gaia_source_lite\n",
    "WHERE ra BETWEEN 89.0 AND 90.0\n",
    "AND dec BETWEEN 8.0 AND 10.0 \n",
    "AND phot_g_mean_mag < 10.0\n",
    "AND bp_rp IS NOT NULL\n",
    "ORDER BY bp_rp ASC\n",
    "\"\"\""
   ]
  },
  {
   "cell_type": "code",
   "execution_count": null,
   "id": "03674791-0055-4ff9-aae7-f5f8452e2c35",
   "metadata": {
    "tags": []
   },
   "outputs": [],
   "source": [
    "my_job_query = Gaia.launch_job(query_square)"
   ]
  },
  {
   "cell_type": "code",
   "execution_count": null,
   "id": "99a952ca-0a17-4450-b912-dd7f73413a6b",
   "metadata": {
    "tags": []
   },
   "outputs": [],
   "source": [
    "my_square_table = my_job_query.get_results()"
   ]
  },
  {
   "cell_type": "code",
   "execution_count": null,
   "id": "d6982c5f-f078-4ba9-b975-8354db90d408",
   "metadata": {
    "tags": []
   },
   "outputs": [],
   "source": [
    "my_square_table"
   ]
  },
  {
   "cell_type": "code",
   "execution_count": null,
   "id": "3940adca-61b3-44c8-b998-aaee0a9bc4be",
   "metadata": {
    "scrolled": true,
    "tags": []
   },
   "outputs": [],
   "source": [
    "my_square_table.show_in_notebook()"
   ]
  },
  {
   "cell_type": "markdown",
   "id": "14b6d6c3-acb6-4030-9a93-25ddfcabef9e",
   "metadata": {},
   "source": [
    "---\n",
    "\n",
    "## ADQL querys can get SUPER complicated! - I have shown you the merest baby steps. \n",
    "\n",
    "## If you want to see how the pros work, check out the [Gaia ADQL Guide](https://www.cosmos.esa.int/web/gaia-users/archive/writing-queries)"
   ]
  },
  {
   "cell_type": "markdown",
   "id": "e060a447-833a-4a34-b089-a2a99e91f7f4",
   "metadata": {},
   "source": [
    "---\n",
    "# Strange Object\n",
    "\n",
    "In your last homework, I asked you do find the object with the brighest absolute magnitude. \n",
    "\n",
    "You found that the object with `source_id` = 2202630001603369856 had an absolute magnitude of -12.17.\n",
    "\n",
    "This is a crazy value. The most luminous stars in the universe have an absolute magnitude of around -10.\n",
    "\n",
    "What is going on?"
   ]
  },
  {
   "cell_type": "code",
   "execution_count": null,
   "id": "474a478f-38b1-421e-91e4-4db7ed687fb9",
   "metadata": {
    "tags": []
   },
   "outputs": [],
   "source": [
    "query_strange = \"\"\"\n",
    "SELECT TOP 2\n",
    "source_id, parallax, parallax_error\n",
    "FROM gaiadr3.gaia_source_lite\n",
    "WHERE source_id = 2202630001603369856\n",
    "\"\"\""
   ]
  },
  {
   "cell_type": "code",
   "execution_count": null,
   "id": "e13be34a-6d9a-462e-ac94-e0588e998259",
   "metadata": {
    "tags": []
   },
   "outputs": [],
   "source": [
    "my_job_query = Gaia.launch_job(query_strange)"
   ]
  },
  {
   "cell_type": "code",
   "execution_count": null,
   "id": "5e3d7dd7-711c-4bb0-9edd-be7b3894a1c2",
   "metadata": {
    "tags": []
   },
   "outputs": [],
   "source": [
    "my_job_query.get_results()"
   ]
  },
  {
   "cell_type": "markdown",
   "id": "b07b3de5-15fb-4e22-96d5-39fc5d403564",
   "metadata": {},
   "source": [
    "### That is not good! The error in the parallax is about 2 x the value. \n",
    "\n",
    "What type of object are we looking at that would lead to such an error?"
   ]
  },
  {
   "cell_type": "markdown",
   "id": "bac063ad-7181-49b3-96f8-5da7874a57cb",
   "metadata": {},
   "source": [
    "----\n",
    "\n",
    "# SIMBAD - Name resolver\n",
    "\n",
    "The purpose of Simbad is to provide information on astronomical objects of interest which have been studied in scientific articles. It provides the bibliography, as well as available basic information such as the nature of the object. \n",
    "\n",
    "One of Simbad's most useful features is its abilty to resolve the multitude names of objects given in the literature."
   ]
  },
  {
   "cell_type": "code",
   "execution_count": null,
   "id": "cf070728-20c5-4336-807f-70e15c00ad64",
   "metadata": {
    "tags": []
   },
   "outputs": [],
   "source": [
    "from astroquery.simbad import Simbad"
   ]
  },
  {
   "cell_type": "code",
   "execution_count": null,
   "id": "eb61b466-a2aa-4afe-a807-d4aa98b89504",
   "metadata": {
    "tags": []
   },
   "outputs": [],
   "source": [
    "Simbad.query_objectids(\"Gaia DR3 2202630001603369856\")"
   ]
  },
  {
   "cell_type": "code",
   "execution_count": null,
   "id": "43db0b40-1c67-4298-bdf0-e8aa7ad454e5",
   "metadata": {
    "tags": []
   },
   "outputs": [],
   "source": [
    "Simbad.query_objectids(\"Gaia DR3 2202630001603369856\").show_in_notebook()"
   ]
  },
  {
   "cell_type": "markdown",
   "id": "047b9a98-24e2-484b-8011-ae7bbfb22143",
   "metadata": {
    "tags": []
   },
   "source": [
    "This is a very well studied bright star! \n",
    "\n",
    "Mu Cephei is visually nearly 100,000 times brighter than the Sun, with an absolute visual magnitude of −7.6. It is also one of the largest known stars with a radius around or over 1,000 times that of the sun.\n",
    "\n",
    "This is exactly the type of object Gaia is NOT designed to study.\n",
    "\n",
    "We can see what it looks like with tools like [WikiSky](http://wikisky.org/)"
   ]
  },
  {
   "cell_type": "code",
   "execution_count": null,
   "id": "63217790-05ec-48cb-ad05-23b7e0e202b3",
   "metadata": {},
   "outputs": [],
   "source": []
  }
 ],
 "metadata": {
  "kernelspec": {
   "display_name": "Python 3 (ipykernel)",
   "language": "python",
   "name": "python3"
  },
  "language_info": {
   "codemirror_mode": {
    "name": "ipython",
    "version": 3
   },
   "file_extension": ".py",
   "mimetype": "text/x-python",
   "name": "python",
   "nbconvert_exporter": "python",
   "pygments_lexer": "ipython3",
   "version": "3.10.13"
  }
 },
 "nbformat": 4,
 "nbformat_minor": 5
}
