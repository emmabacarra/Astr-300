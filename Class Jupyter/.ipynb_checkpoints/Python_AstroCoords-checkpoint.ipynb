{
 "cells": [
  {
   "cell_type": "markdown",
   "metadata": {},
   "source": [
    "# Astronomical Coordinates"
   ]
  },
  {
   "cell_type": "code",
   "execution_count": null,
   "metadata": {
    "collapsed": false,
    "jupyter": {
     "outputs_hidden": false
    },
    "tags": []
   },
   "outputs": [],
   "source": [
    "import matplotlib.pyplot as plt\n",
    "\n",
    "import numpy as np\n",
    "import astropy.units as u\n",
    "\n",
    "from astropy.coordinates import SkyCoord, Distance, Galactic\n",
    "from astroplan.plots import plot_finder_image\n",
    "\n",
    "from astropy.table import QTable\n",
    "from astroquery.gaia import Gaia"
   ]
  },
  {
   "cell_type": "markdown",
   "metadata": {},
   "source": [
    "## International Celestial Reference System (ICRS)\n",
    "\n",
    "- The standard celestial reference system adopted by the International Astronomical Union (IAU). \n",
    "- Its origin is at the barycenter of the Solar System.\n",
    "- Sometimes referred to as \"equatorial\" or \"J2000\" coordinates"
   ]
  },
  {
   "cell_type": "markdown",
   "metadata": {},
   "source": [
    "## Declination (DEC or δ)\n",
    "\n",
    "- Equivalent to terrestrial latitude. \n",
    "- Points north of the celestial equator have positive declinations, while those to the south have negative declinations. \n",
    "- Declination is expressed in degrees [°], arc-minutes [ ′ ], and arc-seconds [ ′′ ].\n",
    "- 1° = 60′ = 3600′′\n",
    "\n",
    "#### Example: DEC = +23° 52′ 12.12′′"
   ]
  },
  {
   "cell_type": "markdown",
   "metadata": {
    "tags": []
   },
   "source": [
    "## Right Ascension (RA or α) \n",
    "\n",
    "- Roughly equivalent to terrestrial longitude. \n",
    "- The units of right ascension are hours, minutes, seconds [hms].\n",
    "- 1 hour in RA = 15°, 24 hours in RA = 360°\n",
    "\n",
    "#### Example: RA = 20h 23m 12.12s"
   ]
  },
  {
   "cell_type": "markdown",
   "metadata": {},
   "source": [
    "---\n",
    "\n",
    "### Target - M67 (NGC 2682)\n",
    "\n",
    "&nbsp;\n",
    "\n",
    "<p>\n",
    "<img src=\"https://uwashington-astro300.github.io/A300_images/M67_Finder_Chart.png\" width = \"500\">\n",
    "</p>\n",
    "\n",
    "- Right ascension: 08h 51m 23s\n",
    "- Declination: +11° 48′ 50″"
   ]
  },
  {
   "cell_type": "markdown",
   "metadata": {},
   "source": [
    "## `SkyCoord(Coord, Frame)`\n",
    "\n",
    "In Astropy, the most common way of representing and working with sky coordinates is to use `SkyCoord()`."
   ]
  },
  {
   "cell_type": "code",
   "execution_count": null,
   "metadata": {
    "tags": []
   },
   "outputs": [],
   "source": [
    "target_coords = SkyCoord('08h51m23s', '+11d48m50s', frame='icrs')\n",
    "target_coords"
   ]
  },
  {
   "cell_type": "code",
   "execution_count": null,
   "metadata": {
    "tags": []
   },
   "outputs": [],
   "source": [
    "target_coords = SkyCoord('08:51:23 11:48:50', unit=(u.hour, u.deg), frame='icrs')\n",
    "target_coords"
   ]
  },
  {
   "cell_type": "code",
   "execution_count": null,
   "metadata": {
    "tags": []
   },
   "outputs": [],
   "source": [
    "target_coords.ra"
   ]
  },
  {
   "cell_type": "code",
   "execution_count": null,
   "metadata": {
    "tags": []
   },
   "outputs": [],
   "source": [
    "target_coords.ra.hour"
   ]
  },
  {
   "cell_type": "code",
   "execution_count": null,
   "metadata": {
    "tags": []
   },
   "outputs": [],
   "source": [
    "target_coords.ra.hms"
   ]
  },
  {
   "cell_type": "code",
   "execution_count": null,
   "metadata": {
    "tags": []
   },
   "outputs": [],
   "source": [
    "target_coords.ra.degree"
   ]
  },
  {
   "cell_type": "code",
   "execution_count": null,
   "metadata": {
    "tags": []
   },
   "outputs": [],
   "source": [
    "target_coords.dec"
   ]
  },
  {
   "cell_type": "code",
   "execution_count": null,
   "metadata": {
    "tags": []
   },
   "outputs": [],
   "source": [
    "target_coords.dec.degree"
   ]
  },
  {
   "cell_type": "code",
   "execution_count": null,
   "metadata": {
    "tags": []
   },
   "outputs": [],
   "source": [
    "target_coords.ra.degree, target_coords.dec.degree"
   ]
  },
  {
   "cell_type": "markdown",
   "metadata": {},
   "source": [
    "### Or you can use `SkyCoord.from_name()` and let [Simbad](https://simbad.u-strasbg.fr/simbad/) do all the work for you."
   ]
  },
  {
   "cell_type": "code",
   "execution_count": null,
   "metadata": {
    "tags": []
   },
   "outputs": [],
   "source": [
    "target_coords = SkyCoord.from_name('M 67')\n",
    "target_coords"
   ]
  },
  {
   "cell_type": "code",
   "execution_count": null,
   "metadata": {
    "tags": []
   },
   "outputs": [],
   "source": [
    "target_coords = SkyCoord.from_name('NGC 2682')\n",
    "target_coords"
   ]
  },
  {
   "cell_type": "markdown",
   "metadata": {},
   "source": [
    "---\n",
    "\n",
    "## Palomar Observatory Sky Survey (POSS)\n",
    "\n",
    "The Palomar Observatory Sky Survey (POSS) was a major astronomical survey, that took almost 2,000 photographic plates of the night sky that was completed by the end of 1958. The photographs were taken with the 48-inch Samuel Oschin telescope at Palomar Observatory.\n",
    "\n",
    "<p>\n",
    "    <img src=\"https://uwashington-astro300.github.io/A300_images/HubbleSchmitt.jpg\" width = \"200\">\n",
    "</p>\n",
    "\n",
    "The survey utilized 14-inch square photographic plates, covering about 6° of sky per side. Each region of the sky was photographed twice, once using a red plate, and once with a blue sensitive plate.\n",
    "\n",
    "POSS was mostly completed just proir to the launch of Sputnik 1 on October 4, 1957, meaning the original POSS prints have NO satellite trails on them.\n",
    "\n",
    "The POSS was published as a collection of 1,872 photographic negative prints each measuring 14\" x 14\". The original cost was ~ \\\\$15,000 plus \\\\$1,650 for the transparent coordinate overlays.\n",
    "\n",
    "\n",
    "<p>\n",
    "    <img src=\"https://uwashington-astro300.github.io/A300_images/POSS_1.jpg\" width = \"400\">\n",
    "    <img src=\"https://uwashington-astro300.github.io/A300_images/POSS_2.jpg\" width = \"400\">\n",
    "</p>\n",
    "\n",
    "The [Digitized Sky Survey (DSS)](https://archive.stsci.edu/cgi-bin/dss_form) is a digitized version of the Palomar and UK Schmidt surveys, produced by the Space Telescope Science Institute.\n",
    "\n",
    "- The First Generation DSS (DSS1) was published (on 102 CD-ROMs for \\\\$3,500) in 1994\n",
    "- The Second Generation DSS (DSS2) was published online in 2006"
   ]
  },
  {
   "cell_type": "raw",
   "metadata": {},
   "source": [
    "DSS Filters\n",
    "\n",
    "DSS1 Blue    3950 - 5400 Å\n",
    "DSS1 Red     6125 - 6475 Å\n",
    "DSS2 Blue    3950 - 5400 Å\n",
    "DSS2 Red     6300 - 6900 Å\n",
    "DSS2 IR      6950 - 9000 Å"
   ]
  },
  {
   "cell_type": "markdown",
   "metadata": {
    "tags": []
   },
   "source": [
    "## Pretty Pictures\n",
    "\n",
    "- You can use the `plot_finder_image()` function from the `astroplan` package to get a DSS image of your target object.\n"
   ]
  },
  {
   "cell_type": "code",
   "execution_count": null,
   "metadata": {
    "tags": []
   },
   "outputs": [],
   "source": [
    "fig, ax = plt.subplots(\n",
    "    figsize = (6, 6), \n",
    "    constrained_layout = True\n",
    ")\n",
    "\n",
    "ax, hdu = plot_finder_image(\n",
    "    target_coords, \n",
    "    fov_radius= 0.5 * u.deg, \n",
    "    ax = ax,\n",
    "    survey = 'DSS2 Blue'\n",
    ");"
   ]
  },
  {
   "cell_type": "code",
   "execution_count": null,
   "metadata": {
    "tags": []
   },
   "outputs": [],
   "source": [
    "fig, ax = plt.subplots(\n",
    "    figsize = (6, 6), \n",
    "    constrained_layout = True\n",
    ")\n",
    "\n",
    "ax, hdu = plot_finder_image(\n",
    "    target_coords, \n",
    "    fov_radius= 0.5 * u.deg, \n",
    "    ax = ax,\n",
    "    survey = 'DSS2 IR'\n",
    ");"
   ]
  },
  {
   "cell_type": "markdown",
   "metadata": {},
   "source": [
    "---"
   ]
  },
  {
   "cell_type": "markdown",
   "metadata": {},
   "source": [
    "## More Gaia Data Stuff\n",
    "\n",
    "We have only used a small subset of the data availible in the `gaia_source_lite` database. Let's grab a few more columns to increase the quality of our data:\n",
    "\n",
    "[gaia_source_lite data columns](https://gaia.aip.de/metadata/gaiadr3/gaia_source_lite/)\n",
    "\n",
    "```\n",
    "parallax_over_error         Parallax divided by its standard error\n",
    "pmra                        Proper motion in right ascension direction\n",
    "pmdec                       Proper motion in declination direction\n",
    "radial_velocity             Radial velocity\n",
    "```"
   ]
  },
  {
   "cell_type": "markdown",
   "metadata": {},
   "source": [
    "## Gaia query for 10σ data for our target"
   ]
  },
  {
   "cell_type": "code",
   "execution_count": null,
   "metadata": {
    "tags": []
   },
   "outputs": [],
   "source": [
    "my_query = f\"\"\"\n",
    "SELECT TOP 3000\n",
    "source_id, ra, dec, parallax, parallax_over_error, pmra, pmdec, radial_velocity\n",
    "FROM gaiadr3.gaia_source_lite\n",
    "WHERE DISTANCE( POINT({target_coords.ra.degree}, {target_coords.dec.degree}), POINT(ra, dec) ) < 0.5\n",
    "AND parallax_over_error > 10\n",
    "ORDER BY parallax DESC\n",
    "\"\"\""
   ]
  },
  {
   "cell_type": "code",
   "execution_count": null,
   "metadata": {
    "tags": []
   },
   "outputs": [],
   "source": [
    "print(my_query)"
   ]
  },
  {
   "cell_type": "code",
   "execution_count": null,
   "metadata": {
    "tags": []
   },
   "outputs": [],
   "source": [
    "my_job_query = Gaia.launch_job(my_query)"
   ]
  },
  {
   "cell_type": "code",
   "execution_count": null,
   "metadata": {
    "tags": []
   },
   "outputs": [],
   "source": [
    "print(my_job_query)"
   ]
  },
  {
   "cell_type": "code",
   "execution_count": null,
   "metadata": {
    "tags": []
   },
   "outputs": [],
   "source": [
    "target_table = my_job_query.get_results()"
   ]
  },
  {
   "cell_type": "code",
   "execution_count": null,
   "metadata": {
    "tags": []
   },
   "outputs": [],
   "source": [
    "target_table[0:2]"
   ]
  },
  {
   "cell_type": "code",
   "execution_count": null,
   "metadata": {
    "tags": []
   },
   "outputs": [],
   "source": [
    "target_table['Distance'] = target_table['parallax'].to(u.parsec, equivalencies=u.parallax())"
   ]
  },
  {
   "cell_type": "code",
   "execution_count": null,
   "metadata": {
    "tags": []
   },
   "outputs": [],
   "source": [
    "target_table[0:2]"
   ]
  },
  {
   "cell_type": "markdown",
   "metadata": {},
   "source": [
    "## Quality parallax means quality distances"
   ]
  },
  {
   "cell_type": "code",
   "execution_count": null,
   "metadata": {
    "tags": []
   },
   "outputs": [],
   "source": [
    "from mpl_toolkits.mplot3d import Axes3D"
   ]
  },
  {
   "cell_type": "code",
   "execution_count": null,
   "metadata": {
    "tags": []
   },
   "outputs": [],
   "source": [
    "fig, ax = plt.subplots(\n",
    "    subplot_kw={'projection': '3d'},\n",
    "    figsize = (9, 9), \n",
    "    constrained_layout = True\n",
    ")\n",
    "\n",
    "ax.set_xlabel('Distance (pc)')\n",
    "ax.set_ylabel('DEC')\n",
    "ax.set_zlabel('RA')\n",
    "\n",
    "my_otherx = target_table['Distance']\n",
    "my_othery = target_table['dec']\n",
    "my_otherz = target_table['ra']\n",
    "\n",
    "ax.plot(my_otherx, my_othery, my_otherz,\n",
    "        color = 'Firebrick',\n",
    "        marker = 'o',\n",
    "        linestyle = 'none');\n",
    "\n",
    "ax.view_init(azim = 85, elev = 30)"
   ]
  },
  {
   "cell_type": "markdown",
   "metadata": {},
   "source": [
    "# 3D Coords"
   ]
  },
  {
   "cell_type": "code",
   "execution_count": null,
   "metadata": {
    "tags": []
   },
   "outputs": [],
   "source": [
    "target_3d_coords = SkyCoord(\n",
    "    ra =target_table['ra'],\n",
    "    dec = target_table['dec'],\n",
    "    distance = target_table['Distance'],\n",
    "    frame = 'icrs')"
   ]
  },
  {
   "cell_type": "code",
   "execution_count": null,
   "metadata": {
    "tags": []
   },
   "outputs": [],
   "source": [
    "target_3d_coords[0:2]"
   ]
  },
  {
   "cell_type": "markdown",
   "metadata": {},
   "source": [
    "## Galactic Coordinates\n",
    "\n",
    "A coordinate system based\n",
    "on the plane of the galaxy. It is centred on the Sun,\n",
    "and longitude and latitude 0 point directly towards\n",
    "the centre of the galaxy. Galactic longitude (l) is\n",
    "measured with primary direction from the Sun to the\n",
    "center of the galaxy in the galactic plane, while the\n",
    "galactic latitude (b) measures the angle of the object\n",
    "above the galactic plane."
   ]
  },
  {
   "cell_type": "markdown",
   "metadata": {},
   "source": [
    "<p>\n",
    "<img src=\"https://uwashington-astro300.github.io/A300_images/GalCoords.png\" width = \"800\">\n",
    "</p>"
   ]
  },
  {
   "cell_type": "code",
   "execution_count": null,
   "metadata": {
    "tags": []
   },
   "outputs": [],
   "source": [
    "target_3d_coords_gal = target_3d_coords.galactic"
   ]
  },
  {
   "cell_type": "code",
   "execution_count": null,
   "metadata": {
    "tags": []
   },
   "outputs": [],
   "source": [
    "target_3d_coords_gal[0:2]"
   ]
  },
  {
   "cell_type": "code",
   "execution_count": null,
   "metadata": {
    "tags": []
   },
   "outputs": [],
   "source": [
    "target_3d_coords_gal.l.deg"
   ]
  },
  {
   "cell_type": "code",
   "execution_count": null,
   "metadata": {
    "tags": []
   },
   "outputs": [],
   "source": [
    "target_3d_coords_gal.b.deg"
   ]
  },
  {
   "cell_type": "markdown",
   "metadata": {},
   "source": [
    "# 3D-Time Coords"
   ]
  },
  {
   "cell_type": "code",
   "execution_count": null,
   "metadata": {
    "tags": []
   },
   "outputs": [],
   "source": [
    "from astropy.time import Time"
   ]
  },
  {
   "cell_type": "code",
   "execution_count": null,
   "metadata": {
    "tags": []
   },
   "outputs": [],
   "source": [
    "target_3d_coords = SkyCoord(\n",
    "    ra =target_table['ra'],\n",
    "    dec = target_table['dec'],\n",
    "    distance = target_table['Distance'],\n",
    "    pm_ra_cosdec = target_table['pmra'],\n",
    "    pm_dec = target_table['pmdec'],\n",
    "    radial_velocity = target_table['radial_velocity'],\n",
    "    obstime = Time('2023-11-6', format='iso'),\n",
    "    frame = 'icrs')"
   ]
  },
  {
   "cell_type": "code",
   "execution_count": null,
   "metadata": {
    "tags": []
   },
   "outputs": [],
   "source": [
    "target_3d_coords[0]"
   ]
  },
  {
   "cell_type": "markdown",
   "metadata": {},
   "source": [
    "## With full 3D-Time coordinartes we can calculate the coordinates at future times\n",
    "\n",
    "- `.apply_space_motion()`"
   ]
  },
  {
   "cell_type": "code",
   "execution_count": null,
   "metadata": {},
   "outputs": [],
   "source": [
    "new_time = target_3d_coords.apply_space_motion(new_obstime = Time('2123-11-6', format='iso'))"
   ]
  },
  {
   "cell_type": "code",
   "execution_count": null,
   "metadata": {
    "tags": []
   },
   "outputs": [],
   "source": [
    "new_time[0]"
   ]
  },
  {
   "cell_type": "markdown",
   "metadata": {},
   "source": [
    "## Some `matplotlib` Stuff"
   ]
  },
  {
   "cell_type": "code",
   "execution_count": null,
   "metadata": {
    "tags": []
   },
   "outputs": [],
   "source": [
    "fig, ax = plt.subplots(\n",
    "    figsize = (6, 6), \n",
    "    constrained_layout = True\n",
    ")\n",
    "\n",
    "my_view_radius = 0.10\n",
    "\n",
    "ax.set_xlim(target_coords.ra.degree + my_view_radius, target_coords.ra.degree - my_view_radius)\n",
    "ax.set_ylim(target_coords.dec.degree - my_view_radius, target_coords.dec.degree + my_view_radius)\n",
    "\n",
    "ax.set_xlabel('RA')\n",
    "ax.set_ylabel('DEC')\n",
    "\n",
    "ax.scatter(\n",
    "    target_table['ra'], target_table['dec'],\n",
    "    color = 'hotpink',\n",
    "    marker = '*'\n",
    ");"
   ]
  },
  {
   "cell_type": "code",
   "execution_count": null,
   "metadata": {
    "tags": []
   },
   "outputs": [],
   "source": [
    "fig, ax = plt.subplots(\n",
    "    figsize = (6, 6), \n",
    "    constrained_layout = True\n",
    ")\n",
    "\n",
    "my_view_radius = 0.10\n",
    "\n",
    "ax.set_xlim(target_coords.ra.degree + my_view_radius, target_coords.ra.degree - my_view_radius)\n",
    "ax.set_ylim(target_coords.dec.degree - my_view_radius, target_coords.dec.degree + my_view_radius)\n",
    "\n",
    "ax.set_xlabel('RA')\n",
    "ax.set_ylabel('DEC')\n",
    "\n",
    "\n",
    "ax.scatter(\n",
    "    target_table['ra'], target_table['dec'],\n",
    "    color = 'hotpink',\n",
    "    marker = '*'\n",
    ")\n",
    "\n",
    "ax.quiver(\n",
    "    np.array(target_table['ra']), np.array(target_table['dec']), \n",
    "    np.array(target_table['pmra']) / 100 , np.array(target_table['pmdec']) /  100,\n",
    "    scale = 1\n",
    ");"
   ]
  },
  {
   "cell_type": "markdown",
   "metadata": {},
   "source": [
    "---\n",
    "\n",
    "# Moving Targets (solar system targets)\n",
    "\n",
    "- You need a `Time` for observation since everything is moving.\n",
    "- The built-in solar system objects are: `sun`, `mercury`, `venus`, `earth-moon-barycenter`, `earth`, `moon`, `mars`, `jupiter`, `saturn`, `uranus`, `neptune`, `pluto`"
   ]
  },
  {
   "cell_type": "code",
   "execution_count": null,
   "metadata": {
    "collapsed": false,
    "jupyter": {
     "outputs_hidden": false
    },
    "tags": []
   },
   "outputs": [],
   "source": [
    "from astropy.coordinates import get_body\n",
    "from astropy.time import Time"
   ]
  },
  {
   "cell_type": "code",
   "execution_count": null,
   "metadata": {},
   "outputs": [],
   "source": [
    "my_date = Time(\"2024-02-12 21:40\")"
   ]
  },
  {
   "cell_type": "code",
   "execution_count": null,
   "metadata": {
    "collapsed": false,
    "jupyter": {
     "outputs_hidden": false
    },
    "tags": []
   },
   "outputs": [],
   "source": [
    "sun_now = get_body('sun', my_date)\n",
    "\n",
    "sun_now"
   ]
  },
  {
   "cell_type": "code",
   "execution_count": null,
   "metadata": {},
   "outputs": [],
   "source": [
    "sun_now.ra"
   ]
  },
  {
   "cell_type": "code",
   "execution_count": null,
   "metadata": {},
   "outputs": [],
   "source": [
    "sun_now.dec"
   ]
  },
  {
   "cell_type": "code",
   "execution_count": null,
   "metadata": {
    "collapsed": false,
    "jupyter": {
     "outputs_hidden": false
    },
    "tags": []
   },
   "outputs": [],
   "source": [
    "moon_now = get_body('moon', my_date)"
   ]
  },
  {
   "cell_type": "code",
   "execution_count": null,
   "metadata": {
    "tags": []
   },
   "outputs": [],
   "source": [
    "moon_now.ra"
   ]
  },
  {
   "cell_type": "code",
   "execution_count": null,
   "metadata": {},
   "outputs": [],
   "source": [
    "moon_now.dec"
   ]
  },
  {
   "cell_type": "code",
   "execution_count": null,
   "metadata": {
    "collapsed": false,
    "jupyter": {
     "outputs_hidden": false
    },
    "tags": []
   },
   "outputs": [],
   "source": [
    "sun_now.separation(moon_now)"
   ]
  }
 ],
 "metadata": {
  "anaconda-cloud": {},
  "kernelspec": {
   "display_name": "Python 3 (ipykernel)",
   "language": "python",
   "name": "python3"
  },
  "language_info": {
   "codemirror_mode": {
    "name": "ipython",
    "version": 3
   },
   "file_extension": ".py",
   "mimetype": "text/x-python",
   "name": "python",
   "nbconvert_exporter": "python",
   "pygments_lexer": "ipython3",
   "version": "3.10.13"
  }
 },
 "nbformat": 4,
 "nbformat_minor": 4
}
