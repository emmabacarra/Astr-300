{
 "cells": [
  {
   "cell_type": "markdown",
   "metadata": {},
   "source": [
    "# Annotating plots"
   ]
  },
  {
   "cell_type": "code",
   "execution_count": null,
   "metadata": {
    "collapsed": false,
    "jupyter": {
     "outputs_hidden": false
    }
   },
   "outputs": [],
   "source": [
    "import matplotlib.pyplot as plt\n",
    "import numpy as np\n",
    "\n",
    "from matplotlib.patches import Rectangle, Circle, Ellipse, Polygon"
   ]
  },
  {
   "cell_type": "code",
   "execution_count": null,
   "metadata": {},
   "outputs": [],
   "source": [
    "fig, ax = plt.subplots(\n",
    "    figsize = (8, 8), \n",
    "    constrained_layout = True\n",
    ")\n",
    "\n",
    "ax.set_xlim(0,10)\n",
    "ax.set_ylim(0,10)\n",
    "\n",
    "my_x = [5]\n",
    "my_y = [5]\n",
    "\n",
    "ax.set_xlabel(\"My X axis\",\n",
    "              fontfamily = 'serif',\n",
    "              fontsize = 20)\n",
    "\n",
    "ax.set_ylabel(\"My Y axis\",\n",
    "              fontfamily = 'serif',\n",
    "              fontsize = 20)\n",
    "\n",
    "ax.set_title(\"My Annotated Plot\",\n",
    "             fontfamily = 'serif',\n",
    "             fontsize = 20)\n",
    "\n",
    "### Plot Data ###\n",
    "\n",
    "ax.plot(my_x, my_y,\n",
    "        color = \"#4C0B5F\",\n",
    "        marker = \"*\",\n",
    "        linestyle = \"None\",\n",
    "        markersize = 15\n",
    "       );"
   ]
  },
  {
   "cell_type": "markdown",
   "metadata": {},
   "source": [
    "---\n",
    "\n",
    "# Annotate your plots with `annotate()`\n",
    "\n",
    "### There are 4 parameters that you use with `annotate()`.\n",
    "\n",
    "- `text` : the text label (string).\n",
    "- `xy = (X, Y)` : The coordinates (X, Y) where you want your arrowhead to point to.\n",
    "- `xytext = (X, Y)` : The coordinates (X, Y) where you want your `text` to display.\n",
    "- `arrowprops` : A dictionary of key-value pairs which define various properties for the arrow, such as color, size and arrowhead type.\n",
    "  \n",
    "---"
   ]
  },
  {
   "cell_type": "markdown",
   "metadata": {},
   "source": [
    "- `facecolor`: Internal color of the arrow, not including the borders\n",
    "- `edgecolor`: Defines the color of the edges (borders)\n",
    "- `color`: Overall color (facecolor + edgecolor)\n",
    "- `linewidth`: Border width (using 0 will make edges disappear)\n",
    "- `shrink`: Ranges from 0 to 1. Increasing this value reduces the space occupied by the arrow between the text and point.\n",
    "- `visible`: Can be used to hide the arrow\n",
    "- `headwidth`: Changes the width of the arrow head.\n",
    "- `headlength`: Changes the length of the arrow head.\n",
    "- `width`: Changes the width of the arrow shaft.\n",
    "- `alpha`: Ranges from 0 to 1. Sets the transparency.\n",
    "- `arrowstyle`: changes the arrow head style\n",
    "- `connectionstyle`: Used to change the style of the arrow (curved, angled, etc.)"
   ]
  },
  {
   "cell_type": "markdown",
   "metadata": {},
   "source": [
    "## Arrow Styles and Connection Styles\n",
    "\n",
    "&nbsp;\n",
    "\n",
    "<p>\n",
    "<img src=\"https://uwashington-astro300.github.io/A300_images/ArrowAngleStyle.png\" width = \"1000\">\n",
    "</p>"
   ]
  },
  {
   "cell_type": "code",
   "execution_count": null,
   "metadata": {
    "tags": []
   },
   "outputs": [],
   "source": [
    "fig, ax = plt.subplots(\n",
    "    figsize = (8, 8), \n",
    "    constrained_layout = True\n",
    ")\n",
    "\n",
    "ax.set_xlim(0,10)\n",
    "ax.set_ylim(0,10)\n",
    "\n",
    "my_x = [5]\n",
    "my_y = [5]\n",
    "\n",
    "ax.set_xlabel(\"My X axis\",\n",
    "              fontfamily = 'serif',\n",
    "              fontsize = 20)\n",
    "\n",
    "ax.set_ylabel(\"My Y axis\",\n",
    "              fontfamily = 'serif',\n",
    "              fontsize = 20)\n",
    "\n",
    "ax.set_title(\"My Annotated Plot\",\n",
    "             fontfamily = 'serif',\n",
    "             fontsize = 20)\n",
    "\n",
    "### Plot Data ###\n",
    "\n",
    "ax.plot(my_x, my_y,\n",
    "        color = \"#4C0B5F\",\n",
    "        marker = \"*\",\n",
    "        linestyle = \"None\",\n",
    "        markersize = 15\n",
    "       )\n",
    "\n",
    "### Text Annotation ###\n",
    "\n",
    "ax.annotate('A single point',\n",
    "             xy = (4.9, 5),\n",
    "             xytext = (2, 3),\n",
    "             fontsize = 25,\n",
    "             color = 'DarkOrange',\n",
    "             arrowprops = {'color' : 'Coral',\n",
    "                           'linewidth' : 3,\n",
    "                           'arrowstyle' : '->, head_length = 0.5, head_width = 0.2',\n",
    "                           'connectionstyle' : 'angle3, angleA = 90, angleB = 0'}\n",
    "           );"
   ]
  },
  {
   "cell_type": "markdown",
   "metadata": {},
   "source": [
    "---\n",
    "\n",
    "# Annotate your plots with Shapes\n",
    "\n",
    "\n",
    "### [Drawing Shapes with Matplotlib Patches](https://coderslegacy.com/python/drawing-shapes-matplotlib-patches/)\n",
    "---"
   ]
  },
  {
   "cell_type": "markdown",
   "metadata": {},
   "source": [
    "### `Ellipse((center), width, height, angle=0.0, **kwargs)`"
   ]
  },
  {
   "cell_type": "code",
   "execution_count": null,
   "metadata": {
    "tags": []
   },
   "outputs": [],
   "source": [
    "fig, ax = plt.subplots(\n",
    "    figsize = (8, 8), \n",
    "    constrained_layout = True\n",
    ")\n",
    "\n",
    "ax.set_xlim(0,10)\n",
    "ax.set_ylim(0,10)\n",
    "\n",
    "my_x = [5]\n",
    "my_y = [5]\n",
    "\n",
    "ax.set_xlabel(\"My X axis\",\n",
    "              fontfamily = 'serif',\n",
    "              fontsize = 20)\n",
    "\n",
    "ax.set_ylabel(\"My Y axis\",\n",
    "              fontfamily = 'serif',\n",
    "              fontsize = 20)\n",
    "\n",
    "ax.set_title(\"My Annotated Plot\",\n",
    "             fontfamily = 'serif',\n",
    "             fontsize = 20)\n",
    "\n",
    "### Plot Data ###\n",
    "\n",
    "ax.plot(my_x, my_y,\n",
    "        color = \"#4C0B5F\",\n",
    "        marker = \"*\",\n",
    "        linestyle = \"None\",\n",
    "        markersize = 15\n",
    "       )\n",
    "\n",
    "### Shape Annotation ###\n",
    "\n",
    "my_shape_one = Ellipse((5.0, 5.0),\n",
    "                       width = 0.75,\n",
    "                       height = 2.85,\n",
    "                       angle = 30,\n",
    "                       alpha = 0.5,\n",
    "                       color = 'CornflowerBlue')\n",
    "\n",
    "ax.add_patch(my_shape_one);"
   ]
  },
  {
   "cell_type": "markdown",
   "metadata": {},
   "source": [
    "### `Rectangle((x,y), width, height, angle=0.0, rotation_point='xy', **kwargs)`"
   ]
  },
  {
   "cell_type": "raw",
   "metadata": {},
   "source": [
    "      +------------------+\n",
    "      |                  |\n",
    "    height               \n",
    "      |                  |\n",
    "     (xy)---- width -----+"
   ]
  },
  {
   "cell_type": "code",
   "execution_count": null,
   "metadata": {},
   "outputs": [],
   "source": [
    "fig, ax = plt.subplots(\n",
    "    figsize = (8, 8), \n",
    "    constrained_layout = True\n",
    ")\n",
    "\n",
    "ax.set_xlim(0,10)\n",
    "ax.set_ylim(0,10)\n",
    "\n",
    "my_x = [5]\n",
    "my_y = [5]\n",
    "\n",
    "ax.set_xlabel(\"My X axis\",\n",
    "              fontfamily = 'serif',\n",
    "              fontsize = 20)\n",
    "\n",
    "ax.set_ylabel(\"My Y axis\",\n",
    "              fontfamily = 'serif',\n",
    "              fontsize = 20)\n",
    "\n",
    "ax.set_title(\"My Annotated Plot\",\n",
    "             fontfamily = 'serif',\n",
    "             fontsize = 20)\n",
    "\n",
    "### Plot Data ###\n",
    "\n",
    "ax.plot(my_x, my_y,\n",
    "        color = \"#4C0B5F\",\n",
    "        marker = \"*\",\n",
    "        linestyle = \"None\",\n",
    "        markersize = 15\n",
    "       )\n",
    "\n",
    "### Shape Annotation ###\n",
    "\n",
    "my_shape_two = Rectangle((3.0, 3.0),\n",
    "                       width = 4.0,\n",
    "                       height = 4.0,\n",
    "                       angle = 0,\n",
    "                       alpha = 0.5,\n",
    "                       color = 'Orchid')\n",
    "\n",
    "ax.add_patch(my_shape_two);"
   ]
  },
  {
   "cell_type": "markdown",
   "metadata": {},
   "source": [
    "### `Ploygon(np.array of (x,y) coordinates of the vertices)`"
   ]
  },
  {
   "cell_type": "code",
   "execution_count": null,
   "metadata": {
    "tags": []
   },
   "outputs": [],
   "source": [
    "fig, ax = plt.subplots(\n",
    "    figsize = (8, 8), \n",
    "    constrained_layout = True\n",
    ")\n",
    "\n",
    "ax.set_xlim(0,10)\n",
    "ax.set_ylim(0,10)\n",
    "\n",
    "my_x = [5]\n",
    "my_y = [5]\n",
    "\n",
    "ax.set_xlabel(\"My X axis\",\n",
    "              fontfamily = 'serif',\n",
    "              fontsize = 20)\n",
    "\n",
    "ax.set_ylabel(\"My Y axis\",\n",
    "              fontfamily = 'serif',\n",
    "              fontsize = 20)\n",
    "\n",
    "ax.set_title(\"My Annotated Plot\",\n",
    "             fontfamily = 'serif',\n",
    "             fontsize = 20)\n",
    "\n",
    "### Plot Data ###\n",
    "\n",
    "ax.plot(my_x, my_y,\n",
    "        color = \"#4C0B5F\",\n",
    "        marker = \"*\",\n",
    "        linestyle = \"None\",\n",
    "        markersize = 15\n",
    "       )\n",
    "\n",
    "### Shape Annotation ###\n",
    "\n",
    "my_array = np.array(((2,2), (1,4), (5,7), (8,4), (6,1)))\n",
    "\n",
    "my_shape_three = Polygon((my_array),\n",
    "                         alpha = 0.5,\n",
    "                         color = 'Orchid')\n",
    " \n",
    "ax.add_patch(my_shape_three);"
   ]
  },
  {
   "cell_type": "code",
   "execution_count": null,
   "metadata": {},
   "outputs": [],
   "source": []
  }
 ],
 "metadata": {
  "anaconda-cloud": {},
  "kernelspec": {
   "display_name": "Python 3 (ipykernel)",
   "language": "python",
   "name": "python3"
  },
  "language_info": {
   "codemirror_mode": {
    "name": "ipython",
    "version": 3
   },
   "file_extension": ".py",
   "mimetype": "text/x-python",
   "name": "python",
   "nbconvert_exporter": "python",
   "pygments_lexer": "ipython3",
   "version": "3.10.13"
  }
 },
 "nbformat": 4,
 "nbformat_minor": 4
}
