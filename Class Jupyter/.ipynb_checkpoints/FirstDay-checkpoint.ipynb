{
 "cells": [
  {
   "cell_type": "markdown",
   "id": "b4188a02-c396-4ef6-965d-50b309c08a04",
   "metadata": {},
   "source": [
    "# Astronomy 300 - Winter 2024\n",
    "\n",
    "### This is a Markdown cell"
   ]
  },
  {
   "cell_type": "raw",
   "id": "f292e549-cb45-4db7-8cc3-25fa0fe7f7e0",
   "metadata": {},
   "source": [
    "This is a Raw cell"
   ]
  },
  {
   "cell_type": "code",
   "execution_count": null,
   "id": "4cdc5f09-1db2-452e-bb22-66dff2304505",
   "metadata": {
    "tags": []
   },
   "outputs": [],
   "source": [
    "print(\"This is Code cell\")"
   ]
  },
  {
   "cell_type": "code",
   "execution_count": null,
   "id": "8b731792-ad5a-45f5-848f-3c4c73679b5f",
   "metadata": {},
   "outputs": [],
   "source": []
  }
 ],
 "metadata": {
  "kernelspec": {
   "display_name": "Python 3 (ipykernel)",
   "language": "python",
   "name": "python3"
  },
  "language_info": {
   "codemirror_mode": {
    "name": "ipython",
    "version": 3
   },
   "file_extension": ".py",
   "mimetype": "text/x-python",
   "name": "python",
   "nbconvert_exporter": "python",
   "pygments_lexer": "ipython3",
   "version": "3.10.10"
  }
 },
 "nbformat": 4,
 "nbformat_minor": 5
}
