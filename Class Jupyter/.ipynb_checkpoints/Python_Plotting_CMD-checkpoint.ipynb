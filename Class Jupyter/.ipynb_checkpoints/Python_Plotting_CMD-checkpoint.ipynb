{
 "cells": [
  {
   "cell_type": "markdown",
   "metadata": {},
   "source": [
    "# Annotating plots - Gaia - CMD"
   ]
  },
  {
   "cell_type": "code",
   "execution_count": null,
   "metadata": {
    "collapsed": false,
    "jupyter": {
     "outputs_hidden": false
    }
   },
   "outputs": [],
   "source": [
    "import matplotlib.pyplot as plt\n",
    "import numpy as np\n",
    "\n",
    "from matplotlib.patches import Rectangle, Circle, Ellipse, Polygon\n",
    "\n",
    "from astropy.table import QTable\n",
    "from astropy import units as u\n",
    "from astroquery.gaia import Gaia"
   ]
  },
  {
   "cell_type": "markdown",
   "metadata": {},
   "source": [
    "### NGC 2682 (M 67) is a very well studied open star cluster in the northern skies\n",
    "\n",
    "&nbsp;\n",
    "\n",
    "<p>\n",
    "<img src=\"https://uwashington-astro300.github.io/A300_images/M67.jpg\" width = \"500\">\n",
    "</p>\n",
    "\n",
    "\n",
    "- Right ascension: 08h 51.3m (132.825 deg)\n",
    "- Declination: +11° 49′ (11.817 deg)"
   ]
  },
  {
   "cell_type": "code",
   "execution_count": null,
   "metadata": {},
   "outputs": [],
   "source": [
    "my_object_ra = 132.825\n",
    "my_object_dec = 11.817"
   ]
  },
  {
   "cell_type": "markdown",
   "metadata": {},
   "source": [
    "---\n",
    "\n",
    "## Getting Good Gaia Data"
   ]
  },
  {
   "cell_type": "markdown",
   "metadata": {},
   "source": [
    "We have only used a small subset of the data availible in the `gaia_source_lite` database. Let's grab a another column to increase the quality of our data:\n",
    "\n",
    "[gaia_source_lite data columns](https://gaia.aip.de/metadata/gaiadr3/gaia_source_lite/)\n",
    "\n",
    "```\n",
    "parallax_over_error         Parallax divided by its standard error\n",
    "```"
   ]
  },
  {
   "cell_type": "markdown",
   "metadata": {},
   "source": [
    "The `parallax_over_error` column will allow use to get high quality parallax data. \n",
    "\n",
    "- It is very common to judge the quality of data by comparing the data (signal) to the error in the data (noise). \n",
    "- The ratio of the data / error is often called the signal-to-noise ratio (SNR). \n",
    "- The SNR for data is often referred to by a lower case sigma (σ)\n",
    "\n",
    "The `parallax_over_error` column is the SNR for the parallax data.\n",
    "\n",
    "What is considered a good SNR really depends on the particular situation. \n",
    "\n",
    "- As a very general rule of thumb is that a SNR of 10 (10σ) is high quality data. \n",
    "- A SNR of 3 (3σ) is considered \"barely detected\"."
   ]
  },
  {
   "cell_type": "markdown",
   "metadata": {},
   "source": [
    "## Gaia query for 10σ data for our target\n",
    "\n",
    "- Note the use of `f-string` and variables in the query\n",
    "- Gaia wants the object coordinates in degrees"
   ]
  },
  {
   "cell_type": "code",
   "execution_count": null,
   "metadata": {
    "tags": []
   },
   "outputs": [],
   "source": [
    "my_query = f\"\"\"\n",
    "SELECT TOP 1000\n",
    "source_id, ra, dec, phot_g_mean_mag, bp_rp, parallax, parallax_over_error\n",
    "FROM gaiadr3.gaia_source_lite\n",
    "WHERE DISTANCE( POINT({my_object_ra}, {my_object_dec}), POINT(ra, dec) ) < 0.3\n",
    "AND parallax_over_error > 10\n",
    "AND bp_rp IS NOT NULL\n",
    "ORDER BY parallax DESC\n",
    "\"\"\""
   ]
  },
  {
   "cell_type": "code",
   "execution_count": null,
   "metadata": {},
   "outputs": [],
   "source": [
    "print(my_query)"
   ]
  },
  {
   "cell_type": "code",
   "execution_count": null,
   "metadata": {},
   "outputs": [],
   "source": [
    "my_job_query = Gaia.launch_job(my_query)"
   ]
  },
  {
   "cell_type": "code",
   "execution_count": null,
   "metadata": {},
   "outputs": [],
   "source": [
    "print(my_job_query)"
   ]
  },
  {
   "cell_type": "code",
   "execution_count": null,
   "metadata": {},
   "outputs": [],
   "source": [
    "my_table = my_job_query.get_results()"
   ]
  },
  {
   "cell_type": "code",
   "execution_count": null,
   "metadata": {},
   "outputs": [],
   "source": [
    "my_table[0:2]"
   ]
  },
  {
   "cell_type": "markdown",
   "metadata": {},
   "source": [
    "### Use `parallax` and `phot_g_mean_mag` to get **distance** and **absolute magnitude**\n",
    "\n",
    "- Add then as columns to the data table"
   ]
  },
  {
   "cell_type": "code",
   "execution_count": null,
   "metadata": {},
   "outputs": [],
   "source": [
    "my_table['distance'] = my_table['parallax'].to(u.parsec, equivalencies=u.parallax())"
   ]
  },
  {
   "cell_type": "code",
   "execution_count": null,
   "metadata": {},
   "outputs": [],
   "source": [
    "my_table[0:2]"
   ]
  },
  {
   "cell_type": "code",
   "execution_count": null,
   "metadata": {},
   "outputs": [],
   "source": [
    "def find_absmag(my_gmag, my_distance):\n",
    "    result = my_gmag - 5 * np.log10( my_distance / (10 * u.parsec)) * u.mag\n",
    "    return result"
   ]
  },
  {
   "cell_type": "code",
   "execution_count": null,
   "metadata": {},
   "outputs": [],
   "source": [
    "my_table['abs_g'] = find_absmag(my_table['phot_g_mean_mag'], my_table['distance']) * u.mag"
   ]
  },
  {
   "cell_type": "code",
   "execution_count": null,
   "metadata": {},
   "outputs": [],
   "source": [
    "my_table[0:2]"
   ]
  },
  {
   "cell_type": "markdown",
   "metadata": {},
   "source": [
    "## Plot a histogram of the distances\n",
    "\n",
    "- All the stars in the cluster should have the same distance\n",
    "- Objects not in the cluster will have different distances"
   ]
  },
  {
   "cell_type": "code",
   "execution_count": null,
   "metadata": {},
   "outputs": [],
   "source": [
    "fig, ax = plt.subplot_mosaic(\n",
    "    '''\n",
    "    AB\n",
    "    ''',\n",
    "    figsize = (12, 4), \n",
    "    constrained_layout = True\n",
    ")\n",
    "\n",
    "ax['A'].set_xlabel(\"Distance (pc)\")\n",
    "ax['A'].set_ylabel(\"Number\")\n",
    "\n",
    "ax['A'].hist(my_table['distance'],\n",
    "        bins = 100,\n",
    "        histtype = 'stepfilled',\n",
    "        facecolor = 'MediumOrchid')\n",
    "\n",
    "ax['B'].set_xlim(0, 2000)\n",
    "\n",
    "ax['B'].set_xlabel(\"Distance (pc)\")\n",
    "ax['B'].set_ylabel(\"Number\")\n",
    "\n",
    "ax['B'].hist(my_table['distance'],\n",
    "        bins = 100,\n",
    "        histtype = 'stepfilled',\n",
    "        facecolor = 'MediumOrchid');"
   ]
  },
  {
   "cell_type": "markdown",
   "metadata": {},
   "source": [
    "## Pretty easy to see the cluster's distance\n",
    "\n",
    "- We will use distances between 750 pc and 1000 pc for cluster stars\n",
    "- The cluster distance from the literature is 800 - 900 pc, so these values seems fine."
   ]
  },
  {
   "cell_type": "code",
   "execution_count": null,
   "metadata": {},
   "outputs": [],
   "source": [
    "my_cluster_table = my_table[(my_table['distance'] > 750) &\n",
    "                            (my_table['distance'] < 1000)\n",
    "                           ]"
   ]
  },
  {
   "cell_type": "code",
   "execution_count": null,
   "metadata": {},
   "outputs": [],
   "source": [
    "len(my_cluster_table) / len(my_table)"
   ]
  },
  {
   "cell_type": "markdown",
   "metadata": {},
   "source": [
    "## Make a color magnitude diagram (CMD) of the object\n",
    "\n",
    "\n",
    "Color Magnitude Diagram (CMD) is a plot of Color Index vs. Magnitude. This is just a HR-diagram with a change of units.\n",
    "\n",
    "Some things we have to keep in mind when making a CMD\n",
    "\n",
    "- Color Index (X-axis) cover a very small range of values, we will need to adjust our axes accordingly.\n",
    "- Magnitudes (Y-axis) are backwards, we will need to adjust our axes accordingly."
   ]
  },
  {
   "cell_type": "markdown",
   "metadata": {},
   "source": [
    "#### `np.ptp()` returns the range of values (max - min) for an array (*P*eak *T*o *P*eak)"
   ]
  },
  {
   "cell_type": "code",
   "execution_count": null,
   "metadata": {},
   "outputs": [],
   "source": [
    "np.ptp(my_cluster_table['bp_rp'])"
   ]
  },
  {
   "cell_type": "code",
   "execution_count": null,
   "metadata": {},
   "outputs": [],
   "source": [
    "np.ptp(my_cluster_table['abs_g'])"
   ]
  },
  {
   "cell_type": "code",
   "execution_count": null,
   "metadata": {},
   "outputs": [],
   "source": [
    "fig, ax = plt.subplots(\n",
    "    figsize = (15, 15), \n",
    "    constrained_layout = True\n",
    ")\n",
    "\n",
    "# Color Index cover a very small range of values\n",
    "# Make 1 unit in X = 4 units in Y\n",
    "\n",
    "ax.set_aspect(1 / 4)\n",
    "\n",
    "# Magnitudes are backwards\n",
    "\n",
    "ax.set_ylim(-2.5,10)\n",
    "ax.invert_yaxis()\n",
    "\n",
    "###\n",
    "\n",
    "ax.set_xlabel(\"BP - RP\",\n",
    "              fontfamily = 'serif',\n",
    "              fontsize = 25)\n",
    "\n",
    "ax.set_ylabel(r\"$G_{M}$\",\n",
    "              fontfamily = 'serif',\n",
    "              fontsize = 25)\n",
    "\n",
    "ax.set_title(f\"M67 CMD\",\n",
    "             fontfamily = 'serif',\n",
    "             fontsize = 30)\n",
    "\n",
    "### Plot Data ###\n",
    "\n",
    "ax.plot(my_cluster_table['bp_rp'], my_cluster_table['abs_g'],\n",
    "        color = \"#4C0B5F\",\n",
    "        marker = \"o\",\n",
    "        linestyle = \"None\",\n",
    "        markersize = 5\n",
    "       );"
   ]
  },
  {
   "cell_type": "code",
   "execution_count": null,
   "metadata": {},
   "outputs": [],
   "source": []
  }
 ],
 "metadata": {
  "anaconda-cloud": {},
  "kernelspec": {
   "display_name": "Python 3 (ipykernel)",
   "language": "python",
   "name": "python3"
  },
  "language_info": {
   "codemirror_mode": {
    "name": "ipython",
    "version": 3
   },
   "file_extension": ".py",
   "mimetype": "text/x-python",
   "name": "python",
   "nbconvert_exporter": "python",
   "pygments_lexer": "ipython3",
   "version": "3.10.13"
  }
 },
 "nbformat": 4,
 "nbformat_minor": 4
}
