{
 "cells": [
  {
   "cell_type": "code",
   "execution_count": 1,
   "id": "9db72be2-717e-4691-acac-0814d190e632",
   "metadata": {},
   "outputs": [],
   "source": [
    "import numpy as np\n",
    "import sympy as sp\n",
    "import astropy.units as u\n",
    "\n",
    "import matplotlib.pyplot as plt\n",
    "from astropy.table import QTable"
   ]
  },
  {
   "cell_type": "markdown",
   "id": "964332f1-3132-4032-9eac-edc30db5de66",
   "metadata": {},
   "source": [
    "## Problem 1"
   ]
  },
  {
   "cell_type": "code",
   "execution_count": 2,
   "id": "2e2b426e-eaa2-4a34-922c-b72f024d47cc",
   "metadata": {},
   "outputs": [],
   "source": [
    "def M_imf(min_mass, max_mass, **kwargs):\n",
    "    nums = { # sets default values\n",
    "        'x' : \"x\",\n",
    "        'C' : \"C\" # omit C to get # of stars, include C to get % of population\n",
    "    } \n",
    "    nums.update(kwargs) # updates if values are set\n",
    "    print('kwargs updated')\n",
    "    \n",
    "    x = nums.get('x')\n",
    "    const = nums.get('C')\n",
    "    print(f\"x = {x}, C = {const}\") # confirming set params\n",
    "\n",
    "    C, n, M1, M2 = sp.symbols('C, x, M1, M2')\n",
    "    eq = C * ( 1/((n) * (M1**n)) - 1/((n) * (M2**n)) )\n",
    "    \n",
    "    print('equation set, calculating # of stars')\n",
    "    with sp.evaluate(False): # for visual confirmation\n",
    "        display(eq.subs({M1: min_mass, M2: max_mass, n: x, C: const})) \n",
    "    \n",
    "    exc = eq.subs({\n",
    "        M1: min_mass, \n",
    "        M2: max_mass, \n",
    "        n: x, \n",
    "        C: const\n",
    "    }).n(3)\n",
    "    return exc"
   ]
  },
  {
   "cell_type": "code",
   "execution_count": 3,
   "id": "aecfc7da-9f17-4613-9c53-bba27c2c4958",
   "metadata": {},
   "outputs": [
    {
     "name": "stdout",
     "output_type": "stream",
     "text": [
      "kwargs updated\n",
      "x = 1.35, C = C\n",
      "equation set, calculating # of stars\n"
     ]
    },
    {
     "data": {
      "text/latex": [
       "$\\displaystyle C \\left(- \\frac{1}{1.35 \\cdot 100^{1.35}} + \\frac{1}{1.35 \\cdot 10^{1.35}}\\right)$"
      ],
      "text/plain": [
       "C*(-1/(1.35*100**1.35) + 1/(1.35*10**1.35))"
      ]
     },
     "metadata": {},
     "output_type": "display_data"
    },
    {
     "data": {
      "text/latex": [
       "$\\displaystyle 0.0316 C$"
      ],
      "text/plain": [
       "0.0316*C"
      ]
     },
     "execution_count": 3,
     "metadata": {},
     "output_type": "execute_result"
    }
   ],
   "source": [
    "M_imf(10, 100, x=1.35) # testing"
   ]
  },
  {
   "cell_type": "code",
   "execution_count": 4,
   "id": "e406042b-9559-40a9-a7c8-7d78f41caef1",
   "metadata": {},
   "outputs": [],
   "source": [
    "def L_imf(min_lume, max_lume, **kwargs):\n",
    "    nums = { # sets default values\n",
    "        'x' : \"x\",\n",
    "        'C' : \"C\", # omit C to get # of stars, include C to get % of population\n",
    "        'a' : 'a'\n",
    "    } \n",
    "    nums.update(kwargs) # updates if values are set\n",
    "    print('kwargs updated')\n",
    "    \n",
    "    x = nums.get('x')\n",
    "    const = nums.get('C')\n",
    "    a = nums.get('a')\n",
    "    print(f\"x = {x}, C = {const}, a = {a}\") # confirming set params\n",
    "\n",
    "    C, n, L1, L2 = sp.symbols('C, x, L1, L2')\n",
    "    eq = C * ( 1/((n) * (L1**n)) - 1/((n) * (L2**n)) )\n",
    "    \n",
    "    print('equation set, calculating # of stars')\n",
    "    with sp.evaluate(False): # for visual confirmation\n",
    "        display(eq.subs({\n",
    "            L1: min_lume**sp.Rational(1, a), \n",
    "            L2: max_lume**sp.Rational(1, a), \n",
    "            n: x, \n",
    "            C: const\n",
    "        })) \n",
    "    \n",
    "    exc = eq.subs({\n",
    "        L1: min_lume**sp.Rational(1, a), \n",
    "        L2: max_lume**sp.Rational(1, a), \n",
    "        n: x, \n",
    "        C: const\n",
    "    }).n(3)\n",
    "    return exc"
   ]
  },
  {
   "cell_type": "code",
   "execution_count": 5,
   "id": "aaae5aef-baca-432c-9f60-993b17ca847d",
   "metadata": {},
   "outputs": [
    {
     "name": "stdout",
     "output_type": "stream",
     "text": [
      "kwargs updated\n",
      "x = 1.35, C = C, a = 4\n",
      "equation set, calculating # of stars\n"
     ]
    },
    {
     "data": {
      "text/latex": [
       "$\\displaystyle C \\left(- \\frac{1}{1.35 \\left(\\sqrt[4]{100}\\right)^{1.35}} + \\frac{1}{1.35 \\left(\\sqrt[4]{10}\\right)^{1.35}}\\right)$"
      ],
      "text/plain": [
       "C*(-1/(1.35*(100**(1/4))**1.35) + 1/(1.35*(10**(1/4))**1.35))"
      ]
     },
     "metadata": {},
     "output_type": "display_data"
    },
    {
     "data": {
      "text/latex": [
       "$\\displaystyle 0.184 C$"
      ],
      "text/plain": [
       "0.184*C"
      ]
     },
     "execution_count": 5,
     "metadata": {},
     "output_type": "execute_result"
    }
   ],
   "source": [
    "L_imf(10, 100, a=4, x=1.35) # testing"
   ]
  },
  {
   "cell_type": "code",
   "execution_count": 6,
   "id": "3cc9a9ba-db22-43e0-9c11-26a70995b003",
   "metadata": {},
   "outputs": [],
   "source": [
    "salpeter = 1.35\n",
    "\n",
    "min_sfrdensity = 4.5 * (u.solMass*u.G / ((u.pc**2) * u.yr))\n",
    "max_sfrdensity = 5.5 * (u.solMass*u.G / ((u.pc**2) * u.yr))\n",
    "\n",
    "mean_ism = 0.25 * u.solMass\n",
    "\n",
    "mw_radius = 10 * (1000 * u.pc)"
   ]
  },
  {
   "cell_type": "markdown",
   "id": "647cea72-6d5a-4879-b9b7-a36c7cd91a1a",
   "metadata": {},
   "source": [
    "### Part a \n",
    "Use the values given above to estimate the approximate global star formation rate in \n",
    "𝑀⨀ yr-1 for the Milky Way."
   ]
  },
  {
   "cell_type": "code",
   "execution_count": 7,
   "id": "6d1989cd-769d-428f-b144-f05ff672aca6",
   "metadata": {},
   "outputs": [
    {
     "name": "stdout",
     "output_type": "stream",
     "text": [
      "kwargs updated\n",
      "x = 1.35, C = C\n",
      "equation set, calculating # of stars\n"
     ]
    },
    {
     "data": {
      "text/latex": [
       "$\\displaystyle C \\left(- \\frac{1}{1.35 \\cdot 100^{1.35}} + \\frac{1}{1.35 \\cdot 0.07^{1.35}}\\right)$"
      ],
      "text/plain": [
       "C*(-1/(1.35*100**1.35) + 1/(0.07**1.35*1.35))"
      ]
     },
     "metadata": {},
     "output_type": "display_data"
    },
    {
     "data": {
      "text/latex": [
       "$\\displaystyle 26.8 C$"
      ],
      "text/plain": [
       "26.8*C"
      ]
     },
     "execution_count": 7,
     "metadata": {},
     "output_type": "execute_result"
    }
   ],
   "source": [
    "p1a = M_imf(0.07, 100, x = salpeter)\n",
    "p1a"
   ]
  },
  {
   "cell_type": "markdown",
   "id": "17dc6973-4e31-4f6f-95e5-16c379a61907",
   "metadata": {},
   "source": [
    "### Part b"
   ]
  },
  {
   "cell_type": "markdown",
   "id": "a0f870cc-bd9c-4d33-91ed-ee9267ec5be3",
   "metadata": {},
   "source": [
    "### Part c"
   ]
  },
  {
   "cell_type": "markdown",
   "id": "c7d0183c-1fdb-49a7-ad0c-0494e46c99f8",
   "metadata": {},
   "source": [
    "### Part d"
   ]
  },
  {
   "cell_type": "markdown",
   "id": "11dc2517-28be-4581-b392-42f0f6a6f809",
   "metadata": {},
   "source": [
    "### Part e"
   ]
  },
  {
   "cell_type": "markdown",
   "id": "54544f05-add7-453c-8baa-23cb32ee8d13",
   "metadata": {},
   "source": [
    "### Part f"
   ]
  },
  {
   "cell_type": "markdown",
   "id": "c23ef43f-33b1-4103-8b03-76624440c5b3",
   "metadata": {},
   "source": [
    "### Part g"
   ]
  },
  {
   "cell_type": "markdown",
   "id": "b105821e-2980-4582-85ca-0cf3076d9cdc",
   "metadata": {},
   "source": [
    "### Part h"
   ]
  },
  {
   "cell_type": "markdown",
   "id": "b7d9f1e3-0845-4e97-ae89-019ee8dbc17d",
   "metadata": {},
   "source": [
    "## Problem 2"
   ]
  },
  {
   "cell_type": "markdown",
   "id": "53350628-3b07-4cbf-9fb0-e8ff67fde9b8",
   "metadata": {},
   "source": [
    "### Part a"
   ]
  },
  {
   "cell_type": "markdown",
   "id": "076877f9-1935-42bb-aa77-027fb2f4f6a8",
   "metadata": {},
   "source": [
    "### Part b"
   ]
  },
  {
   "cell_type": "markdown",
   "id": "057194f0-b31f-4536-ac6e-9144a059857b",
   "metadata": {},
   "source": [
    "### Part c"
   ]
  },
  {
   "cell_type": "markdown",
   "id": "703a4466-6af3-4ca7-b5fb-4845bca951f9",
   "metadata": {},
   "source": [
    "### Part d"
   ]
  },
  {
   "cell_type": "markdown",
   "id": "7a52737c-ac37-4e5b-931f-43253ef27519",
   "metadata": {},
   "source": [
    "### Part e"
   ]
  },
  {
   "cell_type": "markdown",
   "id": "a0b8f757-f230-4384-8fe5-f7fec2af3b90",
   "metadata": {},
   "source": [
    "### Part f"
   ]
  },
  {
   "cell_type": "markdown",
   "id": "9c78e6cf-5267-4cf1-b3db-da969877b586",
   "metadata": {},
   "source": [
    "### Part g"
   ]
  },
  {
   "cell_type": "markdown",
   "id": "b1e473f5-e30a-4de4-a532-d5ff6cac7d22",
   "metadata": {},
   "source": [
    "### Part h"
   ]
  }
 ],
 "metadata": {
  "kernelspec": {
   "display_name": "Python 3 (ipykernel)",
   "language": "python",
   "name": "python3"
  },
  "language_info": {
   "codemirror_mode": {
    "name": "ipython",
    "version": 3
   },
   "file_extension": ".py",
   "mimetype": "text/x-python",
   "name": "python",
   "nbconvert_exporter": "python",
   "pygments_lexer": "ipython3",
   "version": "3.10.13"
  }
 },
 "nbformat": 4,
 "nbformat_minor": 5
}
